{
 "cells": [
  {
   "cell_type": "code",
   "execution_count": 193,
   "id": "5bf57075",
   "metadata": {},
   "outputs": [],
   "source": [
    "from pprint import pprint \n",
    "\n",
    "# !pip install pymongo\n",
    "import pymongo\n",
    "myclient = pymongo.MongoClient(\"mongodb://localhost:27017/\")\n",
    "\n",
    "mydb = myclient[\"dd\"]"
   ]
  },
  {
   "cell_type": "markdown",
   "id": "3260f711",
   "metadata": {},
   "source": [
    "### 1. Створіть декілька товарів з різним набором властивостей Phone/TV/Smart Watch/ .... \n",
    "\n",
    "Наприклад:\n",
    "{\n",
    "\t\"category\" : \"Phone\",\n",
    "\t\"model\" : \"iPhone 6\",\n",
    "\t\"producer\" : \"Apple\",\n",
    "\t\"price\" : 600\n",
    "}\n"
   ]
  },
  {
   "cell_type": "code",
   "execution_count": 233,
   "id": "40728f10",
   "metadata": {},
   "outputs": [
    {
     "data": {
      "text/plain": [
       "InsertManyResult([ObjectId('65e781ed217a595928553077'), ObjectId('65e781ed217a595928553078'), ObjectId('65e781ed217a595928553079'), ObjectId('65e781ed217a59592855307a')], acknowledged=True)"
      ]
     },
     "execution_count": 233,
     "metadata": {},
     "output_type": "execute_result"
    }
   ],
   "source": [
    "# items.drop()\n",
    "items = mydb[\"items\"]\n",
    "dataset = [{\n",
    "  \"category\": \"Phone\",\n",
    "  \"model\": \"iPhone 6\",\n",
    "  \"producer\": \"Apple\",\n",
    "  \"price\": 600\n",
    "},\n",
    "{\n",
    "  \"category\": \"Laptop\",\n",
    "  \"model\": \"MacBook Pro\",\n",
    "  \"producer\": \"Apple\",\n",
    "  \"price\": 2400\n",
    "},\n",
    "{\n",
    "  \"category\": \"Washing machine\",\n",
    "  \"model\": \"LX-57348\",\n",
    "  \"producer\": \"LG\",\n",
    "  \"price\": 750\n",
    "},\n",
    "{\n",
    "  \"category\": \"TV\",\n",
    "  \"model\": \"SM-LED-FULL-PLUS\",\n",
    "  \"producer\": \"Samsung\",\n",
    "  \"price\": 4200\n",
    "}]\n",
    "\n",
    "items.insert_many(dataset)"
   ]
  },
  {
   "cell_type": "markdown",
   "id": "e299e3b0",
   "metadata": {},
   "source": [
    "### 2. Напишіть запит, який виводіть усі товари (відображення у JSON)"
   ]
  },
  {
   "cell_type": "code",
   "execution_count": 234,
   "id": "ffe264ed",
   "metadata": {},
   "outputs": [
    {
     "name": "stdout",
     "output_type": "stream",
     "text": [
      "{'_id': ObjectId('65e781ed217a595928553077'),\n",
      " 'category': 'Phone',\n",
      " 'model': 'iPhone 6',\n",
      " 'price': 600,\n",
      " 'producer': 'Apple'}\n",
      "{'_id': ObjectId('65e781ed217a595928553078'),\n",
      " 'category': 'Laptop',\n",
      " 'model': 'MacBook Pro',\n",
      " 'price': 2400,\n",
      " 'producer': 'Apple'}\n",
      "{'_id': ObjectId('65e781ed217a595928553079'),\n",
      " 'category': 'Washing machine',\n",
      " 'model': 'LX-57348',\n",
      " 'price': 750,\n",
      " 'producer': 'LG'}\n",
      "{'_id': ObjectId('65e781ed217a59592855307a'),\n",
      " 'category': 'TV',\n",
      " 'model': 'SM-LED-FULL-PLUS',\n",
      " 'price': 4200,\n",
      " 'producer': 'Samsung'}\n"
     ]
    }
   ],
   "source": [
    "for x in items.find():\n",
    "    pprint(x)"
   ]
  },
  {
   "cell_type": "markdown",
   "id": "6bebc167",
   "metadata": {},
   "source": [
    "### 3. Підрахуйте скільки товарів у певної категорії"
   ]
  },
  {
   "cell_type": "code",
   "execution_count": 235,
   "id": "1520701c",
   "metadata": {},
   "outputs": [
    {
     "name": "stdout",
     "output_type": "stream",
     "text": [
      "{'Phone amount': 1}\n"
     ]
    }
   ],
   "source": [
    "query = [\n",
    "  {\n",
    "    \"$match\": {\n",
    "      \"category\": \"Phone\",\n",
    "    },\n",
    "  },\n",
    "  {\n",
    "    \"$count\":\n",
    "      \"Phone amount\",\n",
    "  },\n",
    "    ]\n",
    "\n",
    "for x in items.aggregate(query):\n",
    "    pprint(x)"
   ]
  },
  {
   "cell_type": "markdown",
   "id": "e412b5d9",
   "metadata": {},
   "source": [
    "### 4. Підрахуйте скільки є різних категорій товарів"
   ]
  },
  {
   "cell_type": "code",
   "execution_count": 236,
   "id": "60832ce9",
   "metadata": {},
   "outputs": [
    {
     "name": "stdout",
     "output_type": "stream",
     "text": [
      "{'Unique Categories': 4}\n"
     ]
    }
   ],
   "source": [
    "query = [\n",
    "  {\n",
    "    \"$group\":\n",
    "      {\n",
    "        \"_id\": \"$category\",\n",
    "      },\n",
    "  },\n",
    "  {\n",
    "    \"$count\":\n",
    "      \"Unique Categories\",\n",
    "  },\n",
    "]\n",
    "\n",
    "for x in items.aggregate(query):\n",
    "    pprint(x)"
   ]
  },
  {
   "cell_type": "markdown",
   "id": "65557f6d",
   "metadata": {},
   "source": [
    "### 5. Виведіть список всіх виробників товарів без повторів"
   ]
  },
  {
   "cell_type": "code",
   "execution_count": 237,
   "id": "ef4d139e",
   "metadata": {},
   "outputs": [
    {
     "name": "stdout",
     "output_type": "stream",
     "text": [
      "{'_id': 'Apple'}\n",
      "{'_id': 'LG'}\n",
      "{'_id': 'Samsung'}\n"
     ]
    }
   ],
   "source": [
    "query = [\n",
    "  {\n",
    "    \"$group\": {\n",
    "      \"_id\": \"$producer\",\n",
    "    },\n",
    "  },\n",
    "]\n",
    "\n",
    "for x in items.aggregate(query):\n",
    "    pprint(x)"
   ]
  },
  {
   "cell_type": "markdown",
   "id": "e895bfea",
   "metadata": {},
   "source": [
    "### 6. Напишіть запити, які вибирають товари за різними критеріям і їх сукупності: \n",
    "\n",
    "#### - категорія та ціна (в проміжку) - конструкція $and, \n",
    "\n",
    "\n",
    "\n",
    "#### - модель чи одна чи інша - конструкція $or,\n",
    "\n",
    "\n",
    "#### - виробники з переліку - конструкція $in"
   ]
  },
  {
   "cell_type": "code",
   "execution_count": 238,
   "id": "35787aed",
   "metadata": {},
   "outputs": [
    {
     "name": "stdout",
     "output_type": "stream",
     "text": [
      "'6.A result'\n",
      "{'_id': ObjectId('65e781ed217a595928553077'),\n",
      " 'category': 'Phone',\n",
      " 'model': 'iPhone 6',\n",
      " 'price': 600,\n",
      " 'producer': 'Apple'}\n",
      "{'_id': ObjectId('65e781ed217a595928553079'),\n",
      " 'category': 'Washing machine',\n",
      " 'model': 'LX-57348',\n",
      " 'price': 750,\n",
      " 'producer': 'LG'}\n"
     ]
    }
   ],
   "source": [
    "query_a = {\"$and\": [{\"price\": {\"$lt\": 1000}}, {\"price\": {\"$gte\": 500}}]}\n",
    "\n",
    "print('6.A result')\n",
    "for x in items.find(query_a):\n",
    "    pprint(x)"
   ]
  },
  {
   "cell_type": "code",
   "execution_count": 239,
   "id": "e8d80a91",
   "metadata": {},
   "outputs": [
    {
     "name": "stdout",
     "output_type": "stream",
     "text": [
      "'6.B result'\n",
      "{'_id': ObjectId('65e781ed217a595928553077'),\n",
      " 'category': 'Phone',\n",
      " 'model': 'iPhone 6',\n",
      " 'price': 600,\n",
      " 'producer': 'Apple'}\n",
      "{'_id': ObjectId('65e781ed217a595928553078'),\n",
      " 'category': 'Laptop',\n",
      " 'model': 'MacBook Pro',\n",
      " 'price': 2400,\n",
      " 'producer': 'Apple'}\n"
     ]
    }
   ],
   "source": [
    "query_b = {\"$or\": [{ \"model\":'iPhone 6'}, {\"model\": \"MacBook Pro\"}]}\n",
    "\n",
    "print('6.B result')\n",
    "for x in items.find(query_b):\n",
    "    pprint(x)"
   ]
  },
  {
   "cell_type": "code",
   "execution_count": 240,
   "id": "f5dab9d7",
   "metadata": {},
   "outputs": [
    {
     "name": "stdout",
     "output_type": "stream",
     "text": [
      "'6.C result'\n",
      "{'_id': ObjectId('65e781ed217a595928553077'),\n",
      " 'category': 'Phone',\n",
      " 'model': 'iPhone 6',\n",
      " 'price': 600,\n",
      " 'producer': 'Apple'}\n",
      "{'_id': ObjectId('65e781ed217a595928553078'),\n",
      " 'category': 'Laptop',\n",
      " 'model': 'MacBook Pro',\n",
      " 'price': 2400,\n",
      " 'producer': 'Apple'}\n",
      "{'_id': ObjectId('65e781ed217a59592855307a'),\n",
      " 'category': 'TV',\n",
      " 'model': 'SM-LED-FULL-PLUS',\n",
      " 'price': 4200,\n",
      " 'producer': 'Samsung'}\n"
     ]
    }
   ],
   "source": [
    "query_c = {\"producer\": {\"$in\": ['Apple', 'Samsung']}}\n",
    "\n",
    "print('6.C result')\n",
    "for x in items.find(query_c):\n",
    "    pprint(x)"
   ]
  },
  {
   "cell_type": "markdown",
   "id": "b8fcc863",
   "metadata": {},
   "source": [
    "### 7. Оновить певні товари, змінивши існуючі значення і додайте нові властивості (характеристики) усім товарам за певним критерієм"
   ]
  },
  {
   "cell_type": "code",
   "execution_count": 241,
   "id": "c701e705",
   "metadata": {},
   "outputs": [
    {
     "name": "stdout",
     "output_type": "stream",
     "text": [
      "{'_id': ObjectId('65e781ed217a595928553077'),\n",
      " 'category': 'Phone',\n",
      " 'model': 'iPhone 6',\n",
      " 'newField': 'expensive product',\n",
      " 'price': 1020.0,\n",
      " 'producer': 'Apple'}\n",
      "{'_id': ObjectId('65e781ed217a595928553078'),\n",
      " 'category': 'Laptop',\n",
      " 'model': 'MacBook Pro',\n",
      " 'newField': 'expensive product',\n",
      " 'price': 2640.0,\n",
      " 'producer': 'Apple'}\n",
      "{'_id': ObjectId('65e781ed217a595928553079'),\n",
      " 'category': 'Washing machine',\n",
      " 'model': 'LX-57348',\n",
      " 'newField': 'expensive product',\n",
      " 'price': 1275.0,\n",
      " 'producer': 'LG'}\n",
      "{'_id': ObjectId('65e781ed217a59592855307a'),\n",
      " 'category': 'TV',\n",
      " 'model': 'SM-LED-FULL-PLUS',\n",
      " 'newField': 'expensive product',\n",
      " 'price': 4620.0,\n",
      " 'producer': 'Samsung'}\n"
     ]
    }
   ],
   "source": [
    "query_update_existing_field = [\n",
    "  {\n",
    "    \"$set\": {\n",
    "      \"price\": {\n",
    "        \"$cond\": {\n",
    "          \"if\": {\n",
    "            \"$gte\": [\"$price\", 1000],\n",
    "          },\n",
    "          \"then\": {\"$multiply\":[\"$price\", 1.1]},\n",
    "          \"else\": {\"$multiply\":[\"$price\", 1.7]},\n",
    "        },\n",
    "      },\n",
    "    },\n",
    "  },\n",
    "]\n",
    "\n",
    "query_update_add_new_field = [\n",
    "  {\n",
    "    \"$set\": {\n",
    "      \"newField\": {\n",
    "        \"$cond\": {\n",
    "          \"if\": {\n",
    "            \"$gte\": [\"$price\", 1000],\n",
    "          },\n",
    "          \"then\": \"expensive product\",\n",
    "          \"else\": \"usual product\",\n",
    "        },\n",
    "      },\n",
    "    },\n",
    "  },\n",
    "]\n",
    "\n",
    "# Change value for price\n",
    "items.update_many({}, query_update_existing_field)\n",
    "\n",
    "# Add new value base on price query\n",
    "items.update_many({}, query_update_add_new_field)\n",
    "\n",
    "# OUTPUT new dataset\n",
    "for x in items.find():\n",
    "    print(x)"
   ]
  },
  {
   "cell_type": "markdown",
   "id": "5b120d54",
   "metadata": {},
   "source": [
    "### 8. Знайдіть товари у яких є (присутнє поле) певні властивості\n",
    "### 9. Для знайдених товарів збільшіть їх вартість на певну суму"
   ]
  },
  {
   "cell_type": "code",
   "execution_count": 242,
   "id": "a1ea31ae",
   "metadata": {},
   "outputs": [
    {
     "name": "stdout",
     "output_type": "stream",
     "text": [
      "{'_id': ObjectId('65e781ed217a595928553077'),\n",
      " 'category': 'Phone',\n",
      " 'model': 'iPhone 6',\n",
      " 'newField': 'expensive product',\n",
      " 'price': 1020.0,\n",
      " 'producer': 'Apple'}\n",
      "{'_id': ObjectId('65e781ed217a595928553078'),\n",
      " 'category': 'Laptop',\n",
      " 'model': 'MacBook Pro',\n",
      " 'newField': 'expensive product',\n",
      " 'price': 2640.0,\n",
      " 'producer': 'Apple'}\n"
     ]
    },
    {
     "data": {
      "text/plain": [
       "UpdateResult({'n': 2, 'nModified': 2, 'ok': 1.0, 'updatedExisting': True}, acknowledged=True)"
      ]
     },
     "execution_count": 242,
     "metadata": {},
     "output_type": "execute_result"
    }
   ],
   "source": [
    "query_8 = {\n",
    "        \"producer\": \"Apple\",\n",
    "      }\n",
    "\n",
    "for x in items.find(query_8):\n",
    "    pprint(x)\n",
    "\n",
    "\n",
    "      \n",
    "query_9 = [{\n",
    "    \"$set\": {\n",
    "      \"price\": {\"$add\":[\"$price\", 200]},\n",
    "      },\n",
    "    }]\n",
    "\n",
    "items.update_many(query_8, query_9)"
   ]
  },
  {
   "cell_type": "code",
   "execution_count": 244,
   "id": "03e0cf42",
   "metadata": {},
   "outputs": [
    {
     "name": "stdout",
     "output_type": "stream",
     "text": [
      "{'_id': ObjectId('65e781ed217a595928553077'),\n",
      " 'category': 'Phone',\n",
      " 'model': 'iPhone 6',\n",
      " 'newField': 'expensive product',\n",
      " 'price': 1220.0,\n",
      " 'producer': 'Apple'}\n",
      "{'_id': ObjectId('65e781ed217a595928553078'),\n",
      " 'category': 'Laptop',\n",
      " 'model': 'MacBook Pro',\n",
      " 'newField': 'expensive product',\n",
      " 'price': 2840.0,\n",
      " 'producer': 'Apple'}\n",
      "{'_id': ObjectId('65e781ed217a595928553079'),\n",
      " 'category': 'Washing machine',\n",
      " 'model': 'LX-57348',\n",
      " 'newField': 'expensive product',\n",
      " 'price': 1275.0,\n",
      " 'producer': 'LG'}\n",
      "{'_id': ObjectId('65e781ed217a59592855307a'),\n",
      " 'category': 'TV',\n",
      " 'model': 'SM-LED-FULL-PLUS',\n",
      " 'newField': 'expensive product',\n",
      " 'price': 4620.0,\n",
      " 'producer': 'Samsung'}\n"
     ]
    }
   ],
   "source": [
    "# OUTPUT new dataset\n",
    "for x in items.find():\n",
    "    print(x)"
   ]
  },
  {
   "cell_type": "markdown",
   "id": "54bd1849",
   "metadata": {},
   "source": [
    "### Товари ви додаєте в замовлення - orders, яке містити вартість, ім'я замовника, і адресу доставки.\n",
    "#### Товари (items) в замовленні (order) повинні бути представлені у вигляді references, а замовник (customer) у вигляді embed\n",
    "##### Приклад моделювання: https://docs.mongodb.com/manual/tutorial/model-referenced-one-to-many-relationships-between-documents/ \n"
   ]
  },
  {
   "cell_type": "code",
   "execution_count": 245,
   "id": "b27cf40f",
   "metadata": {},
   "outputs": [
    {
     "data": {
      "text/plain": [
       "DeleteResult({'n': 0, 'ok': 1.0}, acknowledged=True)"
      ]
     },
     "execution_count": 245,
     "metadata": {},
     "output_type": "execute_result"
    }
   ],
   "source": [
    "# orders.drop()\n",
    "orders = mydb[\"orders\"]\n",
    "orders.delete_many({})"
   ]
  },
  {
   "cell_type": "markdown",
   "id": "fcc64077",
   "metadata": {},
   "source": [
    "### 1. Створіть кілька замовлень з різними наборами товарів, але так щоб один з товарів був у декількох замовленнях"
   ]
  },
  {
   "cell_type": "code",
   "execution_count": 246,
   "id": "c09613ec",
   "metadata": {},
   "outputs": [
    {
     "data": {
      "text/plain": [
       "InsertManyResult([ObjectId('65e7821b217a59592855307b'), ObjectId('65e7821b217a59592855307c'), ObjectId('65e7821b217a59592855307d'), ObjectId('65e7821b217a59592855307e')], acknowledged=True)"
      ]
     },
     "execution_count": 246,
     "metadata": {},
     "output_type": "execute_result"
    }
   ],
   "source": [
    "dataset = [\n",
    "    {\n",
    "      \"order_number\": 201513,\n",
    "      \"date\": \"2015-04-14\",\n",
    "      \"total_sum\": 1923.4,\n",
    "      \"customer\": {\n",
    "        \"name\": \"Andrii\",\n",
    "        \"surname\": \"Rodinov\",\n",
    "        \"phones\": [\n",
    "          9876543,\n",
    "          1234567\n",
    "        ],\n",
    "        \"address\": \"PTI, Peremohy 37, Kyiv, UA\"\n",
    "      },\n",
    "      \"payment\": {\n",
    "        \"card_owner\": \"Andrii Rodionov\",\n",
    "        \"cardId\": 12345678\n",
    "      },\n",
    "      \"items_id\": [\n",
    "        \"65e75653217a595928552f00\",\n",
    "        \"65e75653217a595928552f01\"\n",
    "      ]\n",
    "    },\n",
    "    {\n",
    "      \"order_number\": 201513,\n",
    "      \"date\": \"2023-04-14\",\n",
    "      \"total_sum\": 1923.4,\n",
    "      \"customer\": {\n",
    "        \"name\": \"Nikita\",\n",
    "        \"surname\": \"Ochinskiy\",\n",
    "        \"phones\": [\n",
    "          312312412,\n",
    "          4123213\n",
    "        ],\n",
    "        \"address\": \"PTI, Peremohy 37, Odesa, UA\"\n",
    "      },\n",
    "      \"payment\": {\n",
    "        \"card_owner\": \"Nikita Ochinskiy\",\n",
    "        \"cardId\": {\n",
    "          \"$numberLong\": \"1234567812398723\"\n",
    "        }\n",
    "      },\n",
    "      \"items_id\": [\n",
    "        \"65e75653217a595928552f00\",\n",
    "        \"65e75653217a595928552f02\"\n",
    "      ]\n",
    "    },\n",
    "    {\n",
    "      \"order_number\": 4911134,\n",
    "      \"date\": \"2012-04-14\",\n",
    "      \"total_sum\": 1923.4,\n",
    "      \"customer\": {\n",
    "        \"name\": \"Loza\",\n",
    "        \"surname\": \"Bandura\",\n",
    "        \"phones\": [\n",
    "          {\n",
    "            \"$numberLong\": \"98765435334\"\n",
    "          },\n",
    "          1234567434\n",
    "        ],\n",
    "        \"address\": \"PTI, Peremohy 37, Kyiv, UA\"\n",
    "      },\n",
    "      \"payment\": {\n",
    "        \"card_owner\": \"Loza Bandura\",\n",
    "        \"cardId\": {\n",
    "          \"$numberLong\": \"12345678123124\"\n",
    "        }\n",
    "      },\n",
    "      \"items_id\": [\n",
    "        \"65e75653217a595928552f02\",\n",
    "        \"65e75653217a595928552f03\"\n",
    "      ]\n",
    "    },\n",
    "    {\n",
    "      \"order_number\": {\n",
    "        \"$numberLong\": \"4911134412\"\n",
    "      },\n",
    "      \"date\": \"2012-09-14\",\n",
    "      \"total_sum\": 1923.4,\n",
    "      \"customer\": {\n",
    "        \"name\": \"Koza\",\n",
    "        \"surname\": \"Zandura\",\n",
    "        \"phones\": [\n",
    "          {\n",
    "            \"$numberLong\": \"98765435334\"\n",
    "          },\n",
    "          1234567434\n",
    "        ],\n",
    "        \"address\": \"PTI, Asdas 37, Kyiv, UA\"\n",
    "      },\n",
    "      \"payment\": {\n",
    "        \"card_owner\": \"Loza Bsas\",\n",
    "        \"cardId\": {\n",
    "          \"$numberLong\": \"12345678123124\"\n",
    "        }\n",
    "      },\n",
    "      \"items_id\": [\n",
    "        \"65e75653217a595928552f01\",\n",
    "        \"65e75653217a595928552f03\"\n",
    "      ]\n",
    "    }\n",
    "  ]\n",
    "\n",
    "orders.insert_many(dataset)"
   ]
  },
  {
   "cell_type": "markdown",
   "id": "8432ddce",
   "metadata": {},
   "source": [
    "### 2. Виведіть всі замовлення"
   ]
  },
  {
   "cell_type": "code",
   "execution_count": 247,
   "id": "620a4661",
   "metadata": {},
   "outputs": [
    {
     "name": "stdout",
     "output_type": "stream",
     "text": [
      "{'_id': ObjectId('65e7821b217a59592855307b'),\n",
      " 'customer': {'address': 'PTI, Peremohy 37, Kyiv, UA',\n",
      "              'name': 'Andrii',\n",
      "              'phones': [9876543, 1234567],\n",
      "              'surname': 'Rodinov'},\n",
      " 'date': '2015-04-14',\n",
      " 'items_id': ['65e75653217a595928552f00', '65e75653217a595928552f01'],\n",
      " 'order_number': 201513,\n",
      " 'payment': {'cardId': 12345678, 'card_owner': 'Andrii Rodionov'},\n",
      " 'total_sum': 1923.4}\n",
      "{'_id': ObjectId('65e7821b217a59592855307c'),\n",
      " 'customer': {'address': 'PTI, Peremohy 37, Odesa, UA',\n",
      "              'name': 'Nikita',\n",
      "              'phones': [312312412, 4123213],\n",
      "              'surname': 'Ochinskiy'},\n",
      " 'date': '2023-04-14',\n",
      " 'items_id': ['65e75653217a595928552f00', '65e75653217a595928552f02'],\n",
      " 'order_number': 201513,\n",
      " 'payment': {'cardId': {'$numberLong': '1234567812398723'},\n",
      "             'card_owner': 'Nikita Ochinskiy'},\n",
      " 'total_sum': 1923.4}\n",
      "{'_id': ObjectId('65e7821b217a59592855307d'),\n",
      " 'customer': {'address': 'PTI, Peremohy 37, Kyiv, UA',\n",
      "              'name': 'Loza',\n",
      "              'phones': [{'$numberLong': '98765435334'}, 1234567434],\n",
      "              'surname': 'Bandura'},\n",
      " 'date': '2012-04-14',\n",
      " 'items_id': ['65e75653217a595928552f02', '65e75653217a595928552f03'],\n",
      " 'order_number': 4911134,\n",
      " 'payment': {'cardId': {'$numberLong': '12345678123124'},\n",
      "             'card_owner': 'Loza Bandura'},\n",
      " 'total_sum': 1923.4}\n",
      "{'_id': ObjectId('65e7821b217a59592855307e'),\n",
      " 'customer': {'address': 'PTI, Asdas 37, Kyiv, UA',\n",
      "              'name': 'Koza',\n",
      "              'phones': [{'$numberLong': '98765435334'}, 1234567434],\n",
      "              'surname': 'Zandura'},\n",
      " 'date': '2012-09-14',\n",
      " 'items_id': ['65e75653217a595928552f01', '65e75653217a595928552f03'],\n",
      " 'order_number': {'$numberLong': '4911134412'},\n",
      " 'payment': {'cardId': {'$numberLong': '12345678123124'},\n",
      "             'card_owner': 'Loza Bsas'},\n",
      " 'total_sum': 1923.4}\n"
     ]
    }
   ],
   "source": [
    "for x in orders.find():\n",
    "    pprint(x)"
   ]
  },
  {
   "cell_type": "markdown",
   "id": "cc68f413",
   "metadata": {},
   "source": [
    "### 3. Виведіть замовлення з вартістю більше певного значення"
   ]
  },
  {
   "cell_type": "code",
   "execution_count": 248,
   "id": "d86868db",
   "metadata": {},
   "outputs": [
    {
     "name": "stdout",
     "output_type": "stream",
     "text": [
      "{'_id': ObjectId('65e7821b217a59592855307b'),\n",
      " 'customer': {'address': 'PTI, Peremohy 37, Kyiv, UA',\n",
      "              'name': 'Andrii',\n",
      "              'phones': [9876543, 1234567],\n",
      "              'surname': 'Rodinov'},\n",
      " 'date': '2015-04-14',\n",
      " 'items_id': ['65e75653217a595928552f00', '65e75653217a595928552f01'],\n",
      " 'order_number': 201513,\n",
      " 'payment': {'cardId': 12345678, 'card_owner': 'Andrii Rodionov'},\n",
      " 'total_sum': 1923.4}\n",
      "{'_id': ObjectId('65e7821b217a59592855307c'),\n",
      " 'customer': {'address': 'PTI, Peremohy 37, Odesa, UA',\n",
      "              'name': 'Nikita',\n",
      "              'phones': [312312412, 4123213],\n",
      "              'surname': 'Ochinskiy'},\n",
      " 'date': '2023-04-14',\n",
      " 'items_id': ['65e75653217a595928552f00', '65e75653217a595928552f02'],\n",
      " 'order_number': 201513,\n",
      " 'payment': {'cardId': {'$numberLong': '1234567812398723'},\n",
      "             'card_owner': 'Nikita Ochinskiy'},\n",
      " 'total_sum': 1923.4}\n",
      "{'_id': ObjectId('65e7821b217a59592855307d'),\n",
      " 'customer': {'address': 'PTI, Peremohy 37, Kyiv, UA',\n",
      "              'name': 'Loza',\n",
      "              'phones': [{'$numberLong': '98765435334'}, 1234567434],\n",
      "              'surname': 'Bandura'},\n",
      " 'date': '2012-04-14',\n",
      " 'items_id': ['65e75653217a595928552f02', '65e75653217a595928552f03'],\n",
      " 'order_number': 4911134,\n",
      " 'payment': {'cardId': {'$numberLong': '12345678123124'},\n",
      "             'card_owner': 'Loza Bandura'},\n",
      " 'total_sum': 1923.4}\n",
      "{'_id': ObjectId('65e7821b217a59592855307e'),\n",
      " 'customer': {'address': 'PTI, Asdas 37, Kyiv, UA',\n",
      "              'name': 'Koza',\n",
      "              'phones': [{'$numberLong': '98765435334'}, 1234567434],\n",
      "              'surname': 'Zandura'},\n",
      " 'date': '2012-09-14',\n",
      " 'items_id': ['65e75653217a595928552f01', '65e75653217a595928552f03'],\n",
      " 'order_number': {'$numberLong': '4911134412'},\n",
      " 'payment': {'cardId': {'$numberLong': '12345678123124'},\n",
      "             'card_owner': 'Loza Bsas'},\n",
      " 'total_sum': 1923.4}\n"
     ]
    }
   ],
   "source": [
    "query =  {\n",
    "    \"total_sum\": {\n",
    "      \"$gte\": 1000.0\n",
    "    }\n",
    "  }\n",
    "\n",
    "for x in orders.find(query):\n",
    "    pprint(x)"
   ]
  },
  {
   "cell_type": "markdown",
   "id": "d6370b71",
   "metadata": {},
   "source": [
    "### 4. Знайдіть замовлення зроблені одним замовником,\n"
   ]
  },
  {
   "cell_type": "code",
   "execution_count": 249,
   "id": "2b049e89",
   "metadata": {},
   "outputs": [
    {
     "name": "stdout",
     "output_type": "stream",
     "text": [
      "{'_id': ObjectId('65e7821b217a59592855307b'),\n",
      " 'customer': {'address': 'PTI, Peremohy 37, Kyiv, UA',\n",
      "              'name': 'Andrii',\n",
      "              'phones': [9876543, 1234567],\n",
      "              'surname': 'Rodinov'},\n",
      " 'date': '2015-04-14',\n",
      " 'items_id': ['65e75653217a595928552f00', '65e75653217a595928552f01'],\n",
      " 'order_number': 201513,\n",
      " 'payment': {'cardId': 12345678, 'card_owner': 'Andrii Rodionov'},\n",
      " 'total_sum': 1923.4}\n"
     ]
    }
   ],
   "source": [
    "query =  {\n",
    "    \"customer.surname\": \"Rodinov\",\n",
    "    \"customer.name\": \"Andrii\"\n",
    "  }\n",
    "\n",
    "for x in orders.find(query):\n",
    "    pprint(x)"
   ]
  },
  {
   "cell_type": "markdown",
   "id": "bf668dc8",
   "metadata": {},
   "source": [
    "### 5. Знайдіть всі замовлення з певним товаром (товарами) (шукати можна по ObjectId),\n"
   ]
  },
  {
   "cell_type": "code",
   "execution_count": 254,
   "id": "5873a3f1",
   "metadata": {},
   "outputs": [
    {
     "name": "stdout",
     "output_type": "stream",
     "text": [
      "{'_id': ObjectId('65e7821b217a59592855307d'),\n",
      " 'customer': {'address': 'PTI, Peremohy 37, Kyiv, UA',\n",
      "              'name': 'Loza',\n",
      "              'phones': [{'$numberLong': '98765435334'}, 1234567434],\n",
      "              'surname': 'Bandura'},\n",
      " 'date': '2012-04-14',\n",
      " 'items_id': ['65e75653217a595928552f02', '65e75653217a595928552f03'],\n",
      " 'order_number': 4911134,\n",
      " 'payment': {'cardId': {'$numberLong': '12345678123124'},\n",
      "             'card_owner': 'Loza Bandura'},\n",
      " 'total_sum': 1923.4}\n",
      "{'_id': ObjectId('65e7821b217a59592855307e'),\n",
      " 'customer': {'address': 'PTI, Asdas 37, Kyiv, UA',\n",
      "              'name': 'Koza',\n",
      "              'phones': [{'$numberLong': '98765435334'}, 1234567434],\n",
      "              'surname': 'Zandura'},\n",
      " 'date': '2012-09-14',\n",
      " 'items_id': ['65e75653217a595928552f01', '65e75653217a595928552f03'],\n",
      " 'order_number': {'$numberLong': '4911134412'},\n",
      " 'payment': {'cardId': {'$numberLong': '12345678123124'},\n",
      "             'card_owner': 'Loza Bsas'},\n",
      " 'total_sum': 1923.4}\n"
     ]
    }
   ],
   "source": [
    "query =  {\n",
    "    \"items_id\": '65e75653217a595928552f03'\n",
    "  }\n",
    "\n",
    "for x in orders.find(query):\n",
    "    pprint(x)"
   ]
  },
  {
   "cell_type": "markdown",
   "id": "10f9a2e0",
   "metadata": {},
   "source": [
    "### 6. Додайте в усі замовлення з певним товаром ще один товар і збільште існуючу вартість замовлення на деяке значення Х,\n"
   ]
  },
  {
   "cell_type": "code",
   "execution_count": 255,
   "id": "70088a0e",
   "metadata": {},
   "outputs": [
    {
     "data": {
      "text/plain": [
       "UpdateResult({'n': 2, 'nModified': 2, 'ok': 1.0, 'updatedExisting': True}, acknowledged=True)"
      ]
     },
     "execution_count": 255,
     "metadata": {},
     "output_type": "execute_result"
    }
   ],
   "source": [
    "query_find_item = {\n",
    "        \"items_id\": \"65e75653217a595928552f03\"\n",
    "      }\n",
    "\n",
    "query_add_new_item = [{\n",
    "      \"$set\": {\n",
    "        \"items_id\": {\n",
    "          \"$concatArrays\": [\n",
    "            \"$items_id\",\n",
    "            [\n",
    "              \"65e75653217a595928552f00\"\n",
    "            ]\n",
    "          ]\n",
    "        }\n",
    "      }\n",
    "    }]\n",
    "\n",
    "X = 900\n",
    "query_change_total_sum = [{\n",
    "      \"$set\": {\n",
    "        \"total_sum\": {\n",
    "          \"$add\": [\n",
    "            \"$total_sum\", X\n",
    "          ]\n",
    "        }\n",
    "      }\n",
    "    }]\n",
    "\n",
    "orders.update_many(query_find_item, query_add_new_item)\n",
    "orders.update_many(query_find_item, query_change_total_sum)"
   ]
  },
  {
   "cell_type": "code",
   "execution_count": 256,
   "id": "7e646363",
   "metadata": {},
   "outputs": [
    {
     "name": "stdout",
     "output_type": "stream",
     "text": [
      "{'_id': ObjectId('65e7821b217a59592855307b'),\n",
      " 'customer': {'address': 'PTI, Peremohy 37, Kyiv, UA',\n",
      "              'name': 'Andrii',\n",
      "              'phones': [9876543, 1234567],\n",
      "              'surname': 'Rodinov'},\n",
      " 'date': '2015-04-14',\n",
      " 'items_id': ['65e75653217a595928552f00', '65e75653217a595928552f01'],\n",
      " 'order_number': 201513,\n",
      " 'payment': {'cardId': 12345678, 'card_owner': 'Andrii Rodionov'},\n",
      " 'total_sum': 1923.4}\n",
      "{'_id': ObjectId('65e7821b217a59592855307c'),\n",
      " 'customer': {'address': 'PTI, Peremohy 37, Odesa, UA',\n",
      "              'name': 'Nikita',\n",
      "              'phones': [312312412, 4123213],\n",
      "              'surname': 'Ochinskiy'},\n",
      " 'date': '2023-04-14',\n",
      " 'items_id': ['65e75653217a595928552f00', '65e75653217a595928552f02'],\n",
      " 'order_number': 201513,\n",
      " 'payment': {'cardId': {'$numberLong': '1234567812398723'},\n",
      "             'card_owner': 'Nikita Ochinskiy'},\n",
      " 'total_sum': 1923.4}\n",
      "{'_id': ObjectId('65e7821b217a59592855307d'),\n",
      " 'customer': {'address': 'PTI, Peremohy 37, Kyiv, UA',\n",
      "              'name': 'Loza',\n",
      "              'phones': [{'$numberLong': '98765435334'}, 1234567434],\n",
      "              'surname': 'Bandura'},\n",
      " 'date': '2012-04-14',\n",
      " 'items_id': ['65e75653217a595928552f02',\n",
      "              '65e75653217a595928552f03',\n",
      "              '65e75653217a595928552f00'],\n",
      " 'order_number': 4911134,\n",
      " 'payment': {'cardId': {'$numberLong': '12345678123124'},\n",
      "             'card_owner': 'Loza Bandura'},\n",
      " 'total_sum': 2823.4}\n",
      "{'_id': ObjectId('65e7821b217a59592855307e'),\n",
      " 'customer': {'address': 'PTI, Asdas 37, Kyiv, UA',\n",
      "              'name': 'Koza',\n",
      "              'phones': [{'$numberLong': '98765435334'}, 1234567434],\n",
      "              'surname': 'Zandura'},\n",
      " 'date': '2012-09-14',\n",
      " 'items_id': ['65e75653217a595928552f01',\n",
      "              '65e75653217a595928552f03',\n",
      "              '65e75653217a595928552f00'],\n",
      " 'order_number': {'$numberLong': '4911134412'},\n",
      " 'payment': {'cardId': {'$numberLong': '12345678123124'},\n",
      "             'card_owner': 'Loza Bsas'},\n",
      " 'total_sum': 2823.4}\n"
     ]
    }
   ],
   "source": [
    "for x in orders.find():\n",
    "    pprint(x)"
   ]
  },
  {
   "cell_type": "markdown",
   "id": "ba8762d9",
   "metadata": {},
   "source": [
    "### 7. Виведіть кількість товарів в певному замовленні,\n"
   ]
  },
  {
   "cell_type": "code",
   "execution_count": 257,
   "id": "14925407",
   "metadata": {},
   "outputs": [
    {
     "name": "stdout",
     "output_type": "stream",
     "text": [
      "{'Amount of items in order': 3}\n"
     ]
    }
   ],
   "source": [
    "query = [\n",
    "    {\n",
    "      \"$match\": {\n",
    "        \"order_number\": 4911134\n",
    "      }\n",
    "    },\n",
    "    {\n",
    "      \"$unwind\": {\n",
    "        \"path\": \"$items_id\"\n",
    "      }\n",
    "    },\n",
    "    {\n",
    "      \"$count\": \"Amount of items in order\"\n",
    "    }\n",
    "  ]\n",
    "\n",
    "for x in orders.aggregate(query):\n",
    "    pprint(x)"
   ]
  },
  {
   "cell_type": "markdown",
   "id": "8b137da5",
   "metadata": {},
   "source": [
    "### 8. Виведіть тільки інформацію про кастомера і номери кредитної карт, для замовлень вартість яких перевищує певну суму,\n"
   ]
  },
  {
   "cell_type": "code",
   "execution_count": 258,
   "id": "cd01a734",
   "metadata": {},
   "outputs": [
    {
     "name": "stdout",
     "output_type": "stream",
     "text": [
      "{'_id': {'cart_id': {'$numberLong': '12345678123124'},\n",
      "         'customer': {'address': 'PTI, Peremohy 37, Kyiv, UA',\n",
      "                      'name': 'Loza',\n",
      "                      'phones': [{'$numberLong': '98765435334'}, 1234567434],\n",
      "                      'surname': 'Bandura'}}}\n",
      "{'_id': {'cart_id': {'$numberLong': '12345678123124'},\n",
      "         'customer': {'address': 'PTI, Asdas 37, Kyiv, UA',\n",
      "                      'name': 'Koza',\n",
      "                      'phones': [{'$numberLong': '98765435334'}, 1234567434],\n",
      "                      'surname': 'Zandura'}}}\n"
     ]
    }
   ],
   "source": [
    "query = [\n",
    "    {\n",
    "      \"$match\": \n",
    "      {\n",
    "        \"total_sum\": {\n",
    "          \"$gte\": 2000\n",
    "        }\n",
    "      }\n",
    "    },\n",
    "    {\n",
    "      \"$group\": {\n",
    "        \"_id\": {\n",
    "          \"customer\": \"$customer\",\n",
    "          \"cart_id\": \"$payment.cardId\"\n",
    "        }\n",
    "      }\n",
    "    }\n",
    "  ]\n",
    "\n",
    "for x in orders.aggregate(query):\n",
    "    pprint(x)"
   ]
  },
  {
   "cell_type": "markdown",
   "id": "b3a27901",
   "metadata": {},
   "source": [
    "### 9. Видаліть товар з замовлень, зроблених за певний період дат\n"
   ]
  },
  {
   "cell_type": "code",
   "execution_count": 259,
   "id": "b78d21cf",
   "metadata": {},
   "outputs": [
    {
     "data": {
      "text/plain": [
       "DeleteResult({'n': 1, 'ok': 1.0}, acknowledged=True)"
      ]
     },
     "execution_count": 259,
     "metadata": {},
     "output_type": "execute_result"
    }
   ],
   "source": [
    "query = {\n",
    "    \"date\": {\n",
    "      \"$gte\": \"2012-09-14\",\n",
    "      \"$lte\": \"2014-04-13\"\n",
    "    }\n",
    "  }\n",
    "\n",
    "orders.delete_many(query)"
   ]
  },
  {
   "cell_type": "code",
   "execution_count": 260,
   "id": "44c59db4",
   "metadata": {},
   "outputs": [
    {
     "name": "stdout",
     "output_type": "stream",
     "text": [
      "{'_id': ObjectId('65e7821b217a59592855307b'),\n",
      " 'customer': {'address': 'PTI, Peremohy 37, Kyiv, UA',\n",
      "              'name': 'Andrii',\n",
      "              'phones': [9876543, 1234567],\n",
      "              'surname': 'Rodinov'},\n",
      " 'date': '2015-04-14',\n",
      " 'items_id': ['65e75653217a595928552f00', '65e75653217a595928552f01'],\n",
      " 'order_number': 201513,\n",
      " 'payment': {'cardId': 12345678, 'card_owner': 'Andrii Rodionov'},\n",
      " 'total_sum': 1923.4}\n",
      "{'_id': ObjectId('65e7821b217a59592855307c'),\n",
      " 'customer': {'address': 'PTI, Peremohy 37, Odesa, UA',\n",
      "              'name': 'Nikita',\n",
      "              'phones': [312312412, 4123213],\n",
      "              'surname': 'Ochinskiy'},\n",
      " 'date': '2023-04-14',\n",
      " 'items_id': ['65e75653217a595928552f00', '65e75653217a595928552f02'],\n",
      " 'order_number': 201513,\n",
      " 'payment': {'cardId': {'$numberLong': '1234567812398723'},\n",
      "             'card_owner': 'Nikita Ochinskiy'},\n",
      " 'total_sum': 1923.4}\n",
      "{'_id': ObjectId('65e7821b217a59592855307d'),\n",
      " 'customer': {'address': 'PTI, Peremohy 37, Kyiv, UA',\n",
      "              'name': 'Loza',\n",
      "              'phones': [{'$numberLong': '98765435334'}, 1234567434],\n",
      "              'surname': 'Bandura'},\n",
      " 'date': '2012-04-14',\n",
      " 'items_id': ['65e75653217a595928552f02',\n",
      "              '65e75653217a595928552f03',\n",
      "              '65e75653217a595928552f00'],\n",
      " 'order_number': 4911134,\n",
      " 'payment': {'cardId': {'$numberLong': '12345678123124'},\n",
      "             'card_owner': 'Loza Bandura'},\n",
      " 'total_sum': 2823.4}\n"
     ]
    }
   ],
   "source": [
    "for x in orders.find():\n",
    "    pprint(x)"
   ]
  },
  {
   "cell_type": "markdown",
   "id": "fd8b6359",
   "metadata": {},
   "source": [
    "### 10. Перейменуйте у всіх замовлення ім'я (прізвище) замовника"
   ]
  },
  {
   "cell_type": "code",
   "execution_count": 261,
   "id": "b8937927",
   "metadata": {},
   "outputs": [
    {
     "data": {
      "text/plain": [
       "UpdateResult({'n': 3, 'nModified': 3, 'ok': 1.0, 'updatedExisting': True}, acknowledged=True)"
      ]
     },
     "execution_count": 261,
     "metadata": {},
     "output_type": "execute_result"
    }
   ],
   "source": [
    "query = [\n",
    "    {\n",
    "      \"$set\": {\n",
    "        \"customer.name\": \"Misha\",\n",
    "        \"customer.surname\": \"Mezinov\",\n",
    "        \"payment.card_owner\": \"Misha Mezinov\"\n",
    "      }\n",
    "    }\n",
    "  ]\n",
    "\n",
    "orders.update_many({}, query)"
   ]
  },
  {
   "cell_type": "code",
   "execution_count": 262,
   "id": "4ddd3a07",
   "metadata": {},
   "outputs": [
    {
     "name": "stdout",
     "output_type": "stream",
     "text": [
      "{'_id': ObjectId('65e7821b217a59592855307b'),\n",
      " 'customer': {'address': 'PTI, Peremohy 37, Kyiv, UA',\n",
      "              'name': 'Misha',\n",
      "              'phones': [9876543, 1234567],\n",
      "              'surname': 'Mezinov'},\n",
      " 'date': '2015-04-14',\n",
      " 'items_id': ['65e75653217a595928552f00', '65e75653217a595928552f01'],\n",
      " 'order_number': 201513,\n",
      " 'payment': {'cardId': 12345678, 'card_owner': 'Misha Mezinov'},\n",
      " 'total_sum': 1923.4}\n",
      "{'_id': ObjectId('65e7821b217a59592855307c'),\n",
      " 'customer': {'address': 'PTI, Peremohy 37, Odesa, UA',\n",
      "              'name': 'Misha',\n",
      "              'phones': [312312412, 4123213],\n",
      "              'surname': 'Mezinov'},\n",
      " 'date': '2023-04-14',\n",
      " 'items_id': ['65e75653217a595928552f00', '65e75653217a595928552f02'],\n",
      " 'order_number': 201513,\n",
      " 'payment': {'cardId': {'$numberLong': '1234567812398723'},\n",
      "             'card_owner': 'Misha Mezinov'},\n",
      " 'total_sum': 1923.4}\n",
      "{'_id': ObjectId('65e7821b217a59592855307d'),\n",
      " 'customer': {'address': 'PTI, Peremohy 37, Kyiv, UA',\n",
      "              'name': 'Misha',\n",
      "              'phones': [{'$numberLong': '98765435334'}, 1234567434],\n",
      "              'surname': 'Mezinov'},\n",
      " 'date': '2012-04-14',\n",
      " 'items_id': ['65e75653217a595928552f02',\n",
      "              '65e75653217a595928552f03',\n",
      "              '65e75653217a595928552f00'],\n",
      " 'order_number': 4911134,\n",
      " 'payment': {'cardId': {'$numberLong': '12345678123124'},\n",
      "             'card_owner': 'Misha Mezinov'},\n",
      " 'total_sum': 2823.4}\n"
     ]
    }
   ],
   "source": [
    "for x in orders.find():\n",
    "    pprint(x)"
   ]
  },
  {
   "cell_type": "markdown",
   "id": "4b25aaf0",
   "metadata": {},
   "source": [
    "### 11. Знайдіть замовлення зроблені одним замовником, і виведіть тільки інформацію про кастомерата товари у замовлені підставивши замість ObjectId(\"***\") назви товарів та їх вартість\n",
    "  \n",
    "#### (аналог join-а між таблицями orders та items)."
   ]
  },
  {
   "cell_type": "code",
   "execution_count": 263,
   "id": "254156b6",
   "metadata": {},
   "outputs": [],
   "source": [
    "query = [\n",
    "    {\n",
    "      \"$unwind\": {\n",
    "        \"path\": \"$items_id\"\n",
    "      }\n",
    "    },\n",
    "    {\n",
    "      \"$set\": {\n",
    "        \"items_id\": {\n",
    "          \"$toObjectId\": \"$items_id\"\n",
    "        }\n",
    "      }\n",
    "    },\n",
    "    {\n",
    "      \"$lookup\": {\n",
    "        \"from\": \"items\",\n",
    "        \"localField\": \"items_id\",\n",
    "        \"foreignField\": \"_id\",\n",
    "        \"as\": \"item_params\"\n",
    "      }\n",
    "    },\n",
    "    {\n",
    "      \"$unwind\": {\n",
    "        \"path\": \"$item_params\"\n",
    "      }\n",
    "    },\n",
    "    {\n",
    "      \"$group\": {\n",
    "        \"_id\": {\n",
    "          \"customer_name\": \"$customer.name\",\n",
    "          \"customer_surname\": \"$customer.surname\",\n",
    "          \"product_category\": \"$item_params.category\",\n",
    "          \"product_model\": \"$item_params.model\",\n",
    "          \"product_price\": \"$item_params.price\"\n",
    "        }\n",
    "      }\n",
    "    }\n",
    "]\n",
    "\n",
    "for x in orders.aggregate(query):\n",
    "    print('--------------------------------------------------------------------------')\n",
    "    pprint(x)"
   ]
  },
  {
   "cell_type": "code",
   "execution_count": 221,
   "id": "4fb2a985",
   "metadata": {},
   "outputs": [
    {
     "data": {
      "text/plain": [
       "DeleteResult({'n': 0, 'ok': 1.0}, acknowledged=True)"
      ]
     },
     "execution_count": 221,
     "metadata": {},
     "output_type": "execute_result"
    }
   ],
   "source": [
    "# feedbacks.drop()\n",
    "feedbacks = mydb.create_collection('feedbacks', capped=True, size=1000000, max=5)\n",
    "feedbacks.delete_many({})"
   ]
  },
  {
   "cell_type": "code",
   "execution_count": 223,
   "id": "b5477188",
   "metadata": {},
   "outputs": [
    {
     "name": "stdout",
     "output_type": "stream",
     "text": [
      "'Added message 0 to list'\n",
      "'Added message 1 to list'\n",
      "'Added message 2 to list'\n",
      "'Added message 3 to list'\n",
      "'Added message 4 to list'\n",
      "'Added message 5 to list'\n",
      "'Added message 6 to list'\n",
      "'Added message 7 to list'\n",
      "'Added message 8 to list'\n",
      "'Added message 9 to list'\n",
      "'--------------------------------------------------------------------------'\n",
      "'And now I output whole collection, but it would has only 5 last documents'\n",
      "'--------------------------------------------------------------------------'\n",
      "{'_id': ObjectId('65e7809f217a59592855305e'), 'message': 5}\n",
      "{'_id': ObjectId('65e7809f217a59592855305f'), 'message': 6}\n",
      "{'_id': ObjectId('65e7809f217a595928553060'), 'message': 7}\n",
      "{'_id': ObjectId('65e7809f217a595928553061'), 'message': 8}\n",
      "{'_id': ObjectId('65e7809f217a595928553062'), 'message': 9}\n"
     ]
    }
   ],
   "source": [
    "# I run 10 times \n",
    "for x in range(10):\n",
    "    feedbacks.insert_one({'message': x})\n",
    "    print(f'Added message {x} to list')\n",
    "\n",
    "print('--------------------------------------------------------------------------')\n",
    "print(f'And now I output whole collection, but it would has only 5 last documents')\n",
    "print('--------------------------------------------------------------------------')\n",
    "\n",
    "for x in feedbacks.find():\n",
    "    print(x)"
   ]
  },
  {
   "cell_type": "code",
   "execution_count": null,
   "id": "5d89cb0b",
   "metadata": {},
   "outputs": [],
   "source": []
  },
  {
   "cell_type": "code",
   "execution_count": null,
   "id": "09f6e95e",
   "metadata": {},
   "outputs": [],
   "source": []
  }
 ],
 "metadata": {
  "kernelspec": {
   "display_name": "Python 3",
   "language": "python",
   "name": "python3"
  },
  "language_info": {
   "codemirror_mode": {
    "name": "ipython",
    "version": 3
   },
   "file_extension": ".py",
   "mimetype": "text/x-python",
   "name": "python",
   "nbconvert_exporter": "python",
   "pygments_lexer": "ipython3",
   "version": "3.8.8"
  }
 },
 "nbformat": 4,
 "nbformat_minor": 5
}
