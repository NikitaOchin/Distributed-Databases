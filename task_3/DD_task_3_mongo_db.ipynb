{
 "cells": [
  {
   "cell_type": "code",
   "execution_count": 193,
   "id": "7d44f032",
   "metadata": {},
   "outputs": [],
   "source": [
    "from pprint import pprint \n",
    "\n",
    "# !pip install pymongo\n",
    "import pymongo\n",
    "myclient = pymongo.MongoClient(\"mongodb://localhost:27017/\")\n",
    "\n",
    "mydb = myclient[\"dd\"]\n",
    "\n",
    "items = mydb[\"items\"]"
   ]
  },
  {
   "cell_type": "markdown",
   "id": "1d3ebecc",
   "metadata": {},
   "source": [
    "### 1. Створіть декілька товарів з різним набором властивостей Phone/TV/Smart Watch/ .... \n",
    "\n",
    "Наприклад:\n",
    "{\n",
    "\t\"category\" : \"Phone\",\n",
    "\t\"model\" : \"iPhone 6\",\n",
    "\t\"producer\" : \"Apple\",\n",
    "\t\"price\" : 600\n",
    "}\n"
   ]
  },
  {
   "cell_type": "code",
   "execution_count": 194,
   "id": "962760ae",
   "metadata": {},
   "outputs": [
    {
     "data": {
      "text/plain": [
       "InsertManyResult([ObjectId('65e78056217a595928553047'), ObjectId('65e78056217a595928553048'), ObjectId('65e78056217a595928553049'), ObjectId('65e78056217a59592855304a')], acknowledged=True)"
      ]
     },
     "execution_count": 194,
     "metadata": {},
     "output_type": "execute_result"
    }
   ],
   "source": [
    "dataset = [{\n",
    "  \"category\": \"Phone\",\n",
    "  \"model\": \"iPhone 6\",\n",
    "  \"producer\": \"Apple\",\n",
    "  \"price\": 600,\n",
    "  \"newField\": \"usual product\"\n",
    "},\n",
    "{\n",
    "  \"category\": \"Laptop\",\n",
    "  \"model\": \"MacBook Pro\",\n",
    "  \"producer\": \"Apple\",\n",
    "  \"price\": 2400,\n",
    "  \"newField\": \"expensive product\"\n",
    "},\n",
    "{\n",
    "  \"category\": \"Washing machine\",\n",
    "  \"model\": \"LX-57348\",\n",
    "  \"producer\": \"LG\",\n",
    "  \"price\": 750,\n",
    "  \"newField\": \"usual product\"\n",
    "},\n",
    "{\n",
    "  \"category\": \"TV\",\n",
    "  \"model\": \"SM-LED-FULL-PLUS\",\n",
    "  \"producer\": \"Samsung\",\n",
    "  \"price\": 4200,\n",
    "  \"newField\": \"expensive product\"\n",
    "}]\n",
    "\n",
    "items.insert_many(dataset)"
   ]
  },
  {
   "cell_type": "markdown",
   "id": "9773e7e3",
   "metadata": {},
   "source": [
    "### 2. Напишіть запит, який виводіть усі товари (відображення у JSON)"
   ]
  },
  {
   "cell_type": "code",
   "execution_count": 195,
   "id": "d4d9ee56",
   "metadata": {},
   "outputs": [
    {
     "name": "stdout",
     "output_type": "stream",
     "text": [
      "{'_id': ObjectId('65e75653217a595928552f00'),\n",
      " 'category': 'Phone',\n",
      " 'model': 'iPhone 6',\n",
      " 'newField': 'expensive product',\n",
      " 'price': 1322.0,\n",
      " 'producer': 'Apple'}\n",
      "{'_id': ObjectId('65e75653217a595928552f01'),\n",
      " 'category': 'Laptop',\n",
      " 'model': 'MacBook Pro',\n",
      " 'newField': 'expensive product',\n",
      " 'price': 3104.0000000000005,\n",
      " 'producer': 'Apple'}\n",
      "{'_id': ObjectId('65e75653217a595928552f02'),\n",
      " 'category': 'Washing machine',\n",
      " 'model': 'LX-57348',\n",
      " 'newField': 'expensive product',\n",
      " 'price': 1275.0,\n",
      " 'producer': 'LG'}\n",
      "{'_id': ObjectId('65e75653217a595928552f03'),\n",
      " 'category': 'TV',\n",
      " 'model': 'SM-LED-FULL-PLUS',\n",
      " 'newField': 'expensive product',\n",
      " 'price': 4620.0,\n",
      " 'producer': 'Samsung'}\n",
      "{'_id': ObjectId('65e78056217a595928553047'),\n",
      " 'category': 'Phone',\n",
      " 'model': 'iPhone 6',\n",
      " 'newField': 'usual product',\n",
      " 'price': 600,\n",
      " 'producer': 'Apple'}\n",
      "{'_id': ObjectId('65e78056217a595928553048'),\n",
      " 'category': 'Laptop',\n",
      " 'model': 'MacBook Pro',\n",
      " 'newField': 'expensive product',\n",
      " 'price': 2400,\n",
      " 'producer': 'Apple'}\n",
      "{'_id': ObjectId('65e78056217a595928553049'),\n",
      " 'category': 'Washing machine',\n",
      " 'model': 'LX-57348',\n",
      " 'newField': 'usual product',\n",
      " 'price': 750,\n",
      " 'producer': 'LG'}\n",
      "{'_id': ObjectId('65e78056217a59592855304a'),\n",
      " 'category': 'TV',\n",
      " 'model': 'SM-LED-FULL-PLUS',\n",
      " 'newField': 'expensive product',\n",
      " 'price': 4200,\n",
      " 'producer': 'Samsung'}\n"
     ]
    }
   ],
   "source": [
    "for x in items.find():\n",
    "    pprint(x)"
   ]
  },
  {
   "cell_type": "markdown",
   "id": "028ec213",
   "metadata": {},
   "source": [
    "### 3. Підрахуйте скільки товарів у певної категорії"
   ]
  },
  {
   "cell_type": "code",
   "execution_count": 196,
   "id": "4e4320e0",
   "metadata": {},
   "outputs": [
    {
     "name": "stdout",
     "output_type": "stream",
     "text": [
      "{'Phone amount': 2}\n"
     ]
    }
   ],
   "source": [
    "query = [\n",
    "  {\n",
    "    \"$match\": {\n",
    "      \"category\": \"Phone\",\n",
    "    },\n",
    "  },\n",
    "  {\n",
    "    \"$count\":\n",
    "      \"Phone amount\",\n",
    "  },\n",
    "    ]\n",
    "\n",
    "for x in items.aggregate(query):\n",
    "    pprint(x)"
   ]
  },
  {
   "cell_type": "markdown",
   "id": "e1700e04",
   "metadata": {},
   "source": [
    "### 4. Підрахуйте скільки є різних категорій товарів"
   ]
  },
  {
   "cell_type": "code",
   "execution_count": 197,
   "id": "05cc9c9f",
   "metadata": {},
   "outputs": [
    {
     "name": "stdout",
     "output_type": "stream",
     "text": [
      "{'Unique Categories': 4}\n"
     ]
    }
   ],
   "source": [
    "query = [\n",
    "  {\n",
    "    \"$group\":\n",
    "      {\n",
    "        \"_id\": \"$category\",\n",
    "      },\n",
    "  },\n",
    "  {\n",
    "    \"$count\":\n",
    "      \"Unique Categories\",\n",
    "  },\n",
    "]\n",
    "\n",
    "for x in items.aggregate(query):\n",
    "    pprint(x)"
   ]
  },
  {
   "cell_type": "markdown",
   "id": "7847d454",
   "metadata": {},
   "source": [
    "### 5. Виведіть список всіх виробників товарів без повторів"
   ]
  },
  {
   "cell_type": "code",
   "execution_count": 198,
   "id": "c7dd565a",
   "metadata": {},
   "outputs": [
    {
     "name": "stdout",
     "output_type": "stream",
     "text": [
      "{'_id': 'Apple'}\n",
      "{'_id': 'LG'}\n",
      "{'_id': 'Samsung'}\n"
     ]
    }
   ],
   "source": [
    "query = [\n",
    "  {\n",
    "    \"$group\": {\n",
    "      \"_id\": \"$producer\",\n",
    "    },\n",
    "  },\n",
    "]\n",
    "\n",
    "for x in items.aggregate(query):\n",
    "    pprint(x)"
   ]
  },
  {
   "cell_type": "markdown",
   "id": "05f7d40b",
   "metadata": {},
   "source": [
    "### 6. Напишіть запити, які вибирають товари за різними критеріям і їх сукупності: \n",
    "\n",
    "#### - категорія та ціна (в проміжку) - конструкція $and, \n",
    "\n",
    "\n",
    "\n",
    "#### - модель чи одна чи інша - конструкція $or,\n",
    "\n",
    "\n",
    "#### - виробники з переліку - конструкція $in"
   ]
  },
  {
   "cell_type": "code",
   "execution_count": 199,
   "id": "71951680",
   "metadata": {},
   "outputs": [
    {
     "name": "stdout",
     "output_type": "stream",
     "text": [
      "'6.A result'\n",
      "{'_id': ObjectId('65e78056217a595928553047'),\n",
      " 'category': 'Phone',\n",
      " 'model': 'iPhone 6',\n",
      " 'newField': 'usual product',\n",
      " 'price': 600,\n",
      " 'producer': 'Apple'}\n",
      "{'_id': ObjectId('65e78056217a595928553049'),\n",
      " 'category': 'Washing machine',\n",
      " 'model': 'LX-57348',\n",
      " 'newField': 'usual product',\n",
      " 'price': 750,\n",
      " 'producer': 'LG'}\n"
     ]
    }
   ],
   "source": [
    "query_a = {\"$and\": [{\"price\": {\"$lt\": 1000}}, {\"price\": {\"$gte\": 500}}]}\n",
    "\n",
    "print('6.A result')\n",
    "for x in items.find(query_a):\n",
    "    pprint(x)"
   ]
  },
  {
   "cell_type": "code",
   "execution_count": 200,
   "id": "f8fe0962",
   "metadata": {},
   "outputs": [
    {
     "name": "stdout",
     "output_type": "stream",
     "text": [
      "'6.B result'\n",
      "{'_id': ObjectId('65e75653217a595928552f00'),\n",
      " 'category': 'Phone',\n",
      " 'model': 'iPhone 6',\n",
      " 'newField': 'expensive product',\n",
      " 'price': 1322.0,\n",
      " 'producer': 'Apple'}\n",
      "{'_id': ObjectId('65e75653217a595928552f01'),\n",
      " 'category': 'Laptop',\n",
      " 'model': 'MacBook Pro',\n",
      " 'newField': 'expensive product',\n",
      " 'price': 3104.0000000000005,\n",
      " 'producer': 'Apple'}\n",
      "{'_id': ObjectId('65e78056217a595928553047'),\n",
      " 'category': 'Phone',\n",
      " 'model': 'iPhone 6',\n",
      " 'newField': 'usual product',\n",
      " 'price': 600,\n",
      " 'producer': 'Apple'}\n",
      "{'_id': ObjectId('65e78056217a595928553048'),\n",
      " 'category': 'Laptop',\n",
      " 'model': 'MacBook Pro',\n",
      " 'newField': 'expensive product',\n",
      " 'price': 2400,\n",
      " 'producer': 'Apple'}\n"
     ]
    }
   ],
   "source": [
    "query_b = {\"$or\": [{ \"model\":'iPhone 6'}, {\"model\": \"MacBook Pro\"}]}\n",
    "\n",
    "print('6.B result')\n",
    "for x in items.find(query_b):\n",
    "    pprint(x)"
   ]
  },
  {
   "cell_type": "code",
   "execution_count": 201,
   "id": "1ec826ce",
   "metadata": {},
   "outputs": [
    {
     "name": "stdout",
     "output_type": "stream",
     "text": [
      "'6.C result'\n",
      "{'_id': ObjectId('65e75653217a595928552f00'),\n",
      " 'category': 'Phone',\n",
      " 'model': 'iPhone 6',\n",
      " 'newField': 'expensive product',\n",
      " 'price': 1322.0,\n",
      " 'producer': 'Apple'}\n",
      "{'_id': ObjectId('65e75653217a595928552f01'),\n",
      " 'category': 'Laptop',\n",
      " 'model': 'MacBook Pro',\n",
      " 'newField': 'expensive product',\n",
      " 'price': 3104.0000000000005,\n",
      " 'producer': 'Apple'}\n",
      "{'_id': ObjectId('65e75653217a595928552f03'),\n",
      " 'category': 'TV',\n",
      " 'model': 'SM-LED-FULL-PLUS',\n",
      " 'newField': 'expensive product',\n",
      " 'price': 4620.0,\n",
      " 'producer': 'Samsung'}\n",
      "{'_id': ObjectId('65e78056217a595928553047'),\n",
      " 'category': 'Phone',\n",
      " 'model': 'iPhone 6',\n",
      " 'newField': 'usual product',\n",
      " 'price': 600,\n",
      " 'producer': 'Apple'}\n",
      "{'_id': ObjectId('65e78056217a595928553048'),\n",
      " 'category': 'Laptop',\n",
      " 'model': 'MacBook Pro',\n",
      " 'newField': 'expensive product',\n",
      " 'price': 2400,\n",
      " 'producer': 'Apple'}\n",
      "{'_id': ObjectId('65e78056217a59592855304a'),\n",
      " 'category': 'TV',\n",
      " 'model': 'SM-LED-FULL-PLUS',\n",
      " 'newField': 'expensive product',\n",
      " 'price': 4200,\n",
      " 'producer': 'Samsung'}\n"
     ]
    }
   ],
   "source": [
    "query_c = {\"producer\": {\"$in\": ['Apple', 'Samsung']}}\n",
    "\n",
    "print('6.C result')\n",
    "for x in items.find(query_c):\n",
    "    pprint(x)"
   ]
  },
  {
   "cell_type": "markdown",
   "id": "35174cc0",
   "metadata": {},
   "source": [
    "### 7. Оновить певні товари, змінивши існуючі значення і додайте нові властивості (характеристики) усім товарам за певним критерієм"
   ]
  },
  {
   "cell_type": "code",
   "execution_count": 202,
   "id": "d03d92b5",
   "metadata": {},
   "outputs": [
    {
     "name": "stdout",
     "output_type": "stream",
     "text": [
      "{'_id': ObjectId('65e75653217a595928552f00'),\n",
      " 'category': 'Phone',\n",
      " 'model': 'iPhone 6',\n",
      " 'newField': 'expensive product',\n",
      " 'price': 1454.2,\n",
      " 'producer': 'Apple'}\n",
      "{'_id': ObjectId('65e75653217a595928552f01'),\n",
      " 'category': 'Laptop',\n",
      " 'model': 'MacBook Pro',\n",
      " 'newField': 'expensive product',\n",
      " 'price': 3414.400000000001,\n",
      " 'producer': 'Apple'}\n",
      "{'_id': ObjectId('65e75653217a595928552f02'),\n",
      " 'category': 'Washing machine',\n",
      " 'model': 'LX-57348',\n",
      " 'newField': 'expensive product',\n",
      " 'price': 1402.5,\n",
      " 'producer': 'LG'}\n",
      "{'_id': ObjectId('65e75653217a595928552f03'),\n",
      " 'category': 'TV',\n",
      " 'model': 'SM-LED-FULL-PLUS',\n",
      " 'newField': 'expensive product',\n",
      " 'price': 5082.0,\n",
      " 'producer': 'Samsung'}\n",
      "{'_id': ObjectId('65e78056217a595928553047'),\n",
      " 'category': 'Phone',\n",
      " 'model': 'iPhone 6',\n",
      " 'newField': 'expensive product',\n",
      " 'price': 1020.0,\n",
      " 'producer': 'Apple'}\n",
      "{'_id': ObjectId('65e78056217a595928553048'),\n",
      " 'category': 'Laptop',\n",
      " 'model': 'MacBook Pro',\n",
      " 'newField': 'expensive product',\n",
      " 'price': 2640.0,\n",
      " 'producer': 'Apple'}\n",
      "{'_id': ObjectId('65e78056217a595928553049'),\n",
      " 'category': 'Washing machine',\n",
      " 'model': 'LX-57348',\n",
      " 'newField': 'expensive product',\n",
      " 'price': 1275.0,\n",
      " 'producer': 'LG'}\n",
      "{'_id': ObjectId('65e78056217a59592855304a'),\n",
      " 'category': 'TV',\n",
      " 'model': 'SM-LED-FULL-PLUS',\n",
      " 'newField': 'expensive product',\n",
      " 'price': 4620.0,\n",
      " 'producer': 'Samsung'}\n"
     ]
    }
   ],
   "source": [
    "query_update_existing_field = [\n",
    "  {\n",
    "    \"$set\": {\n",
    "      \"price\": {\n",
    "        \"$cond\": {\n",
    "          \"if\": {\n",
    "            \"$gte\": [\"$price\", 1000],\n",
    "          },\n",
    "          \"then\": {\"$multiply\":[\"$price\", 1.1]},\n",
    "          \"else\": {\"$multiply\":[\"$price\", 1.7]},\n",
    "        },\n",
    "      },\n",
    "    },\n",
    "  },\n",
    "]\n",
    "\n",
    "query_update_add_new_field = [\n",
    "  {\n",
    "    \"$set\": {\n",
    "      \"newField\": {\n",
    "        \"$cond\": {\n",
    "          \"if\": {\n",
    "            \"$gte\": [\"$price\", 1000],\n",
    "          },\n",
    "          \"then\": \"expensive product\",\n",
    "          \"else\": \"usual product\",\n",
    "        },\n",
    "      },\n",
    "    },\n",
    "  },\n",
    "]\n",
    "\n",
    "# Change value for price\n",
    "items.update_many({}, query_update_existing_field)\n",
    "\n",
    "# Add new value base on price query\n",
    "items.update_many({}, query_update_add_new_field)\n",
    "\n",
    "# OUTPUT new dataset\n",
    "for x in items.find():\n",
    "    print(x)"
   ]
  },
  {
   "cell_type": "markdown",
   "id": "c90d9fce",
   "metadata": {},
   "source": [
    "### 8. Знайдіть товари у яких є (присутнє поле) певні властивості\n",
    "### 9. Для знайдених товарів збільшіть їх вартість на певну суму"
   ]
  },
  {
   "cell_type": "code",
   "execution_count": 203,
   "id": "0dbac4fc",
   "metadata": {},
   "outputs": [
    {
     "name": "stdout",
     "output_type": "stream",
     "text": [
      "{'_id': ObjectId('65e75653217a595928552f00'),\n",
      " 'category': 'Phone',\n",
      " 'model': 'iPhone 6',\n",
      " 'newField': 'expensive product',\n",
      " 'price': 1454.2,\n",
      " 'producer': 'Apple'}\n",
      "{'_id': ObjectId('65e75653217a595928552f01'),\n",
      " 'category': 'Laptop',\n",
      " 'model': 'MacBook Pro',\n",
      " 'newField': 'expensive product',\n",
      " 'price': 3414.400000000001,\n",
      " 'producer': 'Apple'}\n",
      "{'_id': ObjectId('65e78056217a595928553047'),\n",
      " 'category': 'Phone',\n",
      " 'model': 'iPhone 6',\n",
      " 'newField': 'expensive product',\n",
      " 'price': 1020.0,\n",
      " 'producer': 'Apple'}\n",
      "{'_id': ObjectId('65e78056217a595928553048'),\n",
      " 'category': 'Laptop',\n",
      " 'model': 'MacBook Pro',\n",
      " 'newField': 'expensive product',\n",
      " 'price': 2640.0,\n",
      " 'producer': 'Apple'}\n"
     ]
    },
    {
     "data": {
      "text/plain": [
       "UpdateResult({'n': 4, 'nModified': 4, 'ok': 1.0, 'updatedExisting': True}, acknowledged=True)"
      ]
     },
     "execution_count": 203,
     "metadata": {},
     "output_type": "execute_result"
    }
   ],
   "source": [
    "query_8 = {\n",
    "        \"producer\": \"Apple\",\n",
    "      }\n",
    "\n",
    "for x in items.find(query_8):\n",
    "    pprint(x)\n",
    "\n",
    "\n",
    "      \n",
    "query_9 = [{\n",
    "    \"$set\": {\n",
    "      \"price\": {\"$add\":[\"$price\", 200]},\n",
    "      },\n",
    "    }]\n",
    "\n",
    "items.update_many(query_8, query_9)"
   ]
  },
  {
   "cell_type": "markdown",
   "id": "de052344",
   "metadata": {},
   "source": []
  },
  {
   "cell_type": "code",
   "execution_count": 204,
   "id": "9de4ff4f",
   "metadata": {},
   "outputs": [
    {
     "name": "stdout",
     "output_type": "stream",
     "text": [
      "{'_id': ObjectId('65e75653217a595928552f00'),\n",
      " 'category': 'Phone',\n",
      " 'model': 'iPhone 6',\n",
      " 'newField': 'expensive product',\n",
      " 'price': 1654.2,\n",
      " 'producer': 'Apple'}\n",
      "{'_id': ObjectId('65e75653217a595928552f01'),\n",
      " 'category': 'Laptop',\n",
      " 'model': 'MacBook Pro',\n",
      " 'newField': 'expensive product',\n",
      " 'price': 3614.400000000001,\n",
      " 'producer': 'Apple'}\n",
      "{'_id': ObjectId('65e75653217a595928552f02'),\n",
      " 'category': 'Washing machine',\n",
      " 'model': 'LX-57348',\n",
      " 'newField': 'expensive product',\n",
      " 'price': 1402.5,\n",
      " 'producer': 'LG'}\n",
      "{'_id': ObjectId('65e75653217a595928552f03'),\n",
      " 'category': 'TV',\n",
      " 'model': 'SM-LED-FULL-PLUS',\n",
      " 'newField': 'expensive product',\n",
      " 'price': 5082.0,\n",
      " 'producer': 'Samsung'}\n",
      "{'_id': ObjectId('65e78056217a595928553047'),\n",
      " 'category': 'Phone',\n",
      " 'model': 'iPhone 6',\n",
      " 'newField': 'expensive product',\n",
      " 'price': 1220.0,\n",
      " 'producer': 'Apple'}\n",
      "{'_id': ObjectId('65e78056217a595928553048'),\n",
      " 'category': 'Laptop',\n",
      " 'model': 'MacBook Pro',\n",
      " 'newField': 'expensive product',\n",
      " 'price': 2840.0,\n",
      " 'producer': 'Apple'}\n",
      "{'_id': ObjectId('65e78056217a595928553049'),\n",
      " 'category': 'Washing machine',\n",
      " 'model': 'LX-57348',\n",
      " 'newField': 'expensive product',\n",
      " 'price': 1275.0,\n",
      " 'producer': 'LG'}\n",
      "{'_id': ObjectId('65e78056217a59592855304a'),\n",
      " 'category': 'TV',\n",
      " 'model': 'SM-LED-FULL-PLUS',\n",
      " 'newField': 'expensive product',\n",
      " 'price': 4620.0,\n",
      " 'producer': 'Samsung'}\n"
     ]
    }
   ],
   "source": [
    "# OUTPUT new dataset\n",
    "for x in items.find():\n",
    "    print(x)"
   ]
  },
  {
   "cell_type": "markdown",
   "id": "76c4e9f7",
   "metadata": {},
   "source": [
    "### Товари ви додаєте в замовлення - orders, яке містити вартість, ім'я замовника, і адресу доставки.\n",
    "#### Товари (items) в замовленні (order) повинні бути представлені у вигляді references, а замовник (customer) у вигляді embed\n",
    "##### Приклад моделювання: https://docs.mongodb.com/manual/tutorial/model-referenced-one-to-many-relationships-between-documents/ \n"
   ]
  },
  {
   "cell_type": "code",
   "execution_count": 205,
   "id": "26dd54be",
   "metadata": {},
   "outputs": [
    {
     "data": {
      "text/plain": [
       "DeleteResult({'n': 3, 'ok': 1.0}, acknowledged=True)"
      ]
     },
     "execution_count": 205,
     "metadata": {},
     "output_type": "execute_result"
    }
   ],
   "source": [
    "orders = mydb[\"orders\"]\n",
    "orders.delete_many({})"
   ]
  },
  {
   "cell_type": "markdown",
   "id": "7dfcd086",
   "metadata": {},
   "source": [
    "### 1. Створіть кілька замовлень з різними наборами товарів, але так щоб один з товарів був у декількох замовленнях"
   ]
  },
  {
   "cell_type": "code",
   "execution_count": 206,
   "id": "23d6eab2",
   "metadata": {},
   "outputs": [
    {
     "data": {
      "text/plain": [
       "InsertManyResult([ObjectId('65e7806a217a59592855304b'), ObjectId('65e7806a217a59592855304c'), ObjectId('65e7806a217a59592855304d'), ObjectId('65e7806a217a59592855304e')], acknowledged=True)"
      ]
     },
     "execution_count": 206,
     "metadata": {},
     "output_type": "execute_result"
    }
   ],
   "source": [
    "dataset = [\n",
    "    {\n",
    "      \"order_number\": 201513,\n",
    "      \"date\": \"2015-04-14\",\n",
    "      \"total_sum\": 1923.4,\n",
    "      \"customer\": {\n",
    "        \"name\": \"Andrii\",\n",
    "        \"surname\": \"Rodinov\",\n",
    "        \"phones\": [\n",
    "          9876543,\n",
    "          1234567\n",
    "        ],\n",
    "        \"address\": \"PTI, Peremohy 37, Kyiv, UA\"\n",
    "      },\n",
    "      \"payment\": {\n",
    "        \"card_owner\": \"Andrii Rodionov\",\n",
    "        \"cardId\": 12345678\n",
    "      },\n",
    "      \"items_id\": [\n",
    "        \"65e75653217a595928552f00\",\n",
    "        \"65e75653217a595928552f01\"\n",
    "      ]\n",
    "    },\n",
    "    {\n",
    "      \"order_number\": 201513,\n",
    "      \"date\": \"2023-04-14\",\n",
    "      \"total_sum\": 1923.4,\n",
    "      \"customer\": {\n",
    "        \"name\": \"Nikita\",\n",
    "        \"surname\": \"Ochinskiy\",\n",
    "        \"phones\": [\n",
    "          312312412,\n",
    "          4123213\n",
    "        ],\n",
    "        \"address\": \"PTI, Peremohy 37, Odesa, UA\"\n",
    "      },\n",
    "      \"payment\": {\n",
    "        \"card_owner\": \"Nikita Ochinskiy\",\n",
    "        \"cardId\": {\n",
    "          \"$numberLong\": \"1234567812398723\"\n",
    "        }\n",
    "      },\n",
    "      \"items_id\": [\n",
    "        \"65e75653217a595928552f00\",\n",
    "        \"65e75653217a595928552f02\"\n",
    "      ]\n",
    "    },\n",
    "    {\n",
    "      \"order_number\": 4911134,\n",
    "      \"date\": \"2012-04-14\",\n",
    "      \"total_sum\": 1923.4,\n",
    "      \"customer\": {\n",
    "        \"name\": \"Loza\",\n",
    "        \"surname\": \"Bandura\",\n",
    "        \"phones\": [\n",
    "          {\n",
    "            \"$numberLong\": \"98765435334\"\n",
    "          },\n",
    "          1234567434\n",
    "        ],\n",
    "        \"address\": \"PTI, Peremohy 37, Kyiv, UA\"\n",
    "      },\n",
    "      \"payment\": {\n",
    "        \"card_owner\": \"Loza Bandura\",\n",
    "        \"cardId\": {\n",
    "          \"$numberLong\": \"12345678123124\"\n",
    "        }\n",
    "      },\n",
    "      \"items_id\": [\n",
    "        \"65e75653217a595928552f02\",\n",
    "        \"65e75653217a595928552f03\"\n",
    "      ]\n",
    "    },\n",
    "    {\n",
    "      \"order_number\": {\n",
    "        \"$numberLong\": \"4911134412\"\n",
    "      },\n",
    "      \"date\": \"2012-09-14\",\n",
    "      \"total_sum\": 1923.4,\n",
    "      \"customer\": {\n",
    "        \"name\": \"Koza\",\n",
    "        \"surname\": \"Zandura\",\n",
    "        \"phones\": [\n",
    "          {\n",
    "            \"$numberLong\": \"98765435334\"\n",
    "          },\n",
    "          1234567434\n",
    "        ],\n",
    "        \"address\": \"PTI, Asdas 37, Kyiv, UA\"\n",
    "      },\n",
    "      \"payment\": {\n",
    "        \"card_owner\": \"Loza Bsas\",\n",
    "        \"cardId\": {\n",
    "          \"$numberLong\": \"12345678123124\"\n",
    "        }\n",
    "      },\n",
    "      \"items_id\": [\n",
    "        \"65e75653217a595928552f01\",\n",
    "        \"65e75653217a595928552f03\"\n",
    "      ]\n",
    "    }\n",
    "  ]\n",
    "\n",
    "orders.insert_many(dataset)"
   ]
  },
  {
   "cell_type": "markdown",
   "id": "90131894",
   "metadata": {},
   "source": [
    "### 2. Виведіть всі замовлення"
   ]
  },
  {
   "cell_type": "code",
   "execution_count": 207,
   "id": "f96a096d",
   "metadata": {},
   "outputs": [
    {
     "name": "stdout",
     "output_type": "stream",
     "text": [
      "{'_id': ObjectId('65e7806a217a59592855304b'),\n",
      " 'customer': {'address': 'PTI, Peremohy 37, Kyiv, UA',\n",
      "              'name': 'Andrii',\n",
      "              'phones': [9876543, 1234567],\n",
      "              'surname': 'Rodinov'},\n",
      " 'date': '2015-04-14',\n",
      " 'items_id': ['65e75653217a595928552f00', '65e75653217a595928552f01'],\n",
      " 'order_number': 201513,\n",
      " 'payment': {'cardId': 12345678, 'card_owner': 'Andrii Rodionov'},\n",
      " 'total_sum': 1923.4}\n",
      "{'_id': ObjectId('65e7806a217a59592855304c'),\n",
      " 'customer': {'address': 'PTI, Peremohy 37, Odesa, UA',\n",
      "              'name': 'Nikita',\n",
      "              'phones': [312312412, 4123213],\n",
      "              'surname': 'Ochinskiy'},\n",
      " 'date': '2023-04-14',\n",
      " 'items_id': ['65e75653217a595928552f00', '65e75653217a595928552f02'],\n",
      " 'order_number': 201513,\n",
      " 'payment': {'cardId': {'$numberLong': '1234567812398723'},\n",
      "             'card_owner': 'Nikita Ochinskiy'},\n",
      " 'total_sum': 1923.4}\n",
      "{'_id': ObjectId('65e7806a217a59592855304d'),\n",
      " 'customer': {'address': 'PTI, Peremohy 37, Kyiv, UA',\n",
      "              'name': 'Loza',\n",
      "              'phones': [{'$numberLong': '98765435334'}, 1234567434],\n",
      "              'surname': 'Bandura'},\n",
      " 'date': '2012-04-14',\n",
      " 'items_id': ['65e75653217a595928552f02', '65e75653217a595928552f03'],\n",
      " 'order_number': 4911134,\n",
      " 'payment': {'cardId': {'$numberLong': '12345678123124'},\n",
      "             'card_owner': 'Loza Bandura'},\n",
      " 'total_sum': 1923.4}\n",
      "{'_id': ObjectId('65e7806a217a59592855304e'),\n",
      " 'customer': {'address': 'PTI, Asdas 37, Kyiv, UA',\n",
      "              'name': 'Koza',\n",
      "              'phones': [{'$numberLong': '98765435334'}, 1234567434],\n",
      "              'surname': 'Zandura'},\n",
      " 'date': '2012-09-14',\n",
      " 'items_id': ['65e75653217a595928552f01', '65e75653217a595928552f03'],\n",
      " 'order_number': {'$numberLong': '4911134412'},\n",
      " 'payment': {'cardId': {'$numberLong': '12345678123124'},\n",
      "             'card_owner': 'Loza Bsas'},\n",
      " 'total_sum': 1923.4}\n"
     ]
    }
   ],
   "source": [
    "for x in orders.find():\n",
    "    pprint(x)"
   ]
  },
  {
   "cell_type": "markdown",
   "id": "c5c1e85c",
   "metadata": {},
   "source": [
    "### 3. Виведіть замовлення з вартістю більше певного значення"
   ]
  },
  {
   "cell_type": "code",
   "execution_count": 208,
   "id": "78436a16",
   "metadata": {},
   "outputs": [
    {
     "name": "stdout",
     "output_type": "stream",
     "text": [
      "{'_id': ObjectId('65e7806a217a59592855304b'),\n",
      " 'customer': {'address': 'PTI, Peremohy 37, Kyiv, UA',\n",
      "              'name': 'Andrii',\n",
      "              'phones': [9876543, 1234567],\n",
      "              'surname': 'Rodinov'},\n",
      " 'date': '2015-04-14',\n",
      " 'items_id': ['65e75653217a595928552f00', '65e75653217a595928552f01'],\n",
      " 'order_number': 201513,\n",
      " 'payment': {'cardId': 12345678, 'card_owner': 'Andrii Rodionov'},\n",
      " 'total_sum': 1923.4}\n",
      "{'_id': ObjectId('65e7806a217a59592855304c'),\n",
      " 'customer': {'address': 'PTI, Peremohy 37, Odesa, UA',\n",
      "              'name': 'Nikita',\n",
      "              'phones': [312312412, 4123213],\n",
      "              'surname': 'Ochinskiy'},\n",
      " 'date': '2023-04-14',\n",
      " 'items_id': ['65e75653217a595928552f00', '65e75653217a595928552f02'],\n",
      " 'order_number': 201513,\n",
      " 'payment': {'cardId': {'$numberLong': '1234567812398723'},\n",
      "             'card_owner': 'Nikita Ochinskiy'},\n",
      " 'total_sum': 1923.4}\n",
      "{'_id': ObjectId('65e7806a217a59592855304d'),\n",
      " 'customer': {'address': 'PTI, Peremohy 37, Kyiv, UA',\n",
      "              'name': 'Loza',\n",
      "              'phones': [{'$numberLong': '98765435334'}, 1234567434],\n",
      "              'surname': 'Bandura'},\n",
      " 'date': '2012-04-14',\n",
      " 'items_id': ['65e75653217a595928552f02', '65e75653217a595928552f03'],\n",
      " 'order_number': 4911134,\n",
      " 'payment': {'cardId': {'$numberLong': '12345678123124'},\n",
      "             'card_owner': 'Loza Bandura'},\n",
      " 'total_sum': 1923.4}\n",
      "{'_id': ObjectId('65e7806a217a59592855304e'),\n",
      " 'customer': {'address': 'PTI, Asdas 37, Kyiv, UA',\n",
      "              'name': 'Koza',\n",
      "              'phones': [{'$numberLong': '98765435334'}, 1234567434],\n",
      "              'surname': 'Zandura'},\n",
      " 'date': '2012-09-14',\n",
      " 'items_id': ['65e75653217a595928552f01', '65e75653217a595928552f03'],\n",
      " 'order_number': {'$numberLong': '4911134412'},\n",
      " 'payment': {'cardId': {'$numberLong': '12345678123124'},\n",
      "             'card_owner': 'Loza Bsas'},\n",
      " 'total_sum': 1923.4}\n"
     ]
    }
   ],
   "source": [
    "query =  {\n",
    "    \"total_sum\": {\n",
    "      \"$gte\": 1000.0\n",
    "    }\n",
    "  }\n",
    "\n",
    "for x in orders.find(query):\n",
    "    pprint(x)"
   ]
  },
  {
   "cell_type": "markdown",
   "id": "b766102d",
   "metadata": {},
   "source": [
    "### 4. Знайдіть замовлення зроблені одним замовником,\n"
   ]
  },
  {
   "cell_type": "code",
   "execution_count": 209,
   "id": "5ce80412",
   "metadata": {},
   "outputs": [
    {
     "name": "stdout",
     "output_type": "stream",
     "text": [
      "{'_id': ObjectId('65e7806a217a59592855304b'),\n",
      " 'customer': {'address': 'PTI, Peremohy 37, Kyiv, UA',\n",
      "              'name': 'Andrii',\n",
      "              'phones': [9876543, 1234567],\n",
      "              'surname': 'Rodinov'},\n",
      " 'date': '2015-04-14',\n",
      " 'items_id': ['65e75653217a595928552f00', '65e75653217a595928552f01'],\n",
      " 'order_number': 201513,\n",
      " 'payment': {'cardId': 12345678, 'card_owner': 'Andrii Rodionov'},\n",
      " 'total_sum': 1923.4}\n"
     ]
    }
   ],
   "source": [
    "query =  {\n",
    "    \"customer.surname\": \"Rodinov\",\n",
    "    \"customer.name\": \"Andrii\"\n",
    "  }\n",
    "\n",
    "for x in orders.find(query):\n",
    "    pprint(x)"
   ]
  },
  {
   "cell_type": "markdown",
   "id": "a5353e38",
   "metadata": {},
   "source": [
    "### 5. Знайдіть всі замовлення з певним товаром (товарами) (шукати можна по ObjectId),\n"
   ]
  },
  {
   "cell_type": "code",
   "execution_count": 210,
   "id": "d8876926",
   "metadata": {},
   "outputs": [
    {
     "name": "stdout",
     "output_type": "stream",
     "text": [
      "{'_id': ObjectId('65e7806a217a59592855304d'),\n",
      " 'customer': {'address': 'PTI, Peremohy 37, Kyiv, UA',\n",
      "              'name': 'Loza',\n",
      "              'phones': [{'$numberLong': '98765435334'}, 1234567434],\n",
      "              'surname': 'Bandura'},\n",
      " 'date': '2012-04-14',\n",
      " 'items_id': ['65e75653217a595928552f02', '65e75653217a595928552f03'],\n",
      " 'order_number': 4911134,\n",
      " 'payment': {'cardId': {'$numberLong': '12345678123124'},\n",
      "             'card_owner': 'Loza Bandura'},\n",
      " 'total_sum': 1923.4}\n",
      "{'_id': ObjectId('65e7806a217a59592855304e'),\n",
      " 'customer': {'address': 'PTI, Asdas 37, Kyiv, UA',\n",
      "              'name': 'Koza',\n",
      "              'phones': [{'$numberLong': '98765435334'}, 1234567434],\n",
      "              'surname': 'Zandura'},\n",
      " 'date': '2012-09-14',\n",
      " 'items_id': ['65e75653217a595928552f01', '65e75653217a595928552f03'],\n",
      " 'order_number': {'$numberLong': '4911134412'},\n",
      " 'payment': {'cardId': {'$numberLong': '12345678123124'},\n",
      "             'card_owner': 'Loza Bsas'},\n",
      " 'total_sum': 1923.4}\n"
     ]
    }
   ],
   "source": [
    "query =  {\n",
    "    \"items_id\": '65e75653217a595928552f03'\n",
    "  }\n",
    "\n",
    "for x in orders.find(query):\n",
    "    pprint(x)"
   ]
  },
  {
   "cell_type": "markdown",
   "id": "76833ee8",
   "metadata": {},
   "source": [
    "### 6. Додайте в усі замовлення з певним товаром ще один товар і збільште існуючу вартість замовлення на деяке значення Х,\n"
   ]
  },
  {
   "cell_type": "code",
   "execution_count": 211,
   "id": "570c4849",
   "metadata": {},
   "outputs": [
    {
     "data": {
      "text/plain": [
       "UpdateResult({'n': 2, 'nModified': 2, 'ok': 1.0, 'updatedExisting': True}, acknowledged=True)"
      ]
     },
     "execution_count": 211,
     "metadata": {},
     "output_type": "execute_result"
    }
   ],
   "source": [
    "query_find_item = {\n",
    "        \"items_id\": \"65e75653217a595928552f03\"\n",
    "      }\n",
    "\n",
    "query_add_new_item = [{\n",
    "      \"$set\": {\n",
    "        \"items_id\": {\n",
    "          \"$concatArrays\": [\n",
    "            \"$items_id\",\n",
    "            [\n",
    "              \"65e75653217a595928552f00\"\n",
    "            ]\n",
    "          ]\n",
    "        }\n",
    "      }\n",
    "    }]\n",
    "\n",
    "X = 900\n",
    "query_change_total_sum = [{\n",
    "      \"$set\": {\n",
    "        \"total_sum\": {\n",
    "          \"$add\": [\n",
    "            \"$total_sum\", X\n",
    "          ]\n",
    "        }\n",
    "      }\n",
    "    }]\n",
    "\n",
    "orders.update_many(query_find_item, query_add_new_item)\n",
    "orders.update_many(query_find_item, query_change_total_sum)"
   ]
  },
  {
   "cell_type": "code",
   "execution_count": 212,
   "id": "b64ced68",
   "metadata": {},
   "outputs": [
    {
     "name": "stdout",
     "output_type": "stream",
     "text": [
      "{'_id': ObjectId('65e7806a217a59592855304b'),\n",
      " 'customer': {'address': 'PTI, Peremohy 37, Kyiv, UA',\n",
      "              'name': 'Andrii',\n",
      "              'phones': [9876543, 1234567],\n",
      "              'surname': 'Rodinov'},\n",
      " 'date': '2015-04-14',\n",
      " 'items_id': ['65e75653217a595928552f00', '65e75653217a595928552f01'],\n",
      " 'order_number': 201513,\n",
      " 'payment': {'cardId': 12345678, 'card_owner': 'Andrii Rodionov'},\n",
      " 'total_sum': 1923.4}\n",
      "{'_id': ObjectId('65e7806a217a59592855304c'),\n",
      " 'customer': {'address': 'PTI, Peremohy 37, Odesa, UA',\n",
      "              'name': 'Nikita',\n",
      "              'phones': [312312412, 4123213],\n",
      "              'surname': 'Ochinskiy'},\n",
      " 'date': '2023-04-14',\n",
      " 'items_id': ['65e75653217a595928552f00', '65e75653217a595928552f02'],\n",
      " 'order_number': 201513,\n",
      " 'payment': {'cardId': {'$numberLong': '1234567812398723'},\n",
      "             'card_owner': 'Nikita Ochinskiy'},\n",
      " 'total_sum': 1923.4}\n",
      "{'_id': ObjectId('65e7806a217a59592855304d'),\n",
      " 'customer': {'address': 'PTI, Peremohy 37, Kyiv, UA',\n",
      "              'name': 'Loza',\n",
      "              'phones': [{'$numberLong': '98765435334'}, 1234567434],\n",
      "              'surname': 'Bandura'},\n",
      " 'date': '2012-04-14',\n",
      " 'items_id': ['65e75653217a595928552f02',\n",
      "              '65e75653217a595928552f03',\n",
      "              '65e75653217a595928552f00'],\n",
      " 'order_number': 4911134,\n",
      " 'payment': {'cardId': {'$numberLong': '12345678123124'},\n",
      "             'card_owner': 'Loza Bandura'},\n",
      " 'total_sum': 2823.4}\n",
      "{'_id': ObjectId('65e7806a217a59592855304e'),\n",
      " 'customer': {'address': 'PTI, Asdas 37, Kyiv, UA',\n",
      "              'name': 'Koza',\n",
      "              'phones': [{'$numberLong': '98765435334'}, 1234567434],\n",
      "              'surname': 'Zandura'},\n",
      " 'date': '2012-09-14',\n",
      " 'items_id': ['65e75653217a595928552f01',\n",
      "              '65e75653217a595928552f03',\n",
      "              '65e75653217a595928552f00'],\n",
      " 'order_number': {'$numberLong': '4911134412'},\n",
      " 'payment': {'cardId': {'$numberLong': '12345678123124'},\n",
      "             'card_owner': 'Loza Bsas'},\n",
      " 'total_sum': 2823.4}\n"
     ]
    }
   ],
   "source": [
    "for x in orders.find():\n",
    "    pprint(x)"
   ]
  },
  {
   "cell_type": "markdown",
   "id": "e5e24372",
   "metadata": {},
   "source": [
    "### 7. Виведіть кількість товарів в певному замовленні,\n"
   ]
  },
  {
   "cell_type": "code",
   "execution_count": 213,
   "id": "3a3b9b68",
   "metadata": {},
   "outputs": [
    {
     "name": "stdout",
     "output_type": "stream",
     "text": [
      "{'Amount of items in order': 3}\n"
     ]
    }
   ],
   "source": [
    "query = [\n",
    "    {\n",
    "      \"$match\": {\n",
    "        \"order_number\": 4911134\n",
    "      }\n",
    "    },\n",
    "    {\n",
    "      \"$unwind\": {\n",
    "        \"path\": \"$items_id\"\n",
    "      }\n",
    "    },\n",
    "    {\n",
    "      \"$count\": \"Amount of items in order\"\n",
    "    }\n",
    "  ]\n",
    "\n",
    "for x in orders.aggregate(query):\n",
    "    pprint(x)"
   ]
  },
  {
   "cell_type": "markdown",
   "id": "f3d3515b",
   "metadata": {},
   "source": [
    "### 8. Виведіть тільки інформацію про кастомера і номери кредитної карт, для замовлень вартість яких перевищує певну суму,\n"
   ]
  },
  {
   "cell_type": "code",
   "execution_count": 214,
   "id": "bc45ce40",
   "metadata": {},
   "outputs": [
    {
     "name": "stdout",
     "output_type": "stream",
     "text": [
      "{'_id': {'cart_id': {'$numberLong': '12345678123124'},\n",
      "         'customer': {'address': 'PTI, Peremohy 37, Kyiv, UA',\n",
      "                      'name': 'Loza',\n",
      "                      'phones': [{'$numberLong': '98765435334'}, 1234567434],\n",
      "                      'surname': 'Bandura'}}}\n",
      "{'_id': {'cart_id': {'$numberLong': '12345678123124'},\n",
      "         'customer': {'address': 'PTI, Asdas 37, Kyiv, UA',\n",
      "                      'name': 'Koza',\n",
      "                      'phones': [{'$numberLong': '98765435334'}, 1234567434],\n",
      "                      'surname': 'Zandura'}}}\n"
     ]
    }
   ],
   "source": [
    "query = [\n",
    "    {\n",
    "      \"$match\": \n",
    "      {\n",
    "        \"total_sum\": {\n",
    "          \"$gte\": 2000\n",
    "        }\n",
    "      }\n",
    "    },\n",
    "    {\n",
    "      \"$group\": {\n",
    "        \"_id\": {\n",
    "          \"customer\": \"$customer\",\n",
    "          \"cart_id\": \"$payment.cardId\"\n",
    "        }\n",
    "      }\n",
    "    }\n",
    "  ]\n",
    "\n",
    "for x in orders.aggregate(query):\n",
    "    pprint(x)"
   ]
  },
  {
   "cell_type": "markdown",
   "id": "ad6120d2",
   "metadata": {},
   "source": [
    "### 9. Видаліть товар з замовлень, зроблених за певний період дат\n"
   ]
  },
  {
   "cell_type": "code",
   "execution_count": 215,
   "id": "18a6f180",
   "metadata": {},
   "outputs": [
    {
     "data": {
      "text/plain": [
       "DeleteResult({'n': 1, 'ok': 1.0}, acknowledged=True)"
      ]
     },
     "execution_count": 215,
     "metadata": {},
     "output_type": "execute_result"
    }
   ],
   "source": [
    "query = {\n",
    "    \"date\": {\n",
    "      \"$gte\": \"2012-09-14\",\n",
    "      \"$lte\": \"2014-04-13\"\n",
    "    }\n",
    "  }\n",
    "\n",
    "orders.delete_many(query)"
   ]
  },
  {
   "cell_type": "code",
   "execution_count": 216,
   "id": "deb6e629",
   "metadata": {},
   "outputs": [
    {
     "name": "stdout",
     "output_type": "stream",
     "text": [
      "{'_id': ObjectId('65e7806a217a59592855304b'),\n",
      " 'customer': {'address': 'PTI, Peremohy 37, Kyiv, UA',\n",
      "              'name': 'Andrii',\n",
      "              'phones': [9876543, 1234567],\n",
      "              'surname': 'Rodinov'},\n",
      " 'date': '2015-04-14',\n",
      " 'items_id': ['65e75653217a595928552f00', '65e75653217a595928552f01'],\n",
      " 'order_number': 201513,\n",
      " 'payment': {'cardId': 12345678, 'card_owner': 'Andrii Rodionov'},\n",
      " 'total_sum': 1923.4}\n",
      "{'_id': ObjectId('65e7806a217a59592855304c'),\n",
      " 'customer': {'address': 'PTI, Peremohy 37, Odesa, UA',\n",
      "              'name': 'Nikita',\n",
      "              'phones': [312312412, 4123213],\n",
      "              'surname': 'Ochinskiy'},\n",
      " 'date': '2023-04-14',\n",
      " 'items_id': ['65e75653217a595928552f00', '65e75653217a595928552f02'],\n",
      " 'order_number': 201513,\n",
      " 'payment': {'cardId': {'$numberLong': '1234567812398723'},\n",
      "             'card_owner': 'Nikita Ochinskiy'},\n",
      " 'total_sum': 1923.4}\n",
      "{'_id': ObjectId('65e7806a217a59592855304d'),\n",
      " 'customer': {'address': 'PTI, Peremohy 37, Kyiv, UA',\n",
      "              'name': 'Loza',\n",
      "              'phones': [{'$numberLong': '98765435334'}, 1234567434],\n",
      "              'surname': 'Bandura'},\n",
      " 'date': '2012-04-14',\n",
      " 'items_id': ['65e75653217a595928552f02',\n",
      "              '65e75653217a595928552f03',\n",
      "              '65e75653217a595928552f00'],\n",
      " 'order_number': 4911134,\n",
      " 'payment': {'cardId': {'$numberLong': '12345678123124'},\n",
      "             'card_owner': 'Loza Bandura'},\n",
      " 'total_sum': 2823.4}\n"
     ]
    }
   ],
   "source": [
    "for x in orders.find():\n",
    "    pprint(x)"
   ]
  },
  {
   "cell_type": "markdown",
   "id": "16a18201",
   "metadata": {},
   "source": [
    "### 10. Перейменуйте у всіх замовлення ім'я (прізвище) замовника"
   ]
  },
  {
   "cell_type": "code",
   "execution_count": 217,
   "id": "ab41ec50",
   "metadata": {},
   "outputs": [
    {
     "data": {
      "text/plain": [
       "UpdateResult({'n': 3, 'nModified': 3, 'ok': 1.0, 'updatedExisting': True}, acknowledged=True)"
      ]
     },
     "execution_count": 217,
     "metadata": {},
     "output_type": "execute_result"
    }
   ],
   "source": [
    "query = [\n",
    "    {\n",
    "      \"$set\": {\n",
    "        \"customer.name\": \"Misha\",\n",
    "        \"customer.surname\": \"Mezinov\",\n",
    "        \"payment.card_owner\": \"Misha Mezinov\"\n",
    "      }\n",
    "    }\n",
    "  ]\n",
    "\n",
    "orders.update_many({}, query)"
   ]
  },
  {
   "cell_type": "code",
   "execution_count": 218,
   "id": "4857b122",
   "metadata": {},
   "outputs": [
    {
     "name": "stdout",
     "output_type": "stream",
     "text": [
      "{'_id': ObjectId('65e7806a217a59592855304b'),\n",
      " 'customer': {'address': 'PTI, Peremohy 37, Kyiv, UA',\n",
      "              'name': 'Misha',\n",
      "              'phones': [9876543, 1234567],\n",
      "              'surname': 'Mezinov'},\n",
      " 'date': '2015-04-14',\n",
      " 'items_id': ['65e75653217a595928552f00', '65e75653217a595928552f01'],\n",
      " 'order_number': 201513,\n",
      " 'payment': {'cardId': 12345678, 'card_owner': 'Misha Mezinov'},\n",
      " 'total_sum': 1923.4}\n",
      "{'_id': ObjectId('65e7806a217a59592855304c'),\n",
      " 'customer': {'address': 'PTI, Peremohy 37, Odesa, UA',\n",
      "              'name': 'Misha',\n",
      "              'phones': [312312412, 4123213],\n",
      "              'surname': 'Mezinov'},\n",
      " 'date': '2023-04-14',\n",
      " 'items_id': ['65e75653217a595928552f00', '65e75653217a595928552f02'],\n",
      " 'order_number': 201513,\n",
      " 'payment': {'cardId': {'$numberLong': '1234567812398723'},\n",
      "             'card_owner': 'Misha Mezinov'},\n",
      " 'total_sum': 1923.4}\n",
      "{'_id': ObjectId('65e7806a217a59592855304d'),\n",
      " 'customer': {'address': 'PTI, Peremohy 37, Kyiv, UA',\n",
      "              'name': 'Misha',\n",
      "              'phones': [{'$numberLong': '98765435334'}, 1234567434],\n",
      "              'surname': 'Mezinov'},\n",
      " 'date': '2012-04-14',\n",
      " 'items_id': ['65e75653217a595928552f02',\n",
      "              '65e75653217a595928552f03',\n",
      "              '65e75653217a595928552f00'],\n",
      " 'order_number': 4911134,\n",
      " 'payment': {'cardId': {'$numberLong': '12345678123124'},\n",
      "             'card_owner': 'Misha Mezinov'},\n",
      " 'total_sum': 2823.4}\n"
     ]
    }
   ],
   "source": [
    "for x in orders.find():\n",
    "    pprint(x)"
   ]
  },
  {
   "cell_type": "markdown",
   "id": "d40433d5",
   "metadata": {},
   "source": [
    "### 11. Знайдіть замовлення зроблені одним замовником, і виведіть тільки інформацію про кастомерата товари у замовлені підставивши замість ObjectId(\"***\") назви товарів та їх вартість\n",
    "  \n",
    "#### (аналог join-а між таблицями orders та items)."
   ]
  },
  {
   "cell_type": "code",
   "execution_count": 219,
   "id": "21902f4f",
   "metadata": {},
   "outputs": [
    {
     "name": "stdout",
     "output_type": "stream",
     "text": [
      "'--------------------------------------------------------------------------'\n",
      "{'_id': {'customer_name': 'Misha',\n",
      "         'customer_surname': 'Mezinov',\n",
      "         'product_category': 'Laptop',\n",
      "         'product_model': 'MacBook Pro',\n",
      "         'product_price': 3614.400000000001}}\n",
      "'--------------------------------------------------------------------------'\n",
      "{'_id': {'customer_name': 'Misha',\n",
      "         'customer_surname': 'Mezinov',\n",
      "         'product_category': 'TV',\n",
      "         'product_model': 'SM-LED-FULL-PLUS',\n",
      "         'product_price': 5082.0}}\n",
      "'--------------------------------------------------------------------------'\n",
      "{'_id': {'customer_name': 'Misha',\n",
      "         'customer_surname': 'Mezinov',\n",
      "         'product_category': 'Washing machine',\n",
      "         'product_model': 'LX-57348',\n",
      "         'product_price': 1402.5}}\n",
      "'--------------------------------------------------------------------------'\n",
      "{'_id': {'customer_name': 'Misha',\n",
      "         'customer_surname': 'Mezinov',\n",
      "         'product_category': 'Phone',\n",
      "         'product_model': 'iPhone 6',\n",
      "         'product_price': 1654.2}}\n"
     ]
    }
   ],
   "source": [
    "query = [\n",
    "    {\n",
    "      \"$unwind\": {\n",
    "        \"path\": \"$items_id\"\n",
    "      }\n",
    "    },\n",
    "    {\n",
    "      \"$set\": {\n",
    "        \"items_id\": {\n",
    "          \"$toObjectId\": \"$items_id\"\n",
    "        }\n",
    "      }\n",
    "    },\n",
    "    {\n",
    "      \"$lookup\": {\n",
    "        \"from\": \"items\",\n",
    "        \"localField\": \"items_id\",\n",
    "        \"foreignField\": \"_id\",\n",
    "        \"as\": \"item_params\"\n",
    "      }\n",
    "    },\n",
    "    {\n",
    "      \"$unwind\": {\n",
    "        \"path\": \"$item_params\"\n",
    "      }\n",
    "    },\n",
    "    {\n",
    "      \"$group\": {\n",
    "        \"_id\": {\n",
    "          \"customer_name\": \"$customer.name\",\n",
    "          \"customer_surname\": \"$customer.surname\",\n",
    "          \"product_category\": \"$item_params.category\",\n",
    "          \"product_model\": \"$item_params.model\",\n",
    "          \"product_price\": \"$item_params.price\"\n",
    "        }\n",
    "      }\n",
    "    }\n",
    "]\n",
    "\n",
    "for x in orders.aggregate(query):\n",
    "    print('--------------------------------------------------------------------------')\n",
    "    pprint(x)"
   ]
  },
  {
   "cell_type": "code",
   "execution_count": 221,
   "id": "3d6d5fff",
   "metadata": {},
   "outputs": [
    {
     "data": {
      "text/plain": [
       "DeleteResult({'n': 0, 'ok': 1.0}, acknowledged=True)"
      ]
     },
     "execution_count": 221,
     "metadata": {},
     "output_type": "execute_result"
    }
   ],
   "source": [
    "# feedbacks.drop()\n",
    "feedbacks = mydb.create_collection('feedbacks', capped=True, size=1000000, max=5)\n",
    "feedbacks.delete_many({})"
   ]
  },
  {
   "cell_type": "code",
   "execution_count": 223,
   "id": "5eefe508",
   "metadata": {},
   "outputs": [
    {
     "name": "stdout",
     "output_type": "stream",
     "text": [
      "'Added message 0 to list'\n",
      "'Added message 1 to list'\n",
      "'Added message 2 to list'\n",
      "'Added message 3 to list'\n",
      "'Added message 4 to list'\n",
      "'Added message 5 to list'\n",
      "'Added message 6 to list'\n",
      "'Added message 7 to list'\n",
      "'Added message 8 to list'\n",
      "'Added message 9 to list'\n",
      "'--------------------------------------------------------------------------'\n",
      "'And now I output whole collection, but it would has only 5 last documents'\n",
      "'--------------------------------------------------------------------------'\n",
      "{'_id': ObjectId('65e7809f217a59592855305e'), 'message': 5}\n",
      "{'_id': ObjectId('65e7809f217a59592855305f'), 'message': 6}\n",
      "{'_id': ObjectId('65e7809f217a595928553060'), 'message': 7}\n",
      "{'_id': ObjectId('65e7809f217a595928553061'), 'message': 8}\n",
      "{'_id': ObjectId('65e7809f217a595928553062'), 'message': 9}\n"
     ]
    }
   ],
   "source": [
    "# I run 10 times \n",
    "for x in range(10):\n",
    "    feedbacks.insert_one({'message': x})\n",
    "    print(f'Added message {x} to list')\n",
    "\n",
    "print('--------------------------------------------------------------------------')\n",
    "print(f'And now I output whole collection, but it would has only 5 last documents')\n",
    "print('--------------------------------------------------------------------------')\n",
    "\n",
    "for x in feedbacks.find():\n",
    "    print(x)"
   ]
  },
  {
   "cell_type": "code",
   "execution_count": null,
   "id": "f9f6d84d",
   "metadata": {},
   "outputs": [],
   "source": []
  },
  {
   "cell_type": "code",
   "execution_count": null,
   "id": "6e10ecab",
   "metadata": {},
   "outputs": [],
   "source": []
  }
 ],
 "metadata": {
  "kernelspec": {
   "display_name": "Python 3",
   "language": "python",
   "name": "python3"
  },
  "language_info": {
   "codemirror_mode": {
    "name": "ipython",
    "version": 3
   },
   "file_extension": ".py",
   "mimetype": "text/x-python",
   "name": "python",
   "nbconvert_exporter": "python",
   "pygments_lexer": "ipython3",
   "version": "3.8.8"
  }
 },
 "nbformat": 4,
 "nbformat_minor": 5
}
