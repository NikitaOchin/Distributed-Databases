{
 "cells": [
  {
   "cell_type": "markdown",
   "id": "510ac113",
   "metadata": {},
   "source": [
    "### Створіть keyspace з найпростішої стратегією реплікації \n",
    "\n",
    "https://docs.datastax.com/en/dse/6.8/cql/cql/cql_using/useCreateKeyspace.html \n"
   ]
  },
  {
   "cell_type": "markdown",
   "id": "951de7a8",
   "metadata": {},
   "source": [
    "## I created keyspace in using cqlsh by the next QUERY\n",
    "\n",
    "#### CREATE KEYSPACE IF NOT EXISTS first_keyspace\n",
    "####    WITH REPLICATION = {\n",
    "####        'class' : 'SimpleStrategy',\n",
    "####        'replication_factor' : 1\n",
    "####        };"
   ]
  },
  {
   "cell_type": "code",
   "execution_count": 10,
   "id": "5bf57075",
   "metadata": {},
   "outputs": [
    {
     "data": {
      "text/plain": [
       "<cassandra.cluster.ResultSet at 0x2e07d4d5820>"
      ]
     },
     "execution_count": 10,
     "metadata": {},
     "output_type": "execute_result"
    }
   ],
   "source": [
    "# !pip install cassandra-driver\n",
    "\n",
    "from cassandra.cluster import Cluster\n",
    "\n",
    "cluster = Cluster(['127.0.0.1'],port=9042)\n",
    "session = cluster.connect('first_keyspace', wait_for_all_pools=True)\n",
    "session.execute('USE first_keyspace')Створіть keyspace з найпростішої стратегією реплікації https://docs.datastax.com/en/dse/6.8/cql/cql/cql_using/useCreateKeyspace.html \n"
   ]
  },
  {
   "cell_type": "markdown",
   "id": "3260f711",
   "metadata": {},
   "source": [
    "\n",
    "Аналогічно завданням по MongoDB Вам необхідно змоделювати інтернет-магазин який містить різноманітні товара (тобто у яких різний набір властивостей) - таблиця items. \n",
    "#### Необхідно, щоб пошук швидко працював для визначеної категорії товарів\n",
    "\n",
    "Для набору властивостей товару виберіть базові характеристики однакові для всіх товарів (назва, ціна, виробник, ...), а для властивостей які відрізняються використовуйте тип map (з індексом для можливості пошуку по її вмісту)\n"
   ]
  },
  {
   "cell_type": "code",
   "execution_count": 15,
   "id": "40728f10",
   "metadata": {},
   "outputs": [
    {
     "name": "stdout",
     "output_type": "stream",
     "text": [
      "<cassandra.cluster.ResultSet object at 0x000002E07D57E070>\n",
      "<cassandra.cluster.ResultSet object at 0x000002E07D3A45B0>\n",
      "<cassandra.cluster.ResultSet object at 0x000002E07D0E01F0>\n",
      "<cassandra.cluster.ResultSet object at 0x000002E07D58EE20>\n",
      "<cassandra.cluster.ResultSet object at 0x000002E07D5897F0>\n",
      "<cassandra.cluster.ResultSet object at 0x000002E07D5891C0>\n",
      "<cassandra.cluster.ResultSet object at 0x000002E07D589790>\n",
      "<cassandra.cluster.ResultSet object at 0x000002E07D589430>\n",
      "<cassandra.cluster.ResultSet object at 0x000002E07D587CD0>\n"
     ]
    }
   ],
   "source": [
    "# Create items table and indexes for attributes\n",
    "query_for_items_table_creation='''\n",
    "CREATE TABLE IF NOT EXISTS first_keyspace.items\n",
    "(\n",
    "    category_name text,\n",
    "    price         float,\n",
    "    item_name     text,\n",
    "    item_id       int,\n",
    "    manufacturer  text,\n",
    "    attributes    map<text, text>,\n",
    "    PRIMARY KEY (category_name, price, item_name)\n",
    ");'''\n",
    "\n",
    "print(session.execute(query_for_items_table_creation))\n",
    "\n",
    "query_for_index_creation_attributes_keys = '''\n",
    "CREATE INDEX IF NOT EXISTS ON first_keyspace.items (keys (attributes));\n",
    "'''\n",
    "print(session.execute(query_for_index_creation_attributes_keys))\n",
    "\n",
    "\n",
    "query_for_index_creation_attributes_values = '''\n",
    "CREATE INDEX IF NOT EXISTS ON first_keyspace.items (values (attributes));\n",
    "'''\n",
    "print(session.execute(query_for_index_creation_attributes_values))\n",
    "\n",
    "\n",
    "# Insert values examples\n",
    "queries_for_insert = [\n",
    "'''INSERT INTO first_keyspace.items (item_name, price, manufacturer, category_name, attributes, item_id)\n",
    "VALUES ('Iphone 15 ProMax', 850.00, 'Apple', 'Phones', {'country': 'China'}, 1);''',\n",
    "'''INSERT INTO first_keyspace.items (item_name, price, manufacturer, category_name, attributes, item_id)\n",
    "VALUES ('Iphone 15 Pro', 1150.00, 'Apple', 'Phones', {}, 2);''',\n",
    "'''INSERT INTO first_keyspace.items (item_name, price, manufacturer, category_name, attributes, item_id)\n",
    "VALUES ('Iphone 15', 1850.00, 'Apple', 'Phones', {'country': 'China'}, 3);''',\n",
    "\n",
    "'''INSERT INTO first_keyspace.items (item_name, price, manufacturer, category_name, attributes, item_id)\n",
    "VALUES ('TV 9823 LK PRO', 3850.00, 'Samsung', 'TV', {'color': 'white'}, 4);''',\n",
    "'''INSERT INTO first_keyspace.items (item_name, price, manufacturer, category_name, attributes, item_id)\n",
    "VALUES ('АОТУ 123 ОЩ', 4550.00, 'Sony', 'TV', {'color': 'black'}, 5);''',\n",
    "'''INSERT INTO first_keyspace.items (item_name, price, manufacturer, category_name, attributes, item_id)\n",
    "VALUES ('TV 487 HJH ', 2650.00, 'LG', 'TV', {}, 6);''']\n",
    "\n",
    "for insert_query in queries_for_insert:\n",
    "    print(session.execute(insert_query))"
   ]
  },
  {
   "cell_type": "markdown",
   "id": "e299e3b0",
   "metadata": {},
   "source": [
    "### 1. Напишіть запит, який показує структуру створеної таблиці (команда DESCRIBE)"
   ]
  },
  {
   "cell_type": "code",
   "execution_count": 29,
   "id": "ffe264ed",
   "metadata": {},
   "outputs": [
    {
     "name": "stdout",
     "output_type": "stream",
     "text": [
      "keyspace_name:  first_keyspace\n",
      "type:  table\n",
      "name:  items\n",
      "create_statement:  CREATE TABLE first_keyspace.items (\n",
      "    category_name text,\n",
      "    price float,\n",
      "    item_name text,\n",
      "    item_id int,\n",
      "    manufacturer text,\n",
      "    attributes map<text, text>,\n",
      "    PRIMARY KEY (category_name, price, item_name)\n",
      ") WITH CLUSTERING ORDER BY (price ASC, item_name ASC)\n",
      "    AND additional_write_policy = '99p'\n",
      "    AND bloom_filter_fp_chance = 0.01\n",
      "    AND caching = {'keys': 'ALL', 'rows_per_partition': 'NONE'}\n",
      "    AND cdc = false\n",
      "    AND comment = ''\n",
      "    AND compaction = {'class': 'org.apache.cassandra.db.compaction.SizeTieredCompactionStrategy', 'max_threshold': '32', 'min_threshold': '4'}\n",
      "    AND compression = {'chunk_length_in_kb': '16', 'class': 'org.apache.cassandra.io.compress.LZ4Compressor'}\n",
      "    AND memtable = 'default'\n",
      "    AND crc_check_chance = 1.0\n",
      "    AND default_time_to_live = 0\n",
      "    AND extensions = {}\n",
      "    AND gc_grace_seconds = 864000\n",
      "    AND max_index_interval = 2048\n",
      "    AND memtable_flush_period_in_ms = 0\n",
      "    AND min_index_interval = 128\n",
      "    AND read_repair = 'BLOCKING'\n",
      "    AND speculative_retry = '99p';\n",
      "keyspace_name:  first_keyspace\n",
      "type:  index\n",
      "name:  items_attributes_idx\n",
      "create_statement:  CREATE INDEX items_attributes_idx ON first_keyspace.items (keys(attributes));\n",
      "keyspace_name:  first_keyspace\n",
      "type:  index\n",
      "name:  items_attributes_idx_1\n",
      "create_statement:  CREATE INDEX items_attributes_idx_1 ON first_keyspace.items (values(attributes));\n"
     ]
    }
   ],
   "source": [
    "for row in session.execute(\"DESCRIBE first_keyspace.items;\"):\n",
    "#     [print(x) for x in row.split('\\n')]\n",
    "    print('keyspace_name: ', row.keyspace_name)\n",
    "    print('type: ', row.type) \n",
    "    print('name: ', row.name)\n",
    "    print('create_statement: ', row.create_statement)"
   ]
  },
  {
   "cell_type": "markdown",
   "id": "6bebc167",
   "metadata": {},
   "source": [
    "### 2. Напишіть запит, який виводить усі товари в певній категорії відсортовані за ціною"
   ]
  },
  {
   "cell_type": "code",
   "execution_count": 34,
   "id": "1520701c",
   "metadata": {},
   "outputs": [
    {
     "name": "stdout",
     "output_type": "stream",
     "text": [
      "Row(category_name='TV', price=4550.0, item_name='АОТУ 123 ОЩ', attributes=OrderedMapSerializedKey([('color', 'black')]), item_id=5, manufacturer='Sony')\n",
      "Row(category_name='TV', price=3850.0, item_name='TV 9823 LK PRO', attributes=OrderedMapSerializedKey([('color', 'white')]), item_id=4, manufacturer='Samsung')\n",
      "Row(category_name='TV', price=2650.0, item_name='TV 487 HJH ', attributes=None, item_id=6, manufacturer='LG')\n"
     ]
    }
   ],
   "source": [
    "query_to_find_special_category = '''\n",
    "SELECT *\n",
    "FROM first_keyspace.items\n",
    "WHERE category_name = 'TV'\n",
    "ORDER BY price DESC;\n",
    "'''\n",
    "\n",
    "for row in session.execute(query_to_find_special_category):\n",
    "    print(row)"
   ]
  },
  {
   "cell_type": "markdown",
   "id": "442faee7",
   "metadata": {},
   "source": [
    "### 3. Напишіть запити, які вибирають товари за різними критеріями в межах певної категорії (тут де треба замість індексу використайте Matirialized view):\n",
    "- назва, \n",
    "- ціна (в проміжку), \n",
    "- ціна та виробник \n"
   ]
  },
  {
   "cell_type": "code",
   "execution_count": 38,
   "id": "34414931",
   "metadata": {},
   "outputs": [
    {
     "name": "stdout",
     "output_type": "stream",
     "text": [
      "Find the items by PRICE RANGE\n",
      "Row(category_name='TV', price=2650.0, item_name='TV 487 HJH ', attributes=None, item_id=6, manufacturer='LG')\n"
     ]
    }
   ],
   "source": [
    "query_find_by_price_range = '''\n",
    "SELECT *\n",
    "FROM first_keyspace.items\n",
    "WHERE category_name = 'TV'\n",
    "  AND price > 2000\n",
    "  AND price < 3000;\n",
    "'''\n",
    "\n",
    "print('Find the items by PRICE RANGE')\n",
    "for row in session.execute(query_find_by_price_range):\n",
    "    print(row)"
   ]
  },
  {
   "cell_type": "code",
   "execution_count": 39,
   "id": "5604d44a",
   "metadata": {},
   "outputs": [
    {
     "name": "stdout",
     "output_type": "stream",
     "text": [
      "<cassandra.cluster.ResultSet object at 0x000002E07D190D30>\n",
      "Find the items by NAME\n",
      "Row(category_name='Phones', item_name='Iphone 15', manufacturer='Apple', price=1850.0, attributes=OrderedMapSerializedKey([('country', 'China')]), item_id=3)\n"
     ]
    }
   ],
   "source": [
    "# Changed in cassandra.yaml parameter enable_materialized_views: true\n",
    "\n",
    "query_for_mv_for_find_name_creation = '''CREATE MATERIALIZED VIEW IF NOT EXISTS first_keyspace.items_name_mv AS\n",
    "SELECT *\n",
    "FROM first_keyspace.items\n",
    "WHERE category_name IS NOT NULL\n",
    "  AND price IS NOT NULL\n",
    "  AND item_name IS NOT NULL\n",
    "  AND manufacturer IS NOT NULL\n",
    "PRIMARY KEY (category_name, item_name, manufacturer, price);\n",
    "'''\n",
    "print(session.execute(query_for_mv_for_find_name_creation))\n",
    "\n",
    "\n",
    "query_find_by_name = '''\n",
    "SELECT *\n",
    "FROM first_keyspace.items_name_mv\n",
    "WHERE category_name = 'Phones'\n",
    "  AND item_name = 'Iphone 15';\n",
    "'''\n",
    "\n",
    "print('Find the items by NAME')\n",
    "for row in session.execute(query_find_by_name):\n",
    "    print(row)"
   ]
  },
  {
   "cell_type": "code",
   "execution_count": 40,
   "id": "d64e0f75",
   "metadata": {},
   "outputs": [
    {
     "name": "stdout",
     "output_type": "stream",
     "text": [
      "<cassandra.cluster.ResultSet object at 0x000002E07D3C7FA0>\n",
      "Find the items by PRICE AND MANUFACTOR\n",
      "Row(category_name='Phones', manufacturer='Apple', price=1150.0, item_name='Iphone 15 Pro', attributes=None, item_id=2)\n",
      "Row(category_name='Phones', manufacturer='Apple', price=1850.0, item_name='Iphone 15', attributes=OrderedMapSerializedKey([('country', 'China')]), item_id=3)\n"
     ]
    }
   ],
   "source": [
    "# Changed in cassandra.yaml parameter enable_materialized_views: true\n",
    "\n",
    "query_for_mv_for_find_price_and_manufactor_creation = '''\n",
    "CREATE MATERIALIZED VIEW IF NOT EXISTS first_keyspace.items_manufactor_and_price_mv AS\n",
    "SELECT *\n",
    "FROM first_keyspace.items\n",
    "WHERE category_name IS NOT NULL\n",
    "  AND price IS NOT NULL\n",
    "  AND item_name IS NOT NULL\n",
    "  AND manufacturer IS NOT NULL\n",
    "PRIMARY KEY (category_name, manufacturer, price, item_name);\n",
    "'''\n",
    "print(session.execute(query_for_mv_for_find_price_and_manufactor_creation))\n",
    "\n",
    "\n",
    "query_find_by_price_and_manufactor = '''\n",
    "SELECT *\n",
    "FROM first_keyspace.items_manufactor_and_price_mv\n",
    "WHERE category_name = 'Phones'\n",
    "  AND manufacturer = 'Apple'\n",
    "  AND price > 1050;\n",
    "'''\n",
    "\n",
    "print('Find the items by PRICE AND MANUFACTOR')\n",
    "for row in session.execute(query_find_by_price_and_manufactor):\n",
    "    print(row)"
   ]
  },
  {
   "cell_type": "markdown",
   "id": "e412b5d9",
   "metadata": {},
   "source": [
    "### 4. Напишіть запити, які вибирають товари за:\n",
    "- наявність певних характеристик\n",
    "- певна характеристика та її значення\n"
   ]
  },
  {
   "cell_type": "code",
   "execution_count": 41,
   "id": "60832ce9",
   "metadata": {},
   "outputs": [
    {
     "name": "stdout",
     "output_type": "stream",
     "text": [
      "Row(category_name='TV', price=3850.0, item_name='TV 9823 LK PRO', attributes=OrderedMapSerializedKey([('color', 'white')]), item_id=4, manufacturer='Samsung')\n",
      "Row(category_name='TV', price=4550.0, item_name='АОТУ 123 ОЩ', attributes=OrderedMapSerializedKey([('color', 'black')]), item_id=5, manufacturer='Sony')\n"
     ]
    }
   ],
   "source": [
    "query_find_by_attributes_keys = '''\n",
    "SELECT *\n",
    "FROM first_keyspace.items\n",
    "WHERE attributes CONTAINS KEY 'color';\n",
    "'''\n",
    "\n",
    "for row in session.execute(query_find_by_attributes_keys):\n",
    "    print(row)"
   ]
  },
  {
   "cell_type": "code",
   "execution_count": 43,
   "id": "6c76ee0c",
   "metadata": {},
   "outputs": [
    {
     "name": "stdout",
     "output_type": "stream",
     "text": [
      "Row(category_name='TV', price=3850.0, item_name='TV 9823 LK PRO', attributes=OrderedMapSerializedKey([('color', 'white')]), item_id=4, manufacturer='Samsung')\n"
     ]
    }
   ],
   "source": [
    "query_find_by_attributes_values = '''\n",
    "SELECT *\n",
    "FROM first_keyspace.items\n",
    "WHERE attributes CONTAINS 'white';\n",
    "'''\n",
    "\n",
    "for row in session.execute(query_find_by_attributes_values):\n",
    "    print(row)"
   ]
  },
  {
   "cell_type": "markdown",
   "id": "65557f6d",
   "metadata": {},
   "source": [
    "### 5. Оновити опис товару:\n",
    "- змінить існуючі значення певної характеристики \n",
    "- додайте нові властивості (характеристики) товару\n",
    "- видалить характеристику товару\n"
   ]
  },
  {
   "cell_type": "code",
   "execution_count": 50,
   "id": "ef4d139e",
   "metadata": {},
   "outputs": [
    {
     "name": "stdout",
     "output_type": "stream",
     "text": [
      "<cassandra.cluster.ResultSet object at 0x000002E07F35A940>\n",
      "Row(attributes=OrderedMapSerializedKey([('country', 'USA')]))\n"
     ]
    }
   ],
   "source": [
    "query_change_existing_value = '''\n",
    "UPDATE first_keyspace.items\n",
    "SET attributes['country'] = 'USA'\n",
    "WHERE category_name = 'Phones'\n",
    "  AND price = 1150\n",
    "  AND item_name = 'Iphone 15 Pro';\n",
    "'''\n",
    "\n",
    "print(session.execute(query_change_existing_value))\n",
    "\n",
    "query_after_update = '''\n",
    "SELECT attributes \n",
    "FROM first_keyspace.items \n",
    "WHERE category_name = 'Phones'\n",
    "  AND price = 1150\n",
    "  AND item_name = 'Iphone 15 Pro';\n",
    "  '''\n",
    "\n",
    "for row in session.execute(query_after_update):\n",
    "    print(row)"
   ]
  },
  {
   "cell_type": "code",
   "execution_count": 51,
   "id": "a4b73fa8",
   "metadata": {},
   "outputs": [
    {
     "name": "stdout",
     "output_type": "stream",
     "text": [
      "<cassandra.cluster.ResultSet object at 0x000002E07D180250>\n",
      "Row(attributes=OrderedMapSerializedKey([('country', 'China'), ('description', 'Garanty for a 1 year')]))\n"
     ]
    }
   ],
   "source": [
    "query_add_new_attributes = '''\n",
    "UPDATE first_keyspace.items\n",
    "SET attributes['description'] = 'Garanty for a 1 year'\n",
    "WHERE category_name = 'Phones'\n",
    "  AND price = 850\n",
    "  AND item_name = 'Iphone 15 ProMax';\n",
    "'''\n",
    "\n",
    "print(session.execute(query_add_new_attributes))\n",
    "\n",
    "query_after_update = '''\n",
    "SELECT attributes \n",
    "FROM first_keyspace.items \n",
    "WHERE category_name = 'Phones'\n",
    "  AND price = 850\n",
    "  AND item_name = 'Iphone 15 ProMax';\n",
    "  '''\n",
    "\n",
    "for row in session.execute(query_after_update):\n",
    "    print(row)"
   ]
  },
  {
   "cell_type": "code",
   "execution_count": 52,
   "id": "8c685dab",
   "metadata": {},
   "outputs": [
    {
     "name": "stdout",
     "output_type": "stream",
     "text": [
      "<cassandra.cluster.ResultSet object at 0x000002E07FD9E3A0>\n",
      "Row(attributes=None)\n"
     ]
    }
   ],
   "source": [
    "query_delete_attributes = '''\n",
    "DELETE attributes['color']\n",
    "FROM first_keyspace.items\n",
    "WHERE category_name = 'TV'\n",
    "  AND price = 3850\n",
    "  AND item_name = 'TV 9823 LK PRO';\n",
    "'''\n",
    "\n",
    "print(session.execute(query_delete_attributes))\n",
    "\n",
    "query_after_update = '''\n",
    "SELECT attributes \n",
    "FROM first_keyspace.items \n",
    "WHERE category_name = 'TV'\n",
    "  AND price = 3850\n",
    "  AND item_name = 'TV 9823 LK PRO';\n",
    "  '''\n",
    "\n",
    "for row in session.execute(query_after_update):\n",
    "    print(row)"
   ]
  },
  {
   "cell_type": "markdown",
   "id": "e895bfea",
   "metadata": {},
   "source": [
    "####  Створіть таблицю orders в якій міститься ім'я замовника і інформація про замовлення: перелік id-товарів у замовленні, вартість замовлення, дата замовлення, .... \n",
    "\n",
    "### Для кожного замовника повинна бути можливість швидко шукати його замовлення і виконувати по них запити.\n"
   ]
  },
  {
   "cell_type": "code",
   "execution_count": 53,
   "id": "a8bafd13",
   "metadata": {},
   "outputs": [
    {
     "name": "stdout",
     "output_type": "stream",
     "text": [
      "<cassandra.cluster.ResultSet object at 0x000002E07FD9E2E0>\n",
      "<cassandra.cluster.ResultSet object at 0x000002E07FD8D8E0>\n",
      "<cassandra.cluster.ResultSet object at 0x000002E07FA79BE0>\n",
      "<cassandra.cluster.ResultSet object at 0x000002E07FD849D0>\n",
      "<cassandra.cluster.ResultSet object at 0x000002E07D5849D0>\n",
      "<cassandra.cluster.ResultSet object at 0x000002E07FD9E3A0>\n"
     ]
    }
   ],
   "source": [
    "# Create items table and indexes for attributes\n",
    "query_for_orders_table_creation='''\n",
    "CREATE TABLE IF NOT EXISTS first_keyspace.orders\n",
    "(\n",
    "    order_id           bigint,\n",
    "    customer_id        bigint,\n",
    "    total_sum          float,\n",
    "    order_created_date date,\n",
    "    item_ids           list<int>,\n",
    "    PRIMARY KEY (customer_id, order_created_date, order_id)\n",
    ");\n",
    "'''\n",
    "\n",
    "print(session.execute(query_for_orders_table_creation))\n",
    "\n",
    "\n",
    "# Insert values examples\n",
    "queries_for_insert = [\n",
    "'''INSERT INTO first_keyspace.orders (order_id, customer_id, total_sum, order_created_date, item_ids)\n",
    "VALUES (1, 1, 850.00, toDate('2024-01-01'), [1, 2, 3]);''',\n",
    "'''INSERT INTO first_keyspace.orders (order_id, customer_id, total_sum, order_created_date, item_ids)\n",
    "VALUES (2, 2, 1150.00, toDate('2024-01-02'), [4, 2, 3]);''',\n",
    "'''INSERT INTO first_keyspace.orders (order_id, customer_id, total_sum, order_created_date, item_ids)\n",
    "VALUES (3, 3, 1850.00, toDate('2024-01-03'), [5, 4, 3]);''',\n",
    "\n",
    "'''INSERT INTO first_keyspace.orders (order_id, customer_id, total_sum, order_created_date, item_ids)\n",
    "VALUES (4, 1, 3850.00, toDate('2024-01-04'), [1, 2, 4]);''',\n",
    "'''INSERT INTO first_keyspace.orders (order_id, customer_id, total_sum, order_created_date, item_ids)\n",
    "VALUES (5, 1, 4550.00, toDate('2024-01-05'), [5, 1, 3]);''']\n",
    "\n",
    "for insert_query in queries_for_insert:\n",
    "    print(session.execute(insert_query))"
   ]
  },
  {
   "cell_type": "markdown",
   "id": "ce8f6372",
   "metadata": {},
   "source": [
    "### 1.Напишіть запит, який показує структуру створеної таблиці (команда DESCRIBE)"
   ]
  },
  {
   "cell_type": "code",
   "execution_count": 54,
   "id": "d68add46",
   "metadata": {},
   "outputs": [
    {
     "name": "stdout",
     "output_type": "stream",
     "text": [
      "keyspace_name:  first_keyspace\n",
      "type:  table\n",
      "name:  orders\n",
      "create_statement:  CREATE TABLE first_keyspace.orders (\n",
      "    customer_id bigint,\n",
      "    order_created_date date,\n",
      "    order_id bigint,\n",
      "    total_sum float,\n",
      "    item_ids list<int>,\n",
      "    PRIMARY KEY (customer_id, order_created_date, order_id)\n",
      ") WITH CLUSTERING ORDER BY (order_created_date ASC, order_id ASC)\n",
      "    AND additional_write_policy = '99p'\n",
      "    AND bloom_filter_fp_chance = 0.01\n",
      "    AND caching = {'keys': 'ALL', 'rows_per_partition': 'NONE'}\n",
      "    AND cdc = false\n",
      "    AND comment = ''\n",
      "    AND compaction = {'class': 'org.apache.cassandra.db.compaction.SizeTieredCompactionStrategy', 'max_threshold': '32', 'min_threshold': '4'}\n",
      "    AND compression = {'chunk_length_in_kb': '16', 'class': 'org.apache.cassandra.io.compress.LZ4Compressor'}\n",
      "    AND memtable = 'default'\n",
      "    AND crc_check_chance = 1.0\n",
      "    AND default_time_to_live = 0\n",
      "    AND extensions = {}\n",
      "    AND gc_grace_seconds = 864000\n",
      "    AND max_index_interval = 2048\n",
      "    AND memtable_flush_period_in_ms = 0\n",
      "    AND min_index_interval = 128\n",
      "    AND read_repair = 'BLOCKING'\n",
      "    AND speculative_retry = '99p';\n"
     ]
    }
   ],
   "source": [
    "for row in session.execute(\"DESCRIBE first_keyspace.orders;\"):\n",
    "#     [print(x) for x in row.split('\\n')]\n",
    "    print('keyspace_name: ', row.keyspace_name)\n",
    "    print('type: ', row.type) \n",
    "    print('name: ', row.name)\n",
    "    print('create_statement: ', row.create_statement)"
   ]
  },
  {
   "cell_type": "markdown",
   "id": "aabfeed2",
   "metadata": {},
   "source": [
    "### 2. Для замовника виведіть всі його замовлення відсортовані за часом коли вони були зроблені"
   ]
  },
  {
   "cell_type": "code",
   "execution_count": 55,
   "id": "cfea8661",
   "metadata": {},
   "outputs": [
    {
     "name": "stdout",
     "output_type": "stream",
     "text": [
      "Row(customer_id=1, order_created_date=Date(19727), order_id=5, item_ids=[5, 1, 3], total_sum=4550.0)\n",
      "Row(customer_id=1, order_created_date=Date(19726), order_id=4, item_ids=[1, 2, 4], total_sum=3850.0)\n",
      "Row(customer_id=1, order_created_date=Date(19723), order_id=1, item_ids=[1, 2, 3], total_sum=850.0)\n"
     ]
    }
   ],
   "source": [
    "query_orders_by_customer = '''\n",
    "SELECT *\n",
    "FROM first_keyspace.orders\n",
    "WHERE customer_id = 1\n",
    "ORDER BY order_created_date DESC;\n",
    "'''\n",
    "\n",
    "for row in session.execute(query_orders_by_customer):\n",
    "    print(row)"
   ]
  },
  {
   "cell_type": "markdown",
   "id": "12e825a2",
   "metadata": {},
   "source": [
    "### 3. Для замовника знайдіть замовлення з певним товаром"
   ]
  },
  {
   "cell_type": "code",
   "execution_count": 58,
   "id": "0dafac62",
   "metadata": {},
   "outputs": [
    {
     "name": "stdout",
     "output_type": "stream",
     "text": [
      "<cassandra.cluster.ResultSet object at 0x000002E07FA92DC0>\n",
      "Row(customer_id=1, order_created_date=Date(19723), order_id=1, item_ids=[1, 2, 3], total_sum=850.0)\n",
      "Row(customer_id=1, order_created_date=Date(19726), order_id=4, item_ids=[1, 2, 4], total_sum=3850.0)\n"
     ]
    }
   ],
   "source": [
    "query_create_index_for_items = '''\n",
    "CREATE INDEX IF NOT EXISTS ON first_keyspace.orders (item_ids);\n",
    "'''\n",
    "print(session.execute(query_create_index_for_items))\n",
    "\n",
    "query_orders_by_item = '''\n",
    "SELECT *\n",
    "FROM first_keyspace.orders\n",
    "WHERE customer_id = 1\n",
    "  AND item_ids CONTAINS 2;\n",
    "\n",
    "'''\n",
    "\n",
    "for row in session.execute(query_orders_by_item):\n",
    "    print(row)"
   ]
  },
  {
   "cell_type": "markdown",
   "id": "880fcaab",
   "metadata": {},
   "source": [
    "### 4. Для замовника знайдіть замовлення за певний період часу і їх кількість"
   ]
  },
  {
   "cell_type": "code",
   "execution_count": 60,
   "id": "a466d7ff",
   "metadata": {},
   "outputs": [
    {
     "name": "stdout",
     "output_type": "stream",
     "text": [
      "Row(system_count_order_id=2)\n"
     ]
    }
   ],
   "source": [
    "query_amount_of_orders_by_one_customer = '''\n",
    "SELECT count(order_id)\n",
    "FROM first_keyspace.orders\n",
    "WHERE customer_id = 1\n",
    "  AND order_created_date >= '2024-01-02';\n",
    "\n",
    "'''\n",
    "\n",
    "for row in session.execute(query_amount_of_orders_by_one_customer):\n",
    "    print(row)"
   ]
  },
  {
   "cell_type": "markdown",
   "id": "81ef2edb",
   "metadata": {},
   "source": [
    "### 5. Для кожного замовників визначте суму на яку були зроблені усі його замовлення"
   ]
  },
  {
   "cell_type": "code",
   "execution_count": 61,
   "id": "0f488d8f",
   "metadata": {},
   "outputs": [
    {
     "name": "stdout",
     "output_type": "stream",
     "text": [
      "Row(customer_id=2, system_sum_total_sum=1150.0)\n",
      "Row(customer_id=3, system_sum_total_sum=1850.0)\n",
      "Row(customer_id=1, system_sum_total_sum=9250.0)\n"
     ]
    }
   ],
   "source": [
    "query_total_sum_by_each_customer = '''\n",
    "SELECT customer_id, sum(total_sum)\n",
    "FROM first_keyspace.orders\n",
    "GROUP BY customer_id;\n",
    "\n",
    "'''\n",
    "\n",
    "for row in session.execute(query_total_sum_by_each_customer):\n",
    "    print(row)"
   ]
  },
  {
   "cell_type": "markdown",
   "id": "e723ab7b",
   "metadata": {},
   "source": [
    "### 6. Для кожного замовників визначте замовлення з максимальною вартістю"
   ]
  },
  {
   "cell_type": "code",
   "execution_count": 62,
   "id": "2c51a9f0",
   "metadata": {},
   "outputs": [
    {
     "name": "stdout",
     "output_type": "stream",
     "text": [
      "Row(customer_id=2, system_max_total_sum=1150.0)\n",
      "Row(customer_id=3, system_max_total_sum=1850.0)\n",
      "Row(customer_id=1, system_max_total_sum=4550.0)\n"
     ]
    }
   ],
   "source": [
    "query_total_max_by_each_customer = '''\n",
    "SELECT customer_id, max(total_sum)\n",
    "FROM first_keyspace.orders\n",
    "GROUP BY customer_id;\n",
    "\n",
    "'''\n",
    "\n",
    "for row in session.execute(query_total_max_by_each_customer):\n",
    "    print(row)"
   ]
  },
  {
   "cell_type": "markdown",
   "id": "88cdf15f",
   "metadata": {},
   "source": [
    "### 7. Модифікуйте певне замовлення додавши / видаливши один або кілька товарів при цьому також змінюючи вартість замовлення"
   ]
  },
  {
   "cell_type": "code",
   "execution_count": 63,
   "id": "08a423c1",
   "metadata": {},
   "outputs": [
    {
     "name": "stdout",
     "output_type": "stream",
     "text": [
      "<cassandra.cluster.ResultSet object at 0x000002E07F5AFFD0>\n",
      "Row(customer_id=1, order_created_date=Date(19723), order_id=1, item_ids=[1, 2, 3, 6], total_sum=1300.0)\n"
     ]
    }
   ],
   "source": [
    "query_items_adding_and_total_update = '''\n",
    "UPDATE first_keyspace.orders\n",
    "SET item_ids = item_ids + [6], total_sum = 1300\n",
    "WHERE customer_id = 1\n",
    "  AND order_created_date = '2024-01-01'\n",
    "  AND order_id = 1;\n",
    "'''\n",
    "print(session.execute(query_items_adding_and_total_update))\n",
    "\n",
    "query_after_update = '''\n",
    "SELECT * \n",
    "FROM first_keyspace.orders\n",
    "WHERE customer_id = 1\n",
    "  AND order_created_date = '2024-01-01'\n",
    "  AND order_id = 1;\n",
    "'''\n",
    "\n",
    "for row in session.execute(query_after_update):\n",
    "    print(row)"
   ]
  },
  {
   "cell_type": "markdown",
   "id": "53032be3",
   "metadata": {},
   "source": [
    "### 8. Для кожного замовлення виведіть час коли його ціна були занесена в базу (SELECT WRITETIME)"
   ]
  },
  {
   "cell_type": "code",
   "execution_count": 80,
   "id": "0eabe953",
   "metadata": {},
   "outputs": [
    {
     "name": "stdout",
     "output_type": "stream",
     "text": [
      "<cassandra.cluster.ResultSet object at 0x000002E07D145250>\n",
      "\n",
      "order_id:  2\n",
      "update time for total_sum:  2024-03-13 22:13:09.943385\n",
      "\n",
      "order_id:  3\n",
      "update time for total_sum:  2024-03-13 22:13:09.952518\n",
      "\n",
      "order_id:  4\n",
      "update time for total_sum:  2024-03-13 22:13:09.968639\n",
      "\n",
      "order_id:  5\n",
      "update time for total_sum:  2024-03-13 22:13:09.984826\n",
      "\n",
      "order_id:  1\n",
      "update time for total_sum:  2024-03-13 22:32:41.534155\n"
     ]
    }
   ],
   "source": [
    "from datetime import datetime\n",
    "\n",
    "query_for_mv_by_orders = '''\n",
    "CREATE MATERIALIZED VIEW IF NOT EXISTS first_keyspace.orders_by_order AS\n",
    "SELECT *\n",
    "FROM first_keyspace.orders\n",
    "WHERE order_id IS NOT NULL\n",
    "--   AND total_sum IS NOT NULL\n",
    "  AND order_created_date IS NOT NULL\n",
    "  AND customer_id IS NOT NULL\n",
    "PRIMARY KEY (order_id, order_created_date, customer_id);\n",
    "'''\n",
    "print(session.execute(query_for_mv_by_orders))\n",
    "\n",
    "\n",
    "query_total_sum_time_update = '''\n",
    "SELECT order_id, WRITETIME(total_sum)\n",
    "FROM first_keyspace.orders_by_order\n",
    "GROUP BY order_id;\n",
    "'''\n",
    "\n",
    "for row in session.execute(query_total_sum_time_update):\n",
    "    print('\\norder_id: ', row.order_id)\n",
    "    print('update time for total_sum: ', datetime.fromtimestamp(row.writetime_total_sum / 1e6))"
   ]
  },
  {
   "cell_type": "markdown",
   "id": "790d4876",
   "metadata": {},
   "source": [
    "### 9. Створіть замовлення з певним часом життя (TTL), після якого воно видалиться "
   ]
  },
  {
   "cell_type": "code",
   "execution_count": 85,
   "id": "f88f4ab9",
   "metadata": {},
   "outputs": [
    {
     "name": "stdout",
     "output_type": "stream",
     "text": [
      "<cassandra.cluster.ResultSet object at 0x000002E07F5D49A0>\n",
      "Check that it was created\n",
      "Row(customer_id=2, order_created_date=Date(19730), order_id=6, item_ids=[5, 1, 3, 4, 2], total_sum=8850.0)\n",
      "Wait 10 second and check if it is deleted\n",
      "The end\n"
     ]
    }
   ],
   "source": [
    "import time\n",
    "\n",
    "query_order_with_TTL_for_10_sec = '''\n",
    "INSERT INTO first_keyspace.orders (order_id, customer_id, total_sum, order_created_date, item_ids)\n",
    "VALUES (6, 2, 8850.00, toDate('2024-01-08'), [5, 1, 3, 4, 2])\n",
    "    USING TTL 10;\n",
    "\n",
    "'''\n",
    "print(session.execute(query_order_with_TTL_for_10_sec))\n",
    "\n",
    "query_check = ''' \n",
    "SELECT * \n",
    "FROM first_keyspace.orders \n",
    "WHERE customer_id = 2 \n",
    "AND order_created_date = '2024-01-08' \n",
    "AND order_id = 6'''\n",
    "\n",
    "\n",
    "print('Check that it was created')\n",
    "for row in session.execute(query_check):\n",
    "    print(row)\n",
    "    \n",
    "print('Wait 10 second and check if it is deleted')\n",
    "time.sleep(11)\n",
    "for row in session.execute(query_check):\n",
    "    print(row)\n",
    "\n",
    "print('The end')"
   ]
  },
  {
   "cell_type": "markdown",
   "id": "63c081ff",
   "metadata": {},
   "source": [
    "### 10. Поверніть замовлення у форматі JSON"
   ]
  },
  {
   "cell_type": "code",
   "execution_count": 87,
   "id": "d748b9d2",
   "metadata": {},
   "outputs": [
    {
     "name": "stdout",
     "output_type": "stream",
     "text": [
      "{\"customer_id\": 2, \"order_created_date\": \"2024-01-02\", \"order_id\": 2, \"item_ids\": [4, 2, 3], \"total_sum\": 1150.0}\n",
      "{\"customer_id\": 3, \"order_created_date\": \"2024-01-03\", \"order_id\": 3, \"item_ids\": [5, 4, 3], \"total_sum\": 1850.0}\n",
      "{\"customer_id\": 1, \"order_created_date\": \"2024-01-01\", \"order_id\": 1, \"item_ids\": [1, 2, 3, 6], \"total_sum\": 1300.0}\n",
      "{\"customer_id\": 1, \"order_created_date\": \"2024-01-04\", \"order_id\": 4, \"item_ids\": [1, 2, 4], \"total_sum\": 3850.0}\n",
      "{\"customer_id\": 1, \"order_created_date\": \"2024-01-05\", \"order_id\": 5, \"item_ids\": [5, 1, 3], \"total_sum\": 4550.0}\n"
     ]
    }
   ],
   "source": [
    "query_get_JSON = '''\n",
    "SELECT JSON *\n",
    "FROM first_keyspace.orders;\n",
    "\n",
    "'''\n",
    "\n",
    "for row in session.execute(query_get_JSON):\n",
    "    print(row.json)"
   ]
  },
  {
   "cell_type": "markdown",
   "id": "6ec83e86",
   "metadata": {},
   "source": [
    "### 11. Додайте замовлення у форматі JSON"
   ]
  },
  {
   "cell_type": "code",
   "execution_count": 88,
   "id": "05f6be74",
   "metadata": {},
   "outputs": [
    {
     "name": "stdout",
     "output_type": "stream",
     "text": [
      "<cassandra.cluster.ResultSet object at 0x000002E07F5D4460>\n",
      "Row(customer_id=3, order_created_date=Date(19763), order_id=7, item_ids=[5, 3, 1, 2], total_sum=5040.0)\n"
     ]
    }
   ],
   "source": [
    "query_insert_with_JSON = '''\n",
    "INSERT INTO first_keyspace.orders\n",
    "    JSON '{\n",
    "  \"order_id\": 7,\n",
    "  \"customer_id\": 3,\n",
    "  \"total_sum\": 5040,\n",
    "  \"order_created_date\": \"2024-02-10\",\n",
    "  \"item_ids\": [5, 3, 1, 2]\n",
    "}';\n",
    "\n",
    "'''\n",
    "print(session.execute(query_insert_with_JSON))\n",
    "\n",
    "\n",
    "query_check = ''' \n",
    "SELECT * \n",
    "FROM first_keyspace.orders \n",
    "WHERE customer_id = 3\n",
    "AND order_created_date = '2024-02-10' \n",
    "AND order_id = 7'''\n",
    "\n",
    "for row in session.execute(query_check):\n",
    "    print(row)"
   ]
  },
  {
   "cell_type": "code",
   "execution_count": null,
   "id": "23a43151",
   "metadata": {},
   "outputs": [],
   "source": []
  }
 ],
 "metadata": {
  "kernelspec": {
   "display_name": "Python 3",
   "language": "python",
   "name": "python3"
  },
  "language_info": {
   "codemirror_mode": {
    "name": "ipython",
    "version": 3
   },
   "file_extension": ".py",
   "mimetype": "text/x-python",
   "name": "python",
   "nbconvert_exporter": "python",
   "pygments_lexer": "ipython3",
   "version": "3.8.8"
  }
 },
 "nbformat": 4,
 "nbformat_minor": 5
}
