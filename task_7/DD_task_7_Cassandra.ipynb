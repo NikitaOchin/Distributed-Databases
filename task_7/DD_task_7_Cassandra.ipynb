{
 "cells": [
  {
   "cell_type": "markdown",
   "id": "510ac113",
   "metadata": {},
   "source": [
    "## Перша частина - логи з CLI\n",
    "\n",
    "\n",
    "### 2. Перевірити правильність конфігурації за допомогою \n",
    "\n",
    "```bash\n",
    "root@21492bb80ba1:/# nodetool status\n",
    "Datacenter: datacenter1\n",
    "\n",
    "Status=Up/Down\n",
    "|/ State=Normal/Leaving/Joining/Moving\n",
    "--  Address     Load        Tokens  Owns (effective)  Host ID                               Rack\n",
    "UN  172.24.0.4  103.87 KiB  16      59.3%             3810d6d2-4e44-4cdf-9759-6ae3dc8294f2  rack1\n",
    "UN  172.24.0.2  138.62 KiB  16      64.7%             6899404e-db8f-4e19-9e2a-ed329185a070  rack1\n",
    "UN  172.24.0.3  75.28 KiB   16      76.0%             dd40b402-91f5-4c3b-9065-2bf8cd7cfcd8  rack1\n",
    "```\n",
    "\n",
    "### 3. Викоритовуючи *cqlsh*, створити три *Keyspace* з replication factor 1, 2, 3\n",
    "\n",
    "```bash\n",
    "cqlsh> CREATE KEYSPACE IF NOT EXISTS keyspace_1 WITH REPLICATION={'class' : 'SimpleStrategy', 'replication_factor': 1};\n",
    "cqlsh> CREATE KEYSPACE IF NOT EXISTS keyspace_2 WITH REPLICATION={'class' : 'SimpleStrategy', 'replication_factor': 2};\n",
    "cqlsh> CREATE KEYSPACE IF NOT EXISTS keyspace_3 WITH REPLICATION={'class' : 'SimpleStrategy', 'replication_factor': 3};\n",
    "```\n",
    "\n",
    "### 4. В кожному з кейспейсів створити таблиці\n",
    "\n",
    "\n",
    "```bash\n",
    "cqlsh> CREATE TABLE IF NOT EXISTS keyspace_1.items ( category_name text, price         float, item_id       int, PRIMARY KEY (category_name, price, item_id));\n",
    "cqlsh> CREATE TABLE IF NOT EXISTS keyspace_2.items ( category_name text, price         float, item_id       int, PRIMARY KEY (category_name, price, item_id));\n",
    "cqlsh> CREATE TABLE IF NOT EXISTS keyspace_3.items ( category_name text, price         float, item_id       int, PRIMARY KEY (category_name, price, item_id));\n",
    "```"
   ]
  },
  {
   "cell_type": "markdown",
   "id": "c346f268",
   "metadata": {},
   "source": [
    "### 5. Спробуйте писати і читати на / та з різних нод."
   ]
  },
  {
   "cell_type": "code",
   "execution_count": 269,
   "id": "5bf57075",
   "metadata": {},
   "outputs": [],
   "source": [
    "# !pip install cassandra-driver\n",
    "\n",
    "from cassandra.cluster import Cluster\n",
    "\n",
    "cluster_1 = Cluster(['127.0.0.1'],port=9042)\n",
    "cluster_2 = Cluster(['127.0.0.1'],port=9043)\n",
    "cluster_3 = Cluster(['127.0.0.1'],port=9044)"
   ]
  },
  {
   "cell_type": "code",
   "execution_count": 73,
   "id": "1b6fa3ca",
   "metadata": {},
   "outputs": [
    {
     "name": "stdout",
     "output_type": "stream",
     "text": [
      "<cassandra.cluster.ResultSet object at 0x000001DF756D31F0>\n",
      "<cassandra.cluster.ResultSet object at 0x000001DF75482370>\n",
      "<cassandra.cluster.ResultSet object at 0x000001DF75482EB0>\n"
     ]
    }
   ],
   "source": [
    "session_1 = cluster_1.connect('keyspace_3')\n",
    "\n",
    "session_2 = cluster_2.connect('keyspace_3')\n",
    "\n",
    "session_3 = cluster_3.connect('keyspace_3')\n",
    "\n",
    "\n",
    "queries_for_insert = [\n",
    "'''INSERT INTO keyspace_3.items (item_id, price, category_name)\n",
    "VALUES (4, 850.00, 'Phones');''',\n",
    "'''INSERT INTO keyspace_3.items (item_id, price, category_name)\n",
    "VALUES (5, 1150.00, 'Phones');''',\n",
    "'''INSERT INTO keyspace_3.items (item_id, price, category_name)\n",
    "VALUES (6, 1850.00, 'Phones');''']\n",
    "\n",
    "# Спроба підключитися на першу ноду\n",
    "print(session_1.execute(queries_for_insert[0]))\n",
    "    \n",
    "# Спроба підключитися на другу ноду\n",
    "print(session_2.execute(queries_for_insert[1]))\n",
    "\n",
    "# Спроба підключитися на третю ноду\n",
    "print(session_3.execute(queries_for_insert[2]))"
   ]
  },
  {
   "cell_type": "code",
   "execution_count": 7,
   "id": "2a7ff025",
   "metadata": {},
   "outputs": [
    {
     "name": "stdout",
     "output_type": "stream",
     "text": [
      "Row(category_name='Phones', price=850.0, item_id=1)\n",
      "Row(category_name='Phones', price=850.0, item_id=4)\n",
      "Row(category_name='Phones', price=1150.0, item_id=2)\n",
      "Row(category_name='Phones', price=1150.0, item_id=5)\n",
      "Row(category_name='Phones', price=1850.0, item_id=3)\n",
      "Row(category_name='Phones', price=1850.0, item_id=6)\n"
     ]
    }
   ],
   "source": [
    "query_to_find_special_category = '''\n",
    "SELECT *\n",
    "FROM keyspace_1.items\n",
    "WHERE category_name = 'Phones'\n",
    "'''\n",
    "\n",
    "for row in session_1.execute(query_to_find_special_category):\n",
    "    print(row)"
   ]
  },
  {
   "cell_type": "markdown",
   "id": "3260f711",
   "metadata": {},
   "source": [
    "### 6. Вставте дані в створені таблиці і подивіться на їх розподіл по вузлах кластера (для кожного з кейспесов - nodetool status)"
   ]
  },
  {
   "cell_type": "code",
   "execution_count": 8,
   "id": "40728f10",
   "metadata": {},
   "outputs": [
    {
     "name": "stdout",
     "output_type": "stream",
     "text": [
      "<cassandra.cluster.ResultSet object at 0x000001DF73EB6A30>\n",
      "<cassandra.cluster.ResultSet object at 0x000001DF73EB6250>\n",
      "<cassandra.cluster.ResultSet object at 0x000001DF73EB6160>\n",
      "<cassandra.cluster.ResultSet object at 0x000001DF73E53070>\n",
      "<cassandra.cluster.ResultSet object at 0x000001DF73EA5DF0>\n",
      "<cassandra.cluster.ResultSet object at 0x000001DF73E53550>\n"
     ]
    }
   ],
   "source": [
    "queries_for_insert = [\n",
    "'''INSERT INTO items (item_id, price, category_name)\n",
    "VALUES (4, 850.00, 'Phones');''',\n",
    "'''INSERT INTO items (item_id, price, category_name)\n",
    "VALUES (5, 1150.00, 'Phones');''',\n",
    "'''INSERT INTO items (item_id, price, category_name)\n",
    "VALUES (6, 1850.00, 'Phones');''']\n",
    "\n",
    "session_1.execute('USE keyspace_2')\n",
    "\n",
    "for insert_query in queries_for_insert:\n",
    "    print(session_1.execute(insert_query))\n",
    "    \n",
    "    \n",
    "session_1.execute('USE keyspace_3')\n",
    "\n",
    "for insert_query in queries_for_insert:\n",
    "    print(session_1.execute(insert_query))"
   ]
  },
  {
   "cell_type": "markdown",
   "id": "e299e3b0",
   "metadata": {},
   "source": [
    "### Росподіл по вузлах\n",
    "\n",
    "```bash\n",
    "root@21492bb80ba1:/# nodetool status keyspace_1\n",
    "Datacenter: datacenter1\n",
    "=======================\n",
    "Status=Up/Down\n",
    "|/ State=Normal/Leaving/Joining/Moving\n",
    "--  Address     Load        Tokens  Owns (effective)  Host ID                               Rack\n",
    "UN  172.24.0.4  152.16 KiB  16      31.6%             3810d6d2-4e44-4cdf-9759-6ae3dc8294f2  rack1\n",
    "UN  172.24.0.2  186.79 KiB  16      32.7%             6899404e-db8f-4e19-9e2a-ed329185a070  rack1\n",
    "UN  172.24.0.3  75.88 KiB   16      35.7%             dd40b402-91f5-4c3b-9065-2bf8cd7cfcd8  rack1\n",
    "\n",
    "root@21492bb80ba1:/# nodetool status keyspace_2\n",
    "Datacenter: datacenter1\n",
    "=======================\n",
    "Status=Up/Down\n",
    "|/ State=Normal/Leaving/Joining/Moving\n",
    "--  Address     Load        Tokens  Owns (effective)  Host ID                               Rack\n",
    "UN  172.24.0.4  152.16 KiB  16      59.3%             3810d6d2-4e44-4cdf-9759-6ae3dc8294f2  rack1\n",
    "UN  172.24.0.2  186.79 KiB  16      64.7%             6899404e-db8f-4e19-9e2a-ed329185a070  rack1\n",
    "UN  172.24.0.3  75.88 KiB   16      76.0%             dd40b402-91f5-4c3b-9065-2bf8cd7cfcd8  rack1\n",
    "\n",
    "root@21492bb80ba1:/# nodetool status keyspace_3\n",
    "Datacenter: datacenter1\n",
    "=======================\n",
    "Status=Up/Down\n",
    "|/ State=Normal/Leaving/Joining/Moving\n",
    "--  Address     Load        Tokens  Owns (effective)  Host ID                               Rack\n",
    "UN  172.24.0.4  152.16 KiB  16      100.0%            3810d6d2-4e44-4cdf-9759-6ae3dc8294f2  rack1\n",
    "UN  172.24.0.2  186.79 KiB  16      100.0%            6899404e-db8f-4e19-9e2a-ed329185a070  rack1\n",
    "UN  172.24.0.3  75.88 KiB   16      100.0%            dd40b402-91f5-4c3b-9065-2bf8cd7cfcd8  rack1\n",
    "\n",
    "```"
   ]
  },
  {
   "cell_type": "markdown",
   "id": "1766f4ec",
   "metadata": {},
   "source": [
    "### 7. Для якогось запису з кожного з кейспейсу виведіть ноди на яких зберігаються дані\n",
    "\n",
    "\n",
    "```bash\n",
    "root@21492bb80ba1:/# nodetool getendpoints keyspace_1 items 2;\n",
    "172.24.0.2\n",
    "root@21492bb80ba1:/# nodetool getendpoints keyspace_2 items 2;\n",
    "172.24.0.2\n",
    "172.24.0.4\n",
    "root@21492bb80ba1:/# nodetool getendpoints keyspace_3 items 2;\n",
    "172.24.0.2\n",
    "172.24.0.4\n",
    "172.24.0.3\n",
    "root@21492bb80ba1:/#\n",
    "```"
   ]
  },
  {
   "cell_type": "markdown",
   "id": "a0564703",
   "metadata": {},
   "source": [
    "### 8. Відключиіть одну з нод. Для кожного з кейспейсів визначить з якими рівнями consistency можемо читати та писати, і які з них забезпечують strong consistency \n",
    "\n",
    "##### Перевіремо CONSISTENCY level встановленний на кластері\n",
    "```bash\n",
    "cqlsh> CONSISTENCY\n",
    "Current consistency level is ONE.\n",
    "cqlsh>\n",
    "```\n",
    "\n",
    "#### В нас зараз такі умови\n",
    "- Current consistency level is ONE.\n",
    "- Одна з трех нод відключена\n",
    "- keyspace_1 має Replication Factor - 1\n",
    "- keyspace_2 має Replication Factor - 2\n",
    "- keyspace_3 має Replication Factor - 3\n",
    "\n",
    "Тому strong consistency зараз не маємо ніде\n",
    "\n",
    "Strong consistency ми можемо забеспечити лише для keyspace_3 з Replication Factor - 3, якщо зробимо CONSISTENCY TWO OR QUORUM"
   ]
  },
  {
   "cell_type": "markdown",
   "id": "6bebc167",
   "metadata": {},
   "source": [
    "### 9. Зробить так щоб три ноди працювали, але не бачили одна одну по мережі (відключити зв'язок між ними)"
   ]
  },
  {
   "cell_type": "markdown",
   "id": "0c4aaa29",
   "metadata": {},
   "source": [
    "### Виключив за допомогою \n",
    "- nodetool disablegossip"
   ]
  },
  {
   "cell_type": "markdown",
   "id": "4b4d5fba",
   "metadata": {},
   "source": [
    "### 10. Для кейспейсу з replication factor 3 задайте рівень consistency рівним 1. Виконайте запис одного й того самого значення, з однаковим primary key, але різними іншими значенням на кожну з нод (тобто створіть конфлікт)\n"
   ]
  },
  {
   "cell_type": "code",
   "execution_count": 115,
   "id": "1520701c",
   "metadata": {},
   "outputs": [
    {
     "name": "stdout",
     "output_type": "stream",
     "text": [
      "<cassandra.cluster.ResultSet object at 0x000001DF73F45760>\n"
     ]
    }
   ],
   "source": [
    "session_1 = cluster_1.connect('keyspace_3')\n",
    "\n",
    "queries_for_insert = [\n",
    "'''INSERT INTO keyspace_3.items (item_id, price, category_name)\n",
    "VALUES (4, 1850.00, 'TV');''']\n",
    "\n",
    "# Записую на першу ноду\n",
    "print(session_1.execute(queries_for_insert[0]))"
   ]
  },
  {
   "cell_type": "code",
   "execution_count": 116,
   "id": "98b3dfdc",
   "metadata": {},
   "outputs": [
    {
     "name": "stdout",
     "output_type": "stream",
     "text": [
      "<cassandra.cluster.ResultSet object at 0x000001DF743270A0>\n"
     ]
    }
   ],
   "source": [
    "session_2 = cluster_2.connect('keyspace_3')\n",
    "\n",
    "queries_for_insert = [\n",
    "'''INSERT INTO keyspace_3.items (item_id, price, category_name)\n",
    "VALUES (4, 21850.00, 'TV');''']\n",
    "\n",
    "# Записую на першу ноду\n",
    "print(session_2.execute(queries_for_insert[0]))"
   ]
  },
  {
   "cell_type": "code",
   "execution_count": 117,
   "id": "4a339cd7",
   "metadata": {},
   "outputs": [
    {
     "name": "stdout",
     "output_type": "stream",
     "text": [
      "<cassandra.cluster.ResultSet object at 0x000001DF73EC3460>\n"
     ]
    }
   ],
   "source": [
    "session_3 = cluster_3.connect('keyspace_3')\n",
    "\n",
    "queries_for_insert = [\n",
    "'''INSERT INTO keyspace_3.items (item_id, price, category_name)\n",
    "VALUES (4, 31850.00, 'TV');''']\n",
    "\n",
    "# Записую на першу ноду\n",
    "print(session_3.execute(queries_for_insert[0]))"
   ]
  },
  {
   "cell_type": "code",
   "execution_count": 119,
   "id": "bda16bee",
   "metadata": {},
   "outputs": [
    {
     "name": "stdout",
     "output_type": "stream",
     "text": [
      "Row(category_name='TV', item_id=4, price=1850.0)\n",
      "\n",
      "\n",
      "Row(category_name='TV', item_id=4, price=21850.0)\n",
      "\n",
      "\n",
      "Row(category_name='TV', item_id=4, price=31850.0)\n"
     ]
    }
   ],
   "source": [
    "query_to_find_special_category = '''\n",
    "SELECT *\n",
    "FROM keyspace_3.items\n",
    "WHERE category_name = 'TV'\n",
    "AND item_id = 4\n",
    "'''\n",
    "\n",
    "for row in session_1.execute(query_to_find_special_category):\n",
    "    print(row)    \n",
    "print('\\n')\n",
    "\n",
    "for row in session_2.execute(query_to_find_special_category):\n",
    "    print(row)\n",
    "print('\\n')\n",
    "for row in session_3.execute(query_to_find_special_category):\n",
    "    print(row)"
   ]
  },
  {
   "cell_type": "markdown",
   "id": "49d57fe6",
   "metadata": {},
   "source": [
    "### 11. Об’єднайте ноди в кластер і визначте яке значення було прийнято кластером та за яким принципом\n",
    "\n",
    "### Для цього включу знов nodetool enablegossip"
   ]
  },
  {
   "cell_type": "code",
   "execution_count": 125,
   "id": "23c2bdf9",
   "metadata": {},
   "outputs": [
    {
     "name": "stdout",
     "output_type": "stream",
     "text": [
      "Row(category_name='TV', item_id=4, price=31850.0)\n",
      "\n",
      "\n",
      "Row(category_name='TV', item_id=4, price=31850.0)\n",
      "\n",
      "\n",
      "Row(category_name='TV', item_id=4, price=31850.0)\n"
     ]
    }
   ],
   "source": [
    "query_to_find_special_category = '''\n",
    "SELECT *\n",
    "FROM keyspace_3.items\n",
    "WHERE category_name = 'TV'\n",
    "AND item_id = 4\n",
    "'''\n",
    "\n",
    "for row in session_1.execute(query_to_find_special_category):\n",
    "    print(row)    \n",
    "print('\\n')\n",
    "\n",
    "for row in session_2.execute(query_to_find_special_category):\n",
    "    print(row)\n",
    "print('\\n')\n",
    "for row in session_3.execute(query_to_find_special_category):\n",
    "    print(row)"
   ]
  },
  {
   "cell_type": "markdown",
   "id": "29e0f3f6",
   "metadata": {},
   "source": [
    "### Результат\n",
    "- Спочатку об'єднались 1 та 2 ноди, і перша прийняла значення 21850\n",
    "- Потім до кластеру під'єдналась 3 нода, і всюди значення стало 31850\n",
    "\n",
    "### Це відбувається через стратегію Cassandra - Last Write Wins, LWW "
   ]
  },
  {
   "cell_type": "markdown",
   "id": "4193a983",
   "metadata": {},
   "source": [
    "### 12. Перевірте поведінку lightweight transactions для попередніх пунктів у розділеному та не розділеному на три частини кластері https://docs.datastax.com/en/cql-oss/3.3/cql/cql_using/useInsertLWT.html \n"
   ]
  },
  {
   "cell_type": "code",
   "execution_count": 286,
   "id": "6831cea7",
   "metadata": {},
   "outputs": [
    {
     "ename": "NoHostAvailable",
     "evalue": "('Unable to complete the operation against any hosts', {<Host: 127.0.0.1:9042 datacenter1>: Unavailable('Error from server: code=1000 [Unavailable exception] message=\"Cannot achieve consistency level SERIAL\" info={\\'consistency\\': \\'SERIAL\\', \\'required_replicas\\': 2, \\'alive_replicas\\': 1}')})",
     "output_type": "error",
     "traceback": [
      "\u001b[1;31m---------------------------------------------------------------------------\u001b[0m",
      "\u001b[1;31mNoHostAvailable\u001b[0m                           Traceback (most recent call last)",
      "\u001b[1;32m<ipython-input-286-7ab13c90c263>\u001b[0m in \u001b[0;36m<module>\u001b[1;34m\u001b[0m\n\u001b[0;32m      9\u001b[0m \u001b[1;33m\u001b[0m\u001b[0m\n\u001b[0;32m     10\u001b[0m \u001b[1;31m# Записую на першу ноду\u001b[0m\u001b[1;33m\u001b[0m\u001b[1;33m\u001b[0m\u001b[1;33m\u001b[0m\u001b[0m\n\u001b[1;32m---> 11\u001b[1;33m \u001b[0mprint\u001b[0m\u001b[1;33m(\u001b[0m\u001b[0msession_1\u001b[0m\u001b[1;33m.\u001b[0m\u001b[0mexecute\u001b[0m\u001b[1;33m(\u001b[0m\u001b[0mqueries_for_insert\u001b[0m\u001b[1;33m[\u001b[0m\u001b[1;36m0\u001b[0m\u001b[1;33m]\u001b[0m\u001b[1;33m)\u001b[0m\u001b[1;33m)\u001b[0m\u001b[1;33m\u001b[0m\u001b[1;33m\u001b[0m\u001b[0m\n\u001b[0m",
      "\u001b[1;32m~\\anaconda3\\lib\\site-packages\\cassandra\\cluster.cp38-win_amd64.pyd\u001b[0m in \u001b[0;36mcassandra.cluster.Session.execute\u001b[1;34m()\u001b[0m\n",
      "\u001b[1;32m~\\anaconda3\\lib\\site-packages\\cassandra\\cluster.cp38-win_amd64.pyd\u001b[0m in \u001b[0;36mcassandra.cluster.ResponseFuture.result\u001b[1;34m()\u001b[0m\n",
      "\u001b[1;31mNoHostAvailable\u001b[0m: ('Unable to complete the operation against any hosts', {<Host: 127.0.0.1:9042 datacenter1>: Unavailable('Error from server: code=1000 [Unavailable exception] message=\"Cannot achieve consistency level SERIAL\" info={\\'consistency\\': \\'SERIAL\\', \\'required_replicas\\': 2, \\'alive_replicas\\': 1}')})"
     ]
    }
   ],
   "source": [
    "session_1 = cluster_1.connect('keyspace_3')\n",
    "\n",
    "queries_for_insert = [\n",
    "'''UPDATE keyspace_3.items\n",
    "  SET price = 1100\n",
    "  WHERE category_name = 'TV'\n",
    "    AND item_id = 4\n",
    "  IF price > 1000;''']\n",
    "\n",
    "# Записую на першу ноду\n",
    "print(session_1.execute(queries_for_insert[0]))"
   ]
  },
  {
   "cell_type": "markdown",
   "id": "62b20c8e",
   "metadata": {},
   "source": [
    "### Неможливо застосувати, так як required replicas - 2 та required consistency level SERIAL\n",
    "\n",
    "### Якщо зв'язати кластер - то результат буде наступний"
   ]
  },
  {
   "cell_type": "code",
   "execution_count": 294,
   "id": "69a5b447",
   "metadata": {},
   "outputs": [
    {
     "name": "stdout",
     "output_type": "stream",
     "text": [
      "<cassandra.cluster.ResultSet object at 0x000001DF75A17BE0>\n",
      "Row(category_name='TV', item_id=4, price=1100.0)\n",
      "\n",
      "\n",
      "Row(category_name='TV', item_id=4, price=1100.0)\n",
      "\n",
      "\n",
      "Row(category_name='TV', item_id=4, price=1100.0)\n",
      "\n",
      "\n"
     ]
    }
   ],
   "source": [
    "session_1 = cluster_1.connect('keyspace_3')\n",
    "\n",
    "queries_for_insert = [\n",
    "'''UPDATE keyspace_3.items\n",
    "  SET price = 1100\n",
    "  WHERE category_name = 'TV'\n",
    "    AND item_id = 4\n",
    "  IF price > 1000;''']\n",
    "\n",
    "# Записую на першу ноду\n",
    "print(session_1.execute(queries_for_insert[0]))\n",
    "\n",
    "\n",
    "for row in session_1.execute(query_to_find_special_category):\n",
    "    print(row)    \n",
    "print('\\n')\n",
    "for row in session_2.execute(query_to_find_special_category):\n",
    "    print(row)    \n",
    "print('\\n')\n",
    "for row in session_3.execute(query_to_find_special_category):\n",
    "    print(row)    \n",
    "print('\\n')"
   ]
  }
 ],
 "metadata": {
  "kernelspec": {
   "display_name": "Python 3",
   "language": "python",
   "name": "python3"
  },
  "language_info": {
   "codemirror_mode": {
    "name": "ipython",
    "version": 3
   },
   "file_extension": ".py",
   "mimetype": "text/x-python",
   "name": "python",
   "nbconvert_exporter": "python",
   "pygments_lexer": "ipython3",
   "version": "3.8.8"
  }
 },
 "nbformat": 4,
 "nbformat_minor": 5
}
