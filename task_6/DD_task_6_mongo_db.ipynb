{
 "cells": [
  {
   "cell_type": "code",
   "execution_count": 104,
   "id": "5bf57075",
   "metadata": {},
   "outputs": [],
   "source": [
    "from pprint import pprint \n",
    "\n",
    "# !pip install pymongo\n",
    "import pymongo\n",
    "myclient = pymongo.MongoClient(\"mongodb://localhost:27018/?directConnection=true\")"
   ]
  },
  {
   "cell_type": "markdown",
   "id": "9c9b9b66",
   "metadata": {},
   "source": [
    "### Налаштувати реплікацію в конфігурації: \n",
    "\n",
    "Primary with Two Secondary Members (всі ноди можуть бути запущені як окремі процеси або у Docker контейнерах) - http://docs.mongodb.org/manual/core/replica-set-architecture-three-members/ \n",
    "\n",
    "Deploy a Replica Set for Testing and Development- http://docs.mongodb.org/manual/tutorial/deploy-replica-set-for-testing/\n",
    "http://www.tugberkugurlu.com/archive/setting-up-a-mongodb-replica-set-with-docker-and-connecting-to-it-with-a--net-core-app \n"
   ]
  },
  {
   "cell_type": "code",
   "execution_count": 98,
   "id": "af46c922",
   "metadata": {
    "scrolled": true
   },
   "outputs": [
    {
     "data": {
      "text/plain": [
       "{'set': 'rs0',\n",
       " 'date': datetime.datetime(2024, 3, 20, 20, 49, 59, 650000),\n",
       " 'myState': 1,\n",
       " 'term': 1,\n",
       " 'syncSourceHost': '',\n",
       " 'syncSourceId': -1,\n",
       " 'heartbeatIntervalMillis': 2000,\n",
       " 'majorityVoteCount': 2,\n",
       " 'writeMajorityCount': 2,\n",
       " 'votingMembersCount': 3,\n",
       " 'writableVotingMembersCount': 3,\n",
       " 'optimes': {'lastCommittedOpTime': {'ts': Timestamp(1710967783, 1), 't': 1},\n",
       "  'lastCommittedWallTime': datetime.datetime(2024, 3, 20, 20, 49, 43, 821000),\n",
       "  'readConcernMajorityOpTime': {'ts': Timestamp(1710967783, 1), 't': 1},\n",
       "  'appliedOpTime': {'ts': Timestamp(1710967783, 1), 't': 1},\n",
       "  'durableOpTime': {'ts': Timestamp(1710967783, 1), 't': 1},\n",
       "  'lastAppliedWallTime': datetime.datetime(2024, 3, 20, 20, 49, 43, 821000),\n",
       "  'lastDurableWallTime': datetime.datetime(2024, 3, 20, 20, 49, 43, 821000)},\n",
       " 'lastStableRecoveryTimestamp': Timestamp(1710967783, 1),\n",
       " 'electionCandidateMetrics': {'lastElectionReason': 'electionTimeout',\n",
       "  'lastElectionDate': datetime.datetime(2024, 3, 20, 20, 8, 0, 674000),\n",
       "  'electionTerm': 1,\n",
       "  'lastCommittedOpTimeAtElection': {'ts': Timestamp(1710965270, 1), 't': -1},\n",
       "  'lastSeenOpTimeAtElection': {'ts': Timestamp(1710965270, 1), 't': -1},\n",
       "  'numVotesNeeded': 2,\n",
       "  'priorityAtElection': 1.0,\n",
       "  'electionTimeoutMillis': 10000,\n",
       "  'numCatchUpOps': 0,\n",
       "  'newTermStartDate': datetime.datetime(2024, 3, 20, 20, 8, 0, 775000),\n",
       "  'wMajorityWriteAvailabilityDate': datetime.datetime(2024, 3, 20, 20, 8, 1, 289000)},\n",
       " 'members': [{'_id': 0,\n",
       "   'name': 'mongo-node1:27017',\n",
       "   'health': 1.0,\n",
       "   'state': 1,\n",
       "   'stateStr': 'PRIMARY',\n",
       "   'uptime': 2784,\n",
       "   'optime': {'ts': Timestamp(1710967783, 1), 't': 1},\n",
       "   'optimeDate': datetime.datetime(2024, 3, 20, 20, 49, 43),\n",
       "   'lastAppliedWallTime': datetime.datetime(2024, 3, 20, 20, 49, 43, 821000),\n",
       "   'lastDurableWallTime': datetime.datetime(2024, 3, 20, 20, 49, 43, 821000),\n",
       "   'syncSourceHost': '',\n",
       "   'syncSourceId': -1,\n",
       "   'infoMessage': '',\n",
       "   'electionTime': Timestamp(1710965280, 1),\n",
       "   'electionDate': datetime.datetime(2024, 3, 20, 20, 8),\n",
       "   'configVersion': 1,\n",
       "   'configTerm': 1,\n",
       "   'self': True,\n",
       "   'lastHeartbeatMessage': ''},\n",
       "  {'_id': 1,\n",
       "   'name': 'mongo-node2:27017',\n",
       "   'health': 1.0,\n",
       "   'state': 2,\n",
       "   'stateStr': 'SECONDARY',\n",
       "   'uptime': 2529,\n",
       "   'optime': {'ts': Timestamp(1710967783, 1), 't': 1},\n",
       "   'optimeDurable': {'ts': Timestamp(1710967783, 1), 't': 1},\n",
       "   'optimeDate': datetime.datetime(2024, 3, 20, 20, 49, 43),\n",
       "   'optimeDurableDate': datetime.datetime(2024, 3, 20, 20, 49, 43),\n",
       "   'lastAppliedWallTime': datetime.datetime(2024, 3, 20, 20, 49, 43, 821000),\n",
       "   'lastDurableWallTime': datetime.datetime(2024, 3, 20, 20, 49, 43, 821000),\n",
       "   'lastHeartbeat': datetime.datetime(2024, 3, 20, 20, 49, 57, 956000),\n",
       "   'lastHeartbeatRecv': datetime.datetime(2024, 3, 20, 20, 49, 58, 779000),\n",
       "   'pingMs': 0,\n",
       "   'lastHeartbeatMessage': '',\n",
       "   'syncSourceHost': 'mongo-node1:27017',\n",
       "   'syncSourceId': 0,\n",
       "   'infoMessage': '',\n",
       "   'configVersion': 1,\n",
       "   'configTerm': 1},\n",
       "  {'_id': 2,\n",
       "   'name': 'mongo-node3:27017',\n",
       "   'health': 1.0,\n",
       "   'state': 2,\n",
       "   'stateStr': 'SECONDARY',\n",
       "   'uptime': 29,\n",
       "   'optime': {'ts': Timestamp(1710967783, 1), 't': 1},\n",
       "   'optimeDurable': {'ts': Timestamp(1710967783, 1), 't': 1},\n",
       "   'optimeDate': datetime.datetime(2024, 3, 20, 20, 49, 43),\n",
       "   'optimeDurableDate': datetime.datetime(2024, 3, 20, 20, 49, 43),\n",
       "   'lastAppliedWallTime': datetime.datetime(2024, 3, 20, 20, 49, 43, 821000),\n",
       "   'lastDurableWallTime': datetime.datetime(2024, 3, 20, 20, 49, 43, 821000),\n",
       "   'lastHeartbeat': datetime.datetime(2024, 3, 20, 20, 49, 58, 542000),\n",
       "   'lastHeartbeatRecv': datetime.datetime(2024, 3, 20, 20, 49, 59, 49000),\n",
       "   'pingMs': 0,\n",
       "   'lastHeartbeatMessage': '',\n",
       "   'syncSourceHost': 'mongo-node2:27017',\n",
       "   'syncSourceId': 1,\n",
       "   'infoMessage': '',\n",
       "   'configVersion': 1,\n",
       "   'configTerm': 1}],\n",
       " 'ok': 1.0,\n",
       " '$clusterTime': {'clusterTime': Timestamp(1710967783, 1),\n",
       "  'signature': {'hash': b'\\x00\\x00\\x00\\x00\\x00\\x00\\x00\\x00\\x00\\x00\\x00\\x00\\x00\\x00\\x00\\x00\\x00\\x00\\x00\\x00',\n",
       "   'keyId': 0}},\n",
       " 'operationTime': Timestamp(1710967783, 1)}"
      ]
     },
     "execution_count": 98,
     "metadata": {},
     "output_type": "execute_result"
    }
   ],
   "source": [
    "myclient.admin.command(\"replSetGetStatus\")"
   ]
  },
  {
   "cell_type": "markdown",
   "id": "3260f711",
   "metadata": {},
   "source": [
    "### 2. Продемонструвати Read Preference Modes: читання з primary і secondary node (http://docs.mongodb.org/manual/core/read-preference/)"
   ]
  },
  {
   "cell_type": "code",
   "execution_count": 79,
   "id": "40728f10",
   "metadata": {},
   "outputs": [
    {
     "data": {
      "text/plain": [
       "DeleteResult({'n': 1, 'electionId': ObjectId('7fffffff0000000000000001'), 'opTime': {'ts': Timestamp(1710967438, 1), 't': 1}, 'ok': 1.0, '$clusterTime': {'clusterTime': Timestamp(1710967438, 1), 'signature': {'hash': b'\\x00\\x00\\x00\\x00\\x00\\x00\\x00\\x00\\x00\\x00\\x00\\x00\\x00\\x00\\x00\\x00\\x00\\x00\\x00\\x00', 'keyId': 0}}, 'operationTime': Timestamp(1710967438, 1)}, acknowledged=True)"
      ]
     },
     "execution_count": 79,
     "metadata": {},
     "output_type": "execute_result"
    }
   ],
   "source": [
    "myclient.read_preference"
   ]
  },
  {
   "cell_type": "markdown",
   "id": "e299e3b0",
   "metadata": {},
   "source": [
    "### 3. Спробувати зробити запис з однією відключеною нодою та write concern рівнім 3 та нескінченім таймаутом. Спробувати під час таймаута включити відключену ноду "
   ]
  },
  {
   "cell_type": "code",
   "execution_count": 64,
   "id": "ffe264ed",
   "metadata": {},
   "outputs": [
    {
     "name": "stdout",
     "output_type": "stream",
     "text": [
      "InsertOneResult(ObjectId('65fb49643836103bf9b3429c'), acknowledged=True)\n",
      "19.5  seconds\n"
     ]
    }
   ],
   "source": [
    "import time\n",
    "\n",
    "mydb = myclient[\"dd\"]\n",
    "items = mydb.get_collection('items', write_concern=pymongo.WriteConcern(w=3, wtimeout=0))\n",
    "\n",
    "start_time = time.time()\n",
    "\n",
    "print(items.insert_one({ 'item': 1, 'qty' : 1000, 'type': \"Clasper\" }))\n",
    "\n",
    "print(round(time.time() - start_time, 2), ' seconds')"
   ]
  },
  {
   "cell_type": "markdown",
   "id": "6bebc167",
   "metadata": {},
   "source": [
    "### 4. Аналогічно попередньому пункту, але задати скінченний таймаут та дочекатись його закінчення. Перевірити чи данні записались і чи доступні на читання з рівнем readConcern: “majority”\n",
    "\n",
    "#### Відповідь - так, доступні"
   ]
  },
  {
   "cell_type": "code",
   "execution_count": 88,
   "id": "1520701c",
   "metadata": {
    "scrolled": true
   },
   "outputs": [
    {
     "ename": "WTimeoutError",
     "evalue": "waiting for replication timed out, full error: {'code': 64, 'codeName': 'WriteConcernFailed', 'errmsg': 'waiting for replication timed out', 'errInfo': {'wtimeout': True, 'writeConcern': {'w': 3, 'wtimeout': 10000, 'provenance': 'clientSupplied'}}}",
     "output_type": "error",
     "traceback": [
      "\u001b[1;31m---------------------------------------------------------------------------\u001b[0m",
      "\u001b[1;31mWTimeoutError\u001b[0m                             Traceback (most recent call last)",
      "\u001b[1;32m<ipython-input-88-ca39472e4483>\u001b[0m in \u001b[0;36m<module>\u001b[1;34m\u001b[0m\n\u001b[0;32m      5\u001b[0m \u001b[0mstart_time\u001b[0m \u001b[1;33m=\u001b[0m \u001b[0mtime\u001b[0m\u001b[1;33m.\u001b[0m\u001b[0mtime\u001b[0m\u001b[1;33m(\u001b[0m\u001b[1;33m)\u001b[0m\u001b[1;33m\u001b[0m\u001b[1;33m\u001b[0m\u001b[0m\n\u001b[0;32m      6\u001b[0m \u001b[1;33m\u001b[0m\u001b[0m\n\u001b[1;32m----> 7\u001b[1;33m \u001b[0mprint\u001b[0m\u001b[1;33m(\u001b[0m\u001b[0mitems\u001b[0m\u001b[1;33m.\u001b[0m\u001b[0minsert_one\u001b[0m\u001b[1;33m(\u001b[0m\u001b[1;33m{\u001b[0m \u001b[1;34m'item'\u001b[0m\u001b[1;33m:\u001b[0m \u001b[1;36m2\u001b[0m\u001b[1;33m,\u001b[0m \u001b[1;34m'qty'\u001b[0m \u001b[1;33m:\u001b[0m \u001b[1;36m1000\u001b[0m\u001b[1;33m,\u001b[0m \u001b[1;34m'type'\u001b[0m\u001b[1;33m:\u001b[0m \u001b[1;34m\"Clasper\"\u001b[0m \u001b[1;33m}\u001b[0m\u001b[1;33m)\u001b[0m\u001b[1;33m)\u001b[0m\u001b[1;33m\u001b[0m\u001b[1;33m\u001b[0m\u001b[0m\n\u001b[0m\u001b[0;32m      8\u001b[0m \u001b[1;33m\u001b[0m\u001b[0m\n\u001b[0;32m      9\u001b[0m \u001b[0mprint\u001b[0m\u001b[1;33m(\u001b[0m\u001b[0mround\u001b[0m\u001b[1;33m(\u001b[0m\u001b[0mtime\u001b[0m\u001b[1;33m.\u001b[0m\u001b[0mtime\u001b[0m\u001b[1;33m(\u001b[0m\u001b[1;33m)\u001b[0m \u001b[1;33m-\u001b[0m \u001b[0mstart_time\u001b[0m\u001b[1;33m,\u001b[0m \u001b[1;36m2\u001b[0m\u001b[1;33m)\u001b[0m\u001b[1;33m,\u001b[0m \u001b[1;34m' seconds'\u001b[0m\u001b[1;33m)\u001b[0m\u001b[1;33m\u001b[0m\u001b[1;33m\u001b[0m\u001b[0m\n",
      "\u001b[1;32m~\\anaconda3\\lib\\site-packages\\pymongo\\collection.py\u001b[0m in \u001b[0;36minsert_one\u001b[1;34m(self, document, bypass_document_validation, session, comment)\u001b[0m\n\u001b[0;32m    667\u001b[0m         \u001b[0mwrite_concern\u001b[0m \u001b[1;33m=\u001b[0m \u001b[0mself\u001b[0m\u001b[1;33m.\u001b[0m\u001b[0m_write_concern_for\u001b[0m\u001b[1;33m(\u001b[0m\u001b[0msession\u001b[0m\u001b[1;33m)\u001b[0m\u001b[1;33m\u001b[0m\u001b[1;33m\u001b[0m\u001b[0m\n\u001b[0;32m    668\u001b[0m         return InsertOneResult(\n\u001b[1;32m--> 669\u001b[1;33m             self._insert_one(\n\u001b[0m\u001b[0;32m    670\u001b[0m                 \u001b[0mdocument\u001b[0m\u001b[1;33m,\u001b[0m\u001b[1;33m\u001b[0m\u001b[1;33m\u001b[0m\u001b[0m\n\u001b[0;32m    671\u001b[0m                 \u001b[0mordered\u001b[0m\u001b[1;33m=\u001b[0m\u001b[1;32mTrue\u001b[0m\u001b[1;33m,\u001b[0m\u001b[1;33m\u001b[0m\u001b[1;33m\u001b[0m\u001b[0m\n",
      "\u001b[1;32m~\\anaconda3\\lib\\site-packages\\pymongo\\collection.py\u001b[0m in \u001b[0;36m_insert_one\u001b[1;34m(self, doc, ordered, write_concern, op_id, bypass_doc_val, session, comment)\u001b[0m\n\u001b[0;32m    607\u001b[0m             \u001b[0m_check_write_command_response\u001b[0m\u001b[1;33m(\u001b[0m\u001b[0mresult\u001b[0m\u001b[1;33m)\u001b[0m\u001b[1;33m\u001b[0m\u001b[1;33m\u001b[0m\u001b[0m\n\u001b[0;32m    608\u001b[0m \u001b[1;33m\u001b[0m\u001b[0m\n\u001b[1;32m--> 609\u001b[1;33m         \u001b[0mself\u001b[0m\u001b[1;33m.\u001b[0m\u001b[0m__database\u001b[0m\u001b[1;33m.\u001b[0m\u001b[0mclient\u001b[0m\u001b[1;33m.\u001b[0m\u001b[0m_retryable_write\u001b[0m\u001b[1;33m(\u001b[0m\u001b[0macknowledged\u001b[0m\u001b[1;33m,\u001b[0m \u001b[0m_insert_command\u001b[0m\u001b[1;33m,\u001b[0m \u001b[0msession\u001b[0m\u001b[1;33m)\u001b[0m\u001b[1;33m\u001b[0m\u001b[1;33m\u001b[0m\u001b[0m\n\u001b[0m\u001b[0;32m    610\u001b[0m \u001b[1;33m\u001b[0m\u001b[0m\n\u001b[0;32m    611\u001b[0m         \u001b[1;32mif\u001b[0m \u001b[1;32mnot\u001b[0m \u001b[0misinstance\u001b[0m\u001b[1;33m(\u001b[0m\u001b[0mdoc\u001b[0m\u001b[1;33m,\u001b[0m \u001b[0mRawBSONDocument\u001b[0m\u001b[1;33m)\u001b[0m\u001b[1;33m:\u001b[0m\u001b[1;33m\u001b[0m\u001b[1;33m\u001b[0m\u001b[0m\n",
      "\u001b[1;32m~\\anaconda3\\lib\\site-packages\\pymongo\\mongo_client.py\u001b[0m in \u001b[0;36m_retryable_write\u001b[1;34m(self, retryable, func, session, bulk)\u001b[0m\n\u001b[0;32m   1521\u001b[0m         \"\"\"\n\u001b[0;32m   1522\u001b[0m         \u001b[1;32mwith\u001b[0m \u001b[0mself\u001b[0m\u001b[1;33m.\u001b[0m\u001b[0m_tmp_session\u001b[0m\u001b[1;33m(\u001b[0m\u001b[0msession\u001b[0m\u001b[1;33m)\u001b[0m \u001b[1;32mas\u001b[0m \u001b[0ms\u001b[0m\u001b[1;33m:\u001b[0m\u001b[1;33m\u001b[0m\u001b[1;33m\u001b[0m\u001b[0m\n\u001b[1;32m-> 1523\u001b[1;33m             \u001b[1;32mreturn\u001b[0m \u001b[0mself\u001b[0m\u001b[1;33m.\u001b[0m\u001b[0m_retry_with_session\u001b[0m\u001b[1;33m(\u001b[0m\u001b[0mretryable\u001b[0m\u001b[1;33m,\u001b[0m \u001b[0mfunc\u001b[0m\u001b[1;33m,\u001b[0m \u001b[0ms\u001b[0m\u001b[1;33m,\u001b[0m \u001b[0mbulk\u001b[0m\u001b[1;33m)\u001b[0m\u001b[1;33m\u001b[0m\u001b[1;33m\u001b[0m\u001b[0m\n\u001b[0m\u001b[0;32m   1524\u001b[0m \u001b[1;33m\u001b[0m\u001b[0m\n\u001b[0;32m   1525\u001b[0m     \u001b[1;32mdef\u001b[0m \u001b[0m__eq__\u001b[0m\u001b[1;33m(\u001b[0m\u001b[0mself\u001b[0m\u001b[1;33m,\u001b[0m \u001b[0mother\u001b[0m\u001b[1;33m:\u001b[0m \u001b[0mAny\u001b[0m\u001b[1;33m)\u001b[0m \u001b[1;33m->\u001b[0m \u001b[0mbool\u001b[0m\u001b[1;33m:\u001b[0m\u001b[1;33m\u001b[0m\u001b[1;33m\u001b[0m\u001b[0m\n",
      "\u001b[1;32m~\\anaconda3\\lib\\site-packages\\pymongo\\mongo_client.py\u001b[0m in \u001b[0;36m_retry_with_session\u001b[1;34m(self, retryable, func, session, bulk)\u001b[0m\n\u001b[0;32m   1419\u001b[0m             \u001b[0mretryable\u001b[0m \u001b[1;32mand\u001b[0m \u001b[0mself\u001b[0m\u001b[1;33m.\u001b[0m\u001b[0moptions\u001b[0m\u001b[1;33m.\u001b[0m\u001b[0mretry_writes\u001b[0m \u001b[1;32mand\u001b[0m \u001b[0msession\u001b[0m \u001b[1;32mand\u001b[0m \u001b[1;32mnot\u001b[0m \u001b[0msession\u001b[0m\u001b[1;33m.\u001b[0m\u001b[0min_transaction\u001b[0m\u001b[1;33m\u001b[0m\u001b[1;33m\u001b[0m\u001b[0m\n\u001b[0;32m   1420\u001b[0m         )\n\u001b[1;32m-> 1421\u001b[1;33m         return self._retry_internal(\n\u001b[0m\u001b[0;32m   1422\u001b[0m             \u001b[0mfunc\u001b[0m\u001b[1;33m=\u001b[0m\u001b[0mfunc\u001b[0m\u001b[1;33m,\u001b[0m\u001b[1;33m\u001b[0m\u001b[1;33m\u001b[0m\u001b[0m\n\u001b[0;32m   1423\u001b[0m             \u001b[0msession\u001b[0m\u001b[1;33m=\u001b[0m\u001b[0msession\u001b[0m\u001b[1;33m,\u001b[0m\u001b[1;33m\u001b[0m\u001b[1;33m\u001b[0m\u001b[0m\n",
      "\u001b[1;32m~\\anaconda3\\lib\\site-packages\\pymongo\\_csot.py\u001b[0m in \u001b[0;36mcsot_wrapper\u001b[1;34m(self, *args, **kwargs)\u001b[0m\n\u001b[0;32m    105\u001b[0m                 \u001b[1;32mwith\u001b[0m \u001b[0m_TimeoutContext\u001b[0m\u001b[1;33m(\u001b[0m\u001b[0mtimeout\u001b[0m\u001b[1;33m)\u001b[0m\u001b[1;33m:\u001b[0m\u001b[1;33m\u001b[0m\u001b[1;33m\u001b[0m\u001b[0m\n\u001b[0;32m    106\u001b[0m                     \u001b[1;32mreturn\u001b[0m \u001b[0mfunc\u001b[0m\u001b[1;33m(\u001b[0m\u001b[0mself\u001b[0m\u001b[1;33m,\u001b[0m \u001b[1;33m*\u001b[0m\u001b[0margs\u001b[0m\u001b[1;33m,\u001b[0m \u001b[1;33m**\u001b[0m\u001b[0mkwargs\u001b[0m\u001b[1;33m)\u001b[0m\u001b[1;33m\u001b[0m\u001b[1;33m\u001b[0m\u001b[0m\n\u001b[1;32m--> 107\u001b[1;33m         \u001b[1;32mreturn\u001b[0m \u001b[0mfunc\u001b[0m\u001b[1;33m(\u001b[0m\u001b[0mself\u001b[0m\u001b[1;33m,\u001b[0m \u001b[1;33m*\u001b[0m\u001b[0margs\u001b[0m\u001b[1;33m,\u001b[0m \u001b[1;33m**\u001b[0m\u001b[0mkwargs\u001b[0m\u001b[1;33m)\u001b[0m\u001b[1;33m\u001b[0m\u001b[1;33m\u001b[0m\u001b[0m\n\u001b[0m\u001b[0;32m    108\u001b[0m \u001b[1;33m\u001b[0m\u001b[0m\n\u001b[0;32m    109\u001b[0m     \u001b[1;32mreturn\u001b[0m \u001b[0mcast\u001b[0m\u001b[1;33m(\u001b[0m\u001b[0mF\u001b[0m\u001b[1;33m,\u001b[0m \u001b[0mcsot_wrapper\u001b[0m\u001b[1;33m)\u001b[0m\u001b[1;33m\u001b[0m\u001b[1;33m\u001b[0m\u001b[0m\n",
      "\u001b[1;32m~\\anaconda3\\lib\\site-packages\\pymongo\\mongo_client.py\u001b[0m in \u001b[0;36m_retry_internal\u001b[1;34m(self, func, session, bulk, is_read, address, read_pref, retryable)\u001b[0m\n\u001b[0;32m   1451\u001b[0m           \u001b[0mOutput\u001b[0m \u001b[0mof\u001b[0m \u001b[0mthe\u001b[0m \u001b[0mcalling\u001b[0m \u001b[0mfunc\u001b[0m\u001b[1;33m(\u001b[0m\u001b[1;33m)\u001b[0m\u001b[1;33m\u001b[0m\u001b[1;33m\u001b[0m\u001b[0m\n\u001b[0;32m   1452\u001b[0m         \"\"\"\n\u001b[1;32m-> 1453\u001b[1;33m         return _ClientConnectionRetryable(\n\u001b[0m\u001b[0;32m   1454\u001b[0m             \u001b[0mmongo_client\u001b[0m\u001b[1;33m=\u001b[0m\u001b[0mself\u001b[0m\u001b[1;33m,\u001b[0m\u001b[1;33m\u001b[0m\u001b[1;33m\u001b[0m\u001b[0m\n\u001b[0;32m   1455\u001b[0m             \u001b[0mfunc\u001b[0m\u001b[1;33m=\u001b[0m\u001b[0mfunc\u001b[0m\u001b[1;33m,\u001b[0m\u001b[1;33m\u001b[0m\u001b[1;33m\u001b[0m\u001b[0m\n",
      "\u001b[1;32m~\\anaconda3\\lib\\site-packages\\pymongo\\mongo_client.py\u001b[0m in \u001b[0;36mrun\u001b[1;34m(self)\u001b[0m\n\u001b[0;32m   2313\u001b[0m             \u001b[0mself\u001b[0m\u001b[1;33m.\u001b[0m\u001b[0m_check_last_error\u001b[0m\u001b[1;33m(\u001b[0m\u001b[0mcheck_csot\u001b[0m\u001b[1;33m=\u001b[0m\u001b[1;32mTrue\u001b[0m\u001b[1;33m)\u001b[0m\u001b[1;33m\u001b[0m\u001b[1;33m\u001b[0m\u001b[0m\n\u001b[0;32m   2314\u001b[0m             \u001b[1;32mtry\u001b[0m\u001b[1;33m:\u001b[0m\u001b[1;33m\u001b[0m\u001b[1;33m\u001b[0m\u001b[0m\n\u001b[1;32m-> 2315\u001b[1;33m                 \u001b[1;32mreturn\u001b[0m \u001b[0mself\u001b[0m\u001b[1;33m.\u001b[0m\u001b[0m_read\u001b[0m\u001b[1;33m(\u001b[0m\u001b[1;33m)\u001b[0m \u001b[1;32mif\u001b[0m \u001b[0mself\u001b[0m\u001b[1;33m.\u001b[0m\u001b[0m_is_read\u001b[0m \u001b[1;32melse\u001b[0m \u001b[0mself\u001b[0m\u001b[1;33m.\u001b[0m\u001b[0m_write\u001b[0m\u001b[1;33m(\u001b[0m\u001b[1;33m)\u001b[0m\u001b[1;33m\u001b[0m\u001b[1;33m\u001b[0m\u001b[0m\n\u001b[0m\u001b[0;32m   2316\u001b[0m             \u001b[1;32mexcept\u001b[0m \u001b[0mServerSelectionTimeoutError\u001b[0m\u001b[1;33m:\u001b[0m\u001b[1;33m\u001b[0m\u001b[1;33m\u001b[0m\u001b[0m\n\u001b[0;32m   2317\u001b[0m                 \u001b[1;31m# The application may think the write was never attempted\u001b[0m\u001b[1;33m\u001b[0m\u001b[1;33m\u001b[0m\u001b[1;33m\u001b[0m\u001b[0m\n",
      "\u001b[1;32m~\\anaconda3\\lib\\site-packages\\pymongo\\mongo_client.py\u001b[0m in \u001b[0;36m_write\u001b[1;34m(self)\u001b[0m\n\u001b[0;32m   2421\u001b[0m                     \u001b[0mself\u001b[0m\u001b[1;33m.\u001b[0m\u001b[0m_check_last_error\u001b[0m\u001b[1;33m(\u001b[0m\u001b[1;33m)\u001b[0m\u001b[1;33m\u001b[0m\u001b[1;33m\u001b[0m\u001b[0m\n\u001b[0;32m   2422\u001b[0m                     \u001b[0mself\u001b[0m\u001b[1;33m.\u001b[0m\u001b[0m_retryable\u001b[0m \u001b[1;33m=\u001b[0m \u001b[1;32mFalse\u001b[0m\u001b[1;33m\u001b[0m\u001b[1;33m\u001b[0m\u001b[0m\n\u001b[1;32m-> 2423\u001b[1;33m                 \u001b[1;32mreturn\u001b[0m \u001b[0mself\u001b[0m\u001b[1;33m.\u001b[0m\u001b[0m_func\u001b[0m\u001b[1;33m(\u001b[0m\u001b[0mself\u001b[0m\u001b[1;33m.\u001b[0m\u001b[0m_session\u001b[0m\u001b[1;33m,\u001b[0m \u001b[0mconn\u001b[0m\u001b[1;33m,\u001b[0m \u001b[0mself\u001b[0m\u001b[1;33m.\u001b[0m\u001b[0m_retryable\u001b[0m\u001b[1;33m)\u001b[0m  \u001b[1;31m# type: ignore\u001b[0m\u001b[1;33m\u001b[0m\u001b[1;33m\u001b[0m\u001b[0m\n\u001b[0m\u001b[0;32m   2424\u001b[0m         \u001b[1;32mexcept\u001b[0m \u001b[0mPyMongoError\u001b[0m \u001b[1;32mas\u001b[0m \u001b[0mexc\u001b[0m\u001b[1;33m:\u001b[0m\u001b[1;33m\u001b[0m\u001b[1;33m\u001b[0m\u001b[0m\n\u001b[0;32m   2425\u001b[0m             \u001b[1;32mif\u001b[0m \u001b[1;32mnot\u001b[0m \u001b[0mself\u001b[0m\u001b[1;33m.\u001b[0m\u001b[0m_retryable\u001b[0m\u001b[1;33m:\u001b[0m\u001b[1;33m\u001b[0m\u001b[1;33m\u001b[0m\u001b[0m\n",
      "\u001b[1;32m~\\anaconda3\\lib\\site-packages\\pymongo\\collection.py\u001b[0m in \u001b[0;36m_insert_command\u001b[1;34m(session, conn, retryable_write)\u001b[0m\n\u001b[0;32m    605\u001b[0m             )\n\u001b[0;32m    606\u001b[0m \u001b[1;33m\u001b[0m\u001b[0m\n\u001b[1;32m--> 607\u001b[1;33m             \u001b[0m_check_write_command_response\u001b[0m\u001b[1;33m(\u001b[0m\u001b[0mresult\u001b[0m\u001b[1;33m)\u001b[0m\u001b[1;33m\u001b[0m\u001b[1;33m\u001b[0m\u001b[0m\n\u001b[0m\u001b[0;32m    608\u001b[0m \u001b[1;33m\u001b[0m\u001b[0m\n\u001b[0;32m    609\u001b[0m         \u001b[0mself\u001b[0m\u001b[1;33m.\u001b[0m\u001b[0m__database\u001b[0m\u001b[1;33m.\u001b[0m\u001b[0mclient\u001b[0m\u001b[1;33m.\u001b[0m\u001b[0m_retryable_write\u001b[0m\u001b[1;33m(\u001b[0m\u001b[0macknowledged\u001b[0m\u001b[1;33m,\u001b[0m \u001b[0m_insert_command\u001b[0m\u001b[1;33m,\u001b[0m \u001b[0msession\u001b[0m\u001b[1;33m)\u001b[0m\u001b[1;33m\u001b[0m\u001b[1;33m\u001b[0m\u001b[0m\n",
      "\u001b[1;32m~\\anaconda3\\lib\\site-packages\\pymongo\\helpers.py\u001b[0m in \u001b[0;36m_check_write_command_response\u001b[1;34m(result)\u001b[0m\n\u001b[0;32m    268\u001b[0m     \u001b[0mwce\u001b[0m \u001b[1;33m=\u001b[0m \u001b[0m_get_wce_doc\u001b[0m\u001b[1;33m(\u001b[0m\u001b[0mresult\u001b[0m\u001b[1;33m)\u001b[0m\u001b[1;33m\u001b[0m\u001b[1;33m\u001b[0m\u001b[0m\n\u001b[0;32m    269\u001b[0m     \u001b[1;32mif\u001b[0m \u001b[0mwce\u001b[0m\u001b[1;33m:\u001b[0m\u001b[1;33m\u001b[0m\u001b[1;33m\u001b[0m\u001b[0m\n\u001b[1;32m--> 270\u001b[1;33m         \u001b[0m_raise_write_concern_error\u001b[0m\u001b[1;33m(\u001b[0m\u001b[0mwce\u001b[0m\u001b[1;33m)\u001b[0m\u001b[1;33m\u001b[0m\u001b[1;33m\u001b[0m\u001b[0m\n\u001b[0m\u001b[0;32m    271\u001b[0m \u001b[1;33m\u001b[0m\u001b[0m\n\u001b[0;32m    272\u001b[0m \u001b[1;33m\u001b[0m\u001b[0m\n",
      "\u001b[1;32m~\\anaconda3\\lib\\site-packages\\pymongo\\helpers.py\u001b[0m in \u001b[0;36m_raise_write_concern_error\u001b[1;34m(error)\u001b[0m\n\u001b[0;32m    243\u001b[0m     \u001b[1;32mif\u001b[0m \u001b[0m_wtimeout_error\u001b[0m\u001b[1;33m(\u001b[0m\u001b[0merror\u001b[0m\u001b[1;33m)\u001b[0m\u001b[1;33m:\u001b[0m\u001b[1;33m\u001b[0m\u001b[1;33m\u001b[0m\u001b[0m\n\u001b[0;32m    244\u001b[0m         \u001b[1;31m# Make sure we raise WTimeoutError\u001b[0m\u001b[1;33m\u001b[0m\u001b[1;33m\u001b[0m\u001b[1;33m\u001b[0m\u001b[0m\n\u001b[1;32m--> 245\u001b[1;33m         \u001b[1;32mraise\u001b[0m \u001b[0mWTimeoutError\u001b[0m\u001b[1;33m(\u001b[0m\u001b[0merror\u001b[0m\u001b[1;33m.\u001b[0m\u001b[0mget\u001b[0m\u001b[1;33m(\u001b[0m\u001b[1;34m\"errmsg\"\u001b[0m\u001b[1;33m)\u001b[0m\u001b[1;33m,\u001b[0m \u001b[0merror\u001b[0m\u001b[1;33m.\u001b[0m\u001b[0mget\u001b[0m\u001b[1;33m(\u001b[0m\u001b[1;34m\"code\"\u001b[0m\u001b[1;33m)\u001b[0m\u001b[1;33m,\u001b[0m \u001b[0merror\u001b[0m\u001b[1;33m)\u001b[0m\u001b[1;33m\u001b[0m\u001b[1;33m\u001b[0m\u001b[0m\n\u001b[0m\u001b[0;32m    246\u001b[0m     \u001b[1;32mraise\u001b[0m \u001b[0mWriteConcernError\u001b[0m\u001b[1;33m(\u001b[0m\u001b[0merror\u001b[0m\u001b[1;33m.\u001b[0m\u001b[0mget\u001b[0m\u001b[1;33m(\u001b[0m\u001b[1;34m\"errmsg\"\u001b[0m\u001b[1;33m)\u001b[0m\u001b[1;33m,\u001b[0m \u001b[0merror\u001b[0m\u001b[1;33m.\u001b[0m\u001b[0mget\u001b[0m\u001b[1;33m(\u001b[0m\u001b[1;34m\"code\"\u001b[0m\u001b[1;33m)\u001b[0m\u001b[1;33m,\u001b[0m \u001b[0merror\u001b[0m\u001b[1;33m)\u001b[0m\u001b[1;33m\u001b[0m\u001b[1;33m\u001b[0m\u001b[0m\n\u001b[0;32m    247\u001b[0m \u001b[1;33m\u001b[0m\u001b[0m\n",
      "\u001b[1;31mWTimeoutError\u001b[0m: waiting for replication timed out, full error: {'code': 64, 'codeName': 'WriteConcernFailed', 'errmsg': 'waiting for replication timed out', 'errInfo': {'wtimeout': True, 'writeConcern': {'w': 3, 'wtimeout': 10000, 'provenance': 'clientSupplied'}}}"
     ]
    }
   ],
   "source": [
    "items.delete_many({'item': 2})\n",
    "\n",
    "items = mydb.get_collection('items', write_concern=pymongo.WriteConcern(w=3, wtimeout=10000))\n",
    "\n",
    "start_time = time.time()\n",
    "\n",
    "print(items.insert_one({ 'item': 2, 'qty' : 1000, 'type': \"Clasper\" }))\n",
    "\n",
    "print(round(time.time() - start_time, 2), ' seconds')"
   ]
  },
  {
   "cell_type": "code",
   "execution_count": 97,
   "id": "939c441f",
   "metadata": {},
   "outputs": [
    {
     "name": "stdout",
     "output_type": "stream",
     "text": [
      "{'_id': ObjectId('65fb4b973836103bf9b342a2'),\n",
      " 'item': 2,\n",
      " 'qty': 1000,\n",
      " 'type': 'Clasper'}\n"
     ]
    }
   ],
   "source": [
    "items = mydb.get_collection('items', read_concern=pymongo.read_concern.ReadConcern(level='majority'))\n",
    "\n",
    "pprint(items.find_one({'item': 2}))"
   ]
  },
  {
   "cell_type": "markdown",
   "id": "e412b5d9",
   "metadata": {},
   "source": [
    "### 5. Продемонстрував перевибори primary node відключивши поточний primary (Replica Set Elections) - http://docs.mongodb.org/manual/core/replica-set-elections/  \n",
    "і що після відновлення роботи старої primary на неї реплікуються нові дані, які з'явилися під час її простою\n"
   ]
  },
  {
   "cell_type": "code",
   "execution_count": 99,
   "id": "a4d7b278",
   "metadata": {
    "scrolled": true
   },
   "outputs": [
    {
     "data": {
      "text/plain": [
       "{'set': 'rs0',\n",
       " 'date': datetime.datetime(2024, 3, 20, 20, 50, 15, 117000),\n",
       " 'myState': 1,\n",
       " 'term': 1,\n",
       " 'syncSourceHost': '',\n",
       " 'syncSourceId': -1,\n",
       " 'heartbeatIntervalMillis': 2000,\n",
       " 'majorityVoteCount': 2,\n",
       " 'writeMajorityCount': 2,\n",
       " 'votingMembersCount': 3,\n",
       " 'writableVotingMembersCount': 3,\n",
       " 'optimes': {'lastCommittedOpTime': {'ts': Timestamp(1710967810, 1), 't': 1},\n",
       "  'lastCommittedWallTime': datetime.datetime(2024, 3, 20, 20, 50, 10, 957000),\n",
       "  'readConcernMajorityOpTime': {'ts': Timestamp(1710967810, 1), 't': 1},\n",
       "  'appliedOpTime': {'ts': Timestamp(1710967810, 1), 't': 1},\n",
       "  'durableOpTime': {'ts': Timestamp(1710967810, 1), 't': 1},\n",
       "  'lastAppliedWallTime': datetime.datetime(2024, 3, 20, 20, 50, 10, 957000),\n",
       "  'lastDurableWallTime': datetime.datetime(2024, 3, 20, 20, 50, 10, 957000)},\n",
       " 'lastStableRecoveryTimestamp': Timestamp(1710967783, 1),\n",
       " 'electionCandidateMetrics': {'lastElectionReason': 'electionTimeout',\n",
       "  'lastElectionDate': datetime.datetime(2024, 3, 20, 20, 8, 0, 674000),\n",
       "  'electionTerm': 1,\n",
       "  'lastCommittedOpTimeAtElection': {'ts': Timestamp(1710965270, 1), 't': -1},\n",
       "  'lastSeenOpTimeAtElection': {'ts': Timestamp(1710965270, 1), 't': -1},\n",
       "  'numVotesNeeded': 2,\n",
       "  'priorityAtElection': 1.0,\n",
       "  'electionTimeoutMillis': 10000,\n",
       "  'numCatchUpOps': 0,\n",
       "  'newTermStartDate': datetime.datetime(2024, 3, 20, 20, 8, 0, 775000),\n",
       "  'wMajorityWriteAvailabilityDate': datetime.datetime(2024, 3, 20, 20, 8, 1, 289000)},\n",
       " 'members': [{'_id': 0,\n",
       "   'name': 'mongo-node1:27017',\n",
       "   'health': 1.0,\n",
       "   'state': 1,\n",
       "   'stateStr': 'PRIMARY',\n",
       "   'uptime': 2800,\n",
       "   'optime': {'ts': Timestamp(1710967810, 1), 't': 1},\n",
       "   'optimeDate': datetime.datetime(2024, 3, 20, 20, 50, 10),\n",
       "   'lastAppliedWallTime': datetime.datetime(2024, 3, 20, 20, 50, 10, 957000),\n",
       "   'lastDurableWallTime': datetime.datetime(2024, 3, 20, 20, 50, 10, 957000),\n",
       "   'syncSourceHost': '',\n",
       "   'syncSourceId': -1,\n",
       "   'infoMessage': '',\n",
       "   'electionTime': Timestamp(1710965280, 1),\n",
       "   'electionDate': datetime.datetime(2024, 3, 20, 20, 8),\n",
       "   'configVersion': 1,\n",
       "   'configTerm': 1,\n",
       "   'self': True,\n",
       "   'lastHeartbeatMessage': ''},\n",
       "  {'_id': 1,\n",
       "   'name': 'mongo-node2:27017',\n",
       "   'health': 1.0,\n",
       "   'state': 2,\n",
       "   'stateStr': 'SECONDARY',\n",
       "   'uptime': 2544,\n",
       "   'optime': {'ts': Timestamp(1710967810, 1), 't': 1},\n",
       "   'optimeDurable': {'ts': Timestamp(1710967810, 1), 't': 1},\n",
       "   'optimeDate': datetime.datetime(2024, 3, 20, 20, 50, 10),\n",
       "   'optimeDurableDate': datetime.datetime(2024, 3, 20, 20, 50, 10),\n",
       "   'lastAppliedWallTime': datetime.datetime(2024, 3, 20, 20, 50, 10, 957000),\n",
       "   'lastDurableWallTime': datetime.datetime(2024, 3, 20, 20, 50, 10, 957000),\n",
       "   'lastHeartbeat': datetime.datetime(2024, 3, 20, 20, 50, 13, 963000),\n",
       "   'lastHeartbeatRecv': datetime.datetime(2024, 3, 20, 20, 50, 14, 782000),\n",
       "   'pingMs': 0,\n",
       "   'lastHeartbeatMessage': '',\n",
       "   'syncSourceHost': 'mongo-node1:27017',\n",
       "   'syncSourceId': 0,\n",
       "   'infoMessage': '',\n",
       "   'configVersion': 1,\n",
       "   'configTerm': 1},\n",
       "  {'_id': 2,\n",
       "   'name': 'mongo-node3:27017',\n",
       "   'health': 1.0,\n",
       "   'state': 2,\n",
       "   'stateStr': 'SECONDARY',\n",
       "   'uptime': 44,\n",
       "   'optime': {'ts': Timestamp(1710967810, 1), 't': 1},\n",
       "   'optimeDurable': {'ts': Timestamp(1710967810, 1), 't': 1},\n",
       "   'optimeDate': datetime.datetime(2024, 3, 20, 20, 50, 10),\n",
       "   'optimeDurableDate': datetime.datetime(2024, 3, 20, 20, 50, 10),\n",
       "   'lastAppliedWallTime': datetime.datetime(2024, 3, 20, 20, 50, 10, 957000),\n",
       "   'lastDurableWallTime': datetime.datetime(2024, 3, 20, 20, 50, 10, 957000),\n",
       "   'lastHeartbeat': datetime.datetime(2024, 3, 20, 20, 50, 14, 547000),\n",
       "   'lastHeartbeatRecv': datetime.datetime(2024, 3, 20, 20, 50, 15, 56000),\n",
       "   'pingMs': 0,\n",
       "   'lastHeartbeatMessage': '',\n",
       "   'syncSourceHost': 'mongo-node2:27017',\n",
       "   'syncSourceId': 1,\n",
       "   'infoMessage': '',\n",
       "   'configVersion': 1,\n",
       "   'configTerm': 1}],\n",
       " 'ok': 1.0,\n",
       " '$clusterTime': {'clusterTime': Timestamp(1710967810, 1),\n",
       "  'signature': {'hash': b'\\x00\\x00\\x00\\x00\\x00\\x00\\x00\\x00\\x00\\x00\\x00\\x00\\x00\\x00\\x00\\x00\\x00\\x00\\x00\\x00',\n",
       "   'keyId': 0}},\n",
       " 'operationTime': Timestamp(1710967810, 1)}"
      ]
     },
     "execution_count": 99,
     "metadata": {},
     "output_type": "execute_result"
    }
   ],
   "source": [
    "# Перевіремо PRIMARY\n",
    "myclient.admin.command(\"replSetGetStatus\")\n",
    "# Це mongo-node1:27017"
   ]
  },
  {
   "cell_type": "code",
   "execution_count": 105,
   "id": "ffba289e",
   "metadata": {
    "scrolled": true
   },
   "outputs": [
    {
     "data": {
      "text/plain": [
       "{'set': 'rs0',\n",
       " 'date': datetime.datetime(2024, 3, 20, 21, 1, 37, 72000),\n",
       " 'myState': 1,\n",
       " 'term': 2,\n",
       " 'syncSourceHost': '',\n",
       " 'syncSourceId': -1,\n",
       " 'heartbeatIntervalMillis': 2000,\n",
       " 'majorityVoteCount': 2,\n",
       " 'writeMajorityCount': 2,\n",
       " 'votingMembersCount': 3,\n",
       " 'writableVotingMembersCount': 3,\n",
       " 'optimes': {'lastCommittedOpTime': {'ts': Timestamp(1710968494, 1), 't': 2},\n",
       "  'lastCommittedWallTime': datetime.datetime(2024, 3, 20, 21, 1, 34, 923000),\n",
       "  'readConcernMajorityOpTime': {'ts': Timestamp(1710968494, 1), 't': 2},\n",
       "  'appliedOpTime': {'ts': Timestamp(1710968494, 1), 't': 2},\n",
       "  'durableOpTime': {'ts': Timestamp(1710968494, 1), 't': 2},\n",
       "  'lastAppliedWallTime': datetime.datetime(2024, 3, 20, 21, 1, 34, 923000),\n",
       "  'lastDurableWallTime': datetime.datetime(2024, 3, 20, 21, 1, 34, 923000)},\n",
       " 'lastStableRecoveryTimestamp': Timestamp(1710968454, 1),\n",
       " 'electionCandidateMetrics': {'lastElectionReason': 'stepUpRequestSkipDryRun',\n",
       "  'lastElectionDate': datetime.datetime(2024, 3, 20, 20, 51, 14, 873000),\n",
       "  'electionTerm': 2,\n",
       "  'lastCommittedOpTimeAtElection': {'ts': Timestamp(1710967870, 1), 't': 1},\n",
       "  'lastSeenOpTimeAtElection': {'ts': Timestamp(1710967870, 1), 't': 1},\n",
       "  'numVotesNeeded': 2,\n",
       "  'priorityAtElection': 1.0,\n",
       "  'electionTimeoutMillis': 10000,\n",
       "  'priorPrimaryMemberId': 0,\n",
       "  'numCatchUpOps': 0,\n",
       "  'newTermStartDate': datetime.datetime(2024, 3, 20, 20, 51, 14, 893000),\n",
       "  'wMajorityWriteAvailabilityDate': datetime.datetime(2024, 3, 20, 20, 51, 14, 899000)},\n",
       " 'electionParticipantMetrics': {'votedForCandidate': True,\n",
       "  'electionTerm': 1,\n",
       "  'lastVoteDate': datetime.datetime(2024, 3, 20, 20, 8, 0, 678000),\n",
       "  'electionCandidateMemberId': 0,\n",
       "  'voteReason': '',\n",
       "  'lastAppliedOpTimeAtElection': {'ts': Timestamp(1710965270, 1), 't': -1},\n",
       "  'maxAppliedOpTimeInSet': {'ts': Timestamp(1710965270, 1), 't': -1},\n",
       "  'priorityAtElection': 1.0},\n",
       " 'members': [{'_id': 0,\n",
       "   'name': 'mongo-node1:27017',\n",
       "   'health': 0.0,\n",
       "   'state': 8,\n",
       "   'stateStr': '(not reachable/healthy)',\n",
       "   'uptime': 0,\n",
       "   'optime': {'ts': Timestamp(0, 0), 't': -1},\n",
       "   'optimeDurable': {'ts': Timestamp(0, 0), 't': -1},\n",
       "   'optimeDate': datetime.datetime(1970, 1, 1, 0, 0),\n",
       "   'optimeDurableDate': datetime.datetime(1970, 1, 1, 0, 0),\n",
       "   'lastAppliedWallTime': datetime.datetime(2024, 3, 20, 20, 51, 14, 893000),\n",
       "   'lastDurableWallTime': datetime.datetime(2024, 3, 20, 20, 51, 14, 893000),\n",
       "   'lastHeartbeat': datetime.datetime(2024, 3, 20, 21, 1, 28, 473000),\n",
       "   'lastHeartbeatRecv': datetime.datetime(2024, 3, 20, 20, 51, 23, 404000),\n",
       "   'pingMs': 0,\n",
       "   'lastHeartbeatMessage': \"Couldn't get a connection within the time limit\",\n",
       "   'syncSourceHost': '',\n",
       "   'syncSourceId': -1,\n",
       "   'infoMessage': '',\n",
       "   'configVersion': 1,\n",
       "   'configTerm': 2},\n",
       "  {'_id': 1,\n",
       "   'name': 'mongo-node2:27017',\n",
       "   'health': 1.0,\n",
       "   'state': 1,\n",
       "   'stateStr': 'PRIMARY',\n",
       "   'uptime': 3402,\n",
       "   'optime': {'ts': Timestamp(1710968494, 1), 't': 2},\n",
       "   'optimeDate': datetime.datetime(2024, 3, 20, 21, 1, 34),\n",
       "   'lastAppliedWallTime': datetime.datetime(2024, 3, 20, 21, 1, 34, 923000),\n",
       "   'lastDurableWallTime': datetime.datetime(2024, 3, 20, 21, 1, 34, 923000),\n",
       "   'syncSourceHost': '',\n",
       "   'syncSourceId': -1,\n",
       "   'infoMessage': '',\n",
       "   'electionTime': Timestamp(1710967874, 1),\n",
       "   'electionDate': datetime.datetime(2024, 3, 20, 20, 51, 14),\n",
       "   'configVersion': 1,\n",
       "   'configTerm': 2,\n",
       "   'self': True,\n",
       "   'lastHeartbeatMessage': ''},\n",
       "  {'_id': 2,\n",
       "   'name': 'mongo-node3:27017',\n",
       "   'health': 1.0,\n",
       "   'state': 2,\n",
       "   'stateStr': 'SECONDARY',\n",
       "   'uptime': 723,\n",
       "   'optime': {'ts': Timestamp(1710968494, 1), 't': 2},\n",
       "   'optimeDurable': {'ts': Timestamp(1710968494, 1), 't': 2},\n",
       "   'optimeDate': datetime.datetime(2024, 3, 20, 21, 1, 34),\n",
       "   'optimeDurableDate': datetime.datetime(2024, 3, 20, 21, 1, 34),\n",
       "   'lastAppliedWallTime': datetime.datetime(2024, 3, 20, 21, 1, 34, 923000),\n",
       "   'lastDurableWallTime': datetime.datetime(2024, 3, 20, 21, 1, 34, 923000),\n",
       "   'lastHeartbeat': datetime.datetime(2024, 3, 20, 21, 1, 35, 129000),\n",
       "   'lastHeartbeatRecv': datetime.datetime(2024, 3, 20, 21, 1, 35, 129000),\n",
       "   'pingMs': 0,\n",
       "   'lastHeartbeatMessage': '',\n",
       "   'syncSourceHost': 'mongo-node2:27017',\n",
       "   'syncSourceId': 1,\n",
       "   'infoMessage': '',\n",
       "   'configVersion': 1,\n",
       "   'configTerm': 2}],\n",
       " 'ok': 1.0,\n",
       " '$clusterTime': {'clusterTime': Timestamp(1710968494, 1),\n",
       "  'signature': {'hash': b'\\x00\\x00\\x00\\x00\\x00\\x00\\x00\\x00\\x00\\x00\\x00\\x00\\x00\\x00\\x00\\x00\\x00\\x00\\x00\\x00',\n",
       "   'keyId': 0}},\n",
       " 'operationTime': Timestamp(1710968494, 1)}"
      ]
     },
     "execution_count": 105,
     "metadata": {},
     "output_type": "execute_result"
    }
   ],
   "source": [
    "# Виключимо PRIMARY\n",
    "myclient.admin.command(\"replSetGetStatus\")"
   ]
  },
  {
   "cell_type": "code",
   "execution_count": 107,
   "id": "60832ce9",
   "metadata": {
    "scrolled": true
   },
   "outputs": [
    {
     "ename": "BulkWriteError",
     "evalue": "batch op errors occurred, full error: {'writeErrors': [], 'writeConcernErrors': [{'code': 64, 'codeName': 'WriteConcernFailed', 'errmsg': 'waiting for replication timed out', 'errInfo': {'wtimeout': True, 'writeConcern': {'w': 3, 'wtimeout': 6000, 'provenance': 'clientSupplied'}}}], 'nInserted': 3, 'nUpserted': 0, 'nMatched': 0, 'nModified': 0, 'nRemoved': 0, 'upserted': []}",
     "output_type": "error",
     "traceback": [
      "\u001b[1;31m---------------------------------------------------------------------------\u001b[0m",
      "\u001b[1;31mBulkWriteError\u001b[0m                            Traceback (most recent call last)",
      "\u001b[1;32m<ipython-input-107-be7d652322ff>\u001b[0m in \u001b[0;36m<module>\u001b[1;34m\u001b[0m\n\u001b[0;32m      3\u001b[0m \u001b[0mitems\u001b[0m \u001b[1;33m=\u001b[0m \u001b[0mmydb\u001b[0m\u001b[1;33m.\u001b[0m\u001b[0mget_collection\u001b[0m\u001b[1;33m(\u001b[0m\u001b[1;34m'items'\u001b[0m\u001b[1;33m,\u001b[0m \u001b[0mwrite_concern\u001b[0m\u001b[1;33m=\u001b[0m\u001b[0mpymongo\u001b[0m\u001b[1;33m.\u001b[0m\u001b[0mWriteConcern\u001b[0m\u001b[1;33m(\u001b[0m\u001b[0mw\u001b[0m\u001b[1;33m=\u001b[0m\u001b[1;36m3\u001b[0m\u001b[1;33m,\u001b[0m \u001b[0mwtimeout\u001b[0m\u001b[1;33m=\u001b[0m\u001b[1;36m6000\u001b[0m\u001b[1;33m)\u001b[0m\u001b[1;33m)\u001b[0m\u001b[1;33m\u001b[0m\u001b[1;33m\u001b[0m\u001b[0m\n\u001b[0;32m      4\u001b[0m \u001b[1;33m\u001b[0m\u001b[0m\n\u001b[1;32m----> 5\u001b[1;33m print(items.insert_many([{ 'item': 3, 'qty' : 1000, 'type': \"Clasper\" },\n\u001b[0m\u001b[0;32m      6\u001b[0m                          \u001b[1;33m{\u001b[0m \u001b[1;34m'item'\u001b[0m\u001b[1;33m:\u001b[0m \u001b[1;36m4\u001b[0m\u001b[1;33m,\u001b[0m \u001b[1;34m'qty'\u001b[0m \u001b[1;33m:\u001b[0m \u001b[1;36m1000\u001b[0m\u001b[1;33m,\u001b[0m \u001b[1;34m'type'\u001b[0m\u001b[1;33m:\u001b[0m \u001b[1;34m\"Clasper\"\u001b[0m \u001b[1;33m}\u001b[0m\u001b[1;33m,\u001b[0m\u001b[1;33m\u001b[0m\u001b[1;33m\u001b[0m\u001b[0m\n\u001b[0;32m      7\u001b[0m                          { 'item': 5, 'qty' : 1000, 'type': \"Clasper\" }]))\n",
      "\u001b[1;32m~\\anaconda3\\lib\\site-packages\\pymongo\\_csot.py\u001b[0m in \u001b[0;36mcsot_wrapper\u001b[1;34m(self, *args, **kwargs)\u001b[0m\n\u001b[0;32m    105\u001b[0m                 \u001b[1;32mwith\u001b[0m \u001b[0m_TimeoutContext\u001b[0m\u001b[1;33m(\u001b[0m\u001b[0mtimeout\u001b[0m\u001b[1;33m)\u001b[0m\u001b[1;33m:\u001b[0m\u001b[1;33m\u001b[0m\u001b[1;33m\u001b[0m\u001b[0m\n\u001b[0;32m    106\u001b[0m                     \u001b[1;32mreturn\u001b[0m \u001b[0mfunc\u001b[0m\u001b[1;33m(\u001b[0m\u001b[0mself\u001b[0m\u001b[1;33m,\u001b[0m \u001b[1;33m*\u001b[0m\u001b[0margs\u001b[0m\u001b[1;33m,\u001b[0m \u001b[1;33m**\u001b[0m\u001b[0mkwargs\u001b[0m\u001b[1;33m)\u001b[0m\u001b[1;33m\u001b[0m\u001b[1;33m\u001b[0m\u001b[0m\n\u001b[1;32m--> 107\u001b[1;33m         \u001b[1;32mreturn\u001b[0m \u001b[0mfunc\u001b[0m\u001b[1;33m(\u001b[0m\u001b[0mself\u001b[0m\u001b[1;33m,\u001b[0m \u001b[1;33m*\u001b[0m\u001b[0margs\u001b[0m\u001b[1;33m,\u001b[0m \u001b[1;33m**\u001b[0m\u001b[0mkwargs\u001b[0m\u001b[1;33m)\u001b[0m\u001b[1;33m\u001b[0m\u001b[1;33m\u001b[0m\u001b[0m\n\u001b[0m\u001b[0;32m    108\u001b[0m \u001b[1;33m\u001b[0m\u001b[0m\n\u001b[0;32m    109\u001b[0m     \u001b[1;32mreturn\u001b[0m \u001b[0mcast\u001b[0m\u001b[1;33m(\u001b[0m\u001b[0mF\u001b[0m\u001b[1;33m,\u001b[0m \u001b[0mcsot_wrapper\u001b[0m\u001b[1;33m)\u001b[0m\u001b[1;33m\u001b[0m\u001b[1;33m\u001b[0m\u001b[0m\n",
      "\u001b[1;32m~\\anaconda3\\lib\\site-packages\\pymongo\\collection.py\u001b[0m in \u001b[0;36minsert_many\u001b[1;34m(self, documents, ordered, bypass_document_validation, session, comment)\u001b[0m\n\u001b[0;32m    753\u001b[0m         \u001b[0mblk\u001b[0m \u001b[1;33m=\u001b[0m \u001b[0m_Bulk\u001b[0m\u001b[1;33m(\u001b[0m\u001b[0mself\u001b[0m\u001b[1;33m,\u001b[0m \u001b[0mordered\u001b[0m\u001b[1;33m,\u001b[0m \u001b[0mbypass_document_validation\u001b[0m\u001b[1;33m,\u001b[0m \u001b[0mcomment\u001b[0m\u001b[1;33m=\u001b[0m\u001b[0mcomment\u001b[0m\u001b[1;33m)\u001b[0m\u001b[1;33m\u001b[0m\u001b[1;33m\u001b[0m\u001b[0m\n\u001b[0;32m    754\u001b[0m         \u001b[0mblk\u001b[0m\u001b[1;33m.\u001b[0m\u001b[0mops\u001b[0m \u001b[1;33m=\u001b[0m \u001b[0mlist\u001b[0m\u001b[1;33m(\u001b[0m\u001b[0mgen\u001b[0m\u001b[1;33m(\u001b[0m\u001b[1;33m)\u001b[0m\u001b[1;33m)\u001b[0m\u001b[1;33m\u001b[0m\u001b[1;33m\u001b[0m\u001b[0m\n\u001b[1;32m--> 755\u001b[1;33m         \u001b[0mblk\u001b[0m\u001b[1;33m.\u001b[0m\u001b[0mexecute\u001b[0m\u001b[1;33m(\u001b[0m\u001b[0mwrite_concern\u001b[0m\u001b[1;33m,\u001b[0m \u001b[0msession\u001b[0m\u001b[1;33m=\u001b[0m\u001b[0msession\u001b[0m\u001b[1;33m)\u001b[0m\u001b[1;33m\u001b[0m\u001b[1;33m\u001b[0m\u001b[0m\n\u001b[0m\u001b[0;32m    756\u001b[0m         \u001b[1;32mreturn\u001b[0m \u001b[0mInsertManyResult\u001b[0m\u001b[1;33m(\u001b[0m\u001b[0minserted_ids\u001b[0m\u001b[1;33m,\u001b[0m \u001b[0mwrite_concern\u001b[0m\u001b[1;33m.\u001b[0m\u001b[0macknowledged\u001b[0m\u001b[1;33m)\u001b[0m\u001b[1;33m\u001b[0m\u001b[1;33m\u001b[0m\u001b[0m\n\u001b[0;32m    757\u001b[0m \u001b[1;33m\u001b[0m\u001b[0m\n",
      "\u001b[1;32m~\\anaconda3\\lib\\site-packages\\pymongo\\bulk.py\u001b[0m in \u001b[0;36mexecute\u001b[1;34m(self, write_concern, session)\u001b[0m\n\u001b[0;32m    574\u001b[0m                 \u001b[1;32mreturn\u001b[0m \u001b[1;32mNone\u001b[0m\u001b[1;33m\u001b[0m\u001b[1;33m\u001b[0m\u001b[0m\n\u001b[0;32m    575\u001b[0m         \u001b[1;32melse\u001b[0m\u001b[1;33m:\u001b[0m\u001b[1;33m\u001b[0m\u001b[1;33m\u001b[0m\u001b[0m\n\u001b[1;32m--> 576\u001b[1;33m             \u001b[1;32mreturn\u001b[0m \u001b[0mself\u001b[0m\u001b[1;33m.\u001b[0m\u001b[0mexecute_command\u001b[0m\u001b[1;33m(\u001b[0m\u001b[0mgenerator\u001b[0m\u001b[1;33m,\u001b[0m \u001b[0mwrite_concern\u001b[0m\u001b[1;33m,\u001b[0m \u001b[0msession\u001b[0m\u001b[1;33m)\u001b[0m\u001b[1;33m\u001b[0m\u001b[1;33m\u001b[0m\u001b[0m\n\u001b[0m",
      "\u001b[1;32m~\\anaconda3\\lib\\site-packages\\pymongo\\bulk.py\u001b[0m in \u001b[0;36mexecute_command\u001b[1;34m(self, generator, write_concern, session)\u001b[0m\n\u001b[0;32m    444\u001b[0m \u001b[1;33m\u001b[0m\u001b[0m\n\u001b[0;32m    445\u001b[0m         \u001b[1;32mif\u001b[0m \u001b[0mfull_result\u001b[0m\u001b[1;33m[\u001b[0m\u001b[1;34m\"writeErrors\"\u001b[0m\u001b[1;33m]\u001b[0m \u001b[1;32mor\u001b[0m \u001b[0mfull_result\u001b[0m\u001b[1;33m[\u001b[0m\u001b[1;34m\"writeConcernErrors\"\u001b[0m\u001b[1;33m]\u001b[0m\u001b[1;33m:\u001b[0m\u001b[1;33m\u001b[0m\u001b[1;33m\u001b[0m\u001b[0m\n\u001b[1;32m--> 446\u001b[1;33m             \u001b[0m_raise_bulk_write_error\u001b[0m\u001b[1;33m(\u001b[0m\u001b[0mfull_result\u001b[0m\u001b[1;33m)\u001b[0m\u001b[1;33m\u001b[0m\u001b[1;33m\u001b[0m\u001b[0m\n\u001b[0m\u001b[0;32m    447\u001b[0m         \u001b[1;32mreturn\u001b[0m \u001b[0mfull_result\u001b[0m\u001b[1;33m\u001b[0m\u001b[1;33m\u001b[0m\u001b[0m\n\u001b[0;32m    448\u001b[0m \u001b[1;33m\u001b[0m\u001b[0m\n",
      "\u001b[1;32m~\\anaconda3\\lib\\site-packages\\pymongo\\bulk.py\u001b[0m in \u001b[0;36m_raise_bulk_write_error\u001b[1;34m(full_result)\u001b[0m\n\u001b[0;32m    155\u001b[0m     \u001b[1;32mif\u001b[0m \u001b[0mfull_result\u001b[0m\u001b[1;33m[\u001b[0m\u001b[1;34m\"writeErrors\"\u001b[0m\u001b[1;33m]\u001b[0m\u001b[1;33m:\u001b[0m\u001b[1;33m\u001b[0m\u001b[1;33m\u001b[0m\u001b[0m\n\u001b[0;32m    156\u001b[0m         \u001b[0mfull_result\u001b[0m\u001b[1;33m[\u001b[0m\u001b[1;34m\"writeErrors\"\u001b[0m\u001b[1;33m]\u001b[0m\u001b[1;33m.\u001b[0m\u001b[0msort\u001b[0m\u001b[1;33m(\u001b[0m\u001b[0mkey\u001b[0m\u001b[1;33m=\u001b[0m\u001b[1;32mlambda\u001b[0m \u001b[0merror\u001b[0m\u001b[1;33m:\u001b[0m \u001b[0merror\u001b[0m\u001b[1;33m[\u001b[0m\u001b[1;34m\"index\"\u001b[0m\u001b[1;33m]\u001b[0m\u001b[1;33m)\u001b[0m\u001b[1;33m\u001b[0m\u001b[1;33m\u001b[0m\u001b[0m\n\u001b[1;32m--> 157\u001b[1;33m     \u001b[1;32mraise\u001b[0m \u001b[0mBulkWriteError\u001b[0m\u001b[1;33m(\u001b[0m\u001b[0mfull_result\u001b[0m\u001b[1;33m)\u001b[0m\u001b[1;33m\u001b[0m\u001b[1;33m\u001b[0m\u001b[0m\n\u001b[0m\u001b[0;32m    158\u001b[0m \u001b[1;33m\u001b[0m\u001b[0m\n\u001b[0;32m    159\u001b[0m \u001b[1;33m\u001b[0m\u001b[0m\n",
      "\u001b[1;31mBulkWriteError\u001b[0m: batch op errors occurred, full error: {'writeErrors': [], 'writeConcernErrors': [{'code': 64, 'codeName': 'WriteConcernFailed', 'errmsg': 'waiting for replication timed out', 'errInfo': {'wtimeout': True, 'writeConcern': {'w': 3, 'wtimeout': 6000, 'provenance': 'clientSupplied'}}}], 'nInserted': 3, 'nUpserted': 0, 'nMatched': 0, 'nModified': 0, 'nRemoved': 0, 'upserted': []}"
     ]
    }
   ],
   "source": [
    "# Додамо докемунтів\n",
    "mydb = myclient[\"dd\"]\n",
    "items = mydb.get_collection('items', write_concern=pymongo.WriteConcern(w=3, wtimeout=6000))\n",
    "\n",
    "print(items.insert_many([{ 'item': 3, 'qty' : 1000, 'type': \"Clasper\" },\n",
    "                         { 'item': 4, 'qty' : 1000, 'type': \"Clasper\" },\n",
    "                         { 'item': 5, 'qty' : 1000, 'type': \"Clasper\" }]))"
   ]
  },
  {
   "cell_type": "code",
   "execution_count": 114,
   "id": "82c32ddc",
   "metadata": {},
   "outputs": [
    {
     "name": "stdout",
     "output_type": "stream",
     "text": [
      "{'_id': ObjectId('65fb4f6d3836103bf9b342a7'),\n",
      " 'item': 4,\n",
      " 'qty': 1000,\n",
      " 'type': 'Clasper'}\n",
      "{'_id': ObjectId('65fb4f6d3836103bf9b342a6'),\n",
      " 'item': 3,\n",
      " 'qty': 1000,\n",
      " 'type': 'Clasper'}\n",
      "{'_id': ObjectId('65fb4f6d3836103bf9b342a8'),\n",
      " 'item': 5,\n",
      " 'qty': 1000,\n",
      " 'type': 'Clasper'}\n"
     ]
    }
   ],
   "source": [
    "previous_primary_node = pymongo.MongoClient(\"mongodb://localhost:27017/?directConnection=true\")\n",
    "mydb = previous_primary_node[\"dd\"]\n",
    "items = mydb.get_collection('items', read_concern=pymongo.read_concern.ReadConcern(level='local'))\n",
    "\n",
    "pprint(items.find_one({'item': 4}))\n",
    "pprint(items.find_one({'item': 3}))\n",
    "pprint(items.find_one({'item': 5}))"
   ]
  },
  {
   "cell_type": "markdown",
   "id": "e895bfea",
   "metadata": {},
   "source": [
    "### 6. Привести кластер до неконсистентного стану користуючись моментом часу коли primary node не одразу помічає відсутність secondary node \n",
    "- відключивши дві secondary node, протягом 5 сек. на мастер записати значення (з w:1) і перевірити, що воно записалось\n",
    "- спробувати зчитати це значення з різними рівнями read concern - readConcern: {level: <\"majority\"|\"local\"| \"linearizable\">} - значення має бути доступне тільки при читанні з рівнем “local”\n",
    "- включити дві інші ноди таким чином, щоб вони не бачили попереднього мастера (його можна відключити) і дочекатись поки вони оберуть нового мастера \n",
    "- підключити (включити) попередню primary-ноду до кластеру і подивитись, що сталось зі значенням яке було на неї записано - воно має зникнути\n"
   ]
  },
  {
   "cell_type": "code",
   "execution_count": 117,
   "id": "edee6505",
   "metadata": {
    "scrolled": true
   },
   "outputs": [
    {
     "data": {
      "text/plain": [
       "{'set': 'rs0',\n",
       " 'date': datetime.datetime(2024, 3, 20, 21, 11, 28, 44000),\n",
       " 'myState': 1,\n",
       " 'term': 2,\n",
       " 'syncSourceHost': '',\n",
       " 'syncSourceId': -1,\n",
       " 'heartbeatIntervalMillis': 2000,\n",
       " 'majorityVoteCount': 2,\n",
       " 'writeMajorityCount': 2,\n",
       " 'votingMembersCount': 3,\n",
       " 'writableVotingMembersCount': 3,\n",
       " 'optimes': {'lastCommittedOpTime': {'ts': Timestamp(1710969084, 1), 't': 2},\n",
       "  'lastCommittedWallTime': datetime.datetime(2024, 3, 20, 21, 11, 24, 949000),\n",
       "  'readConcernMajorityOpTime': {'ts': Timestamp(1710969084, 1), 't': 2},\n",
       "  'appliedOpTime': {'ts': Timestamp(1710969084, 1), 't': 2},\n",
       "  'durableOpTime': {'ts': Timestamp(1710969084, 1), 't': 2},\n",
       "  'lastAppliedWallTime': datetime.datetime(2024, 3, 20, 21, 11, 24, 949000),\n",
       "  'lastDurableWallTime': datetime.datetime(2024, 3, 20, 21, 11, 24, 949000)},\n",
       " 'lastStableRecoveryTimestamp': Timestamp(1710969064, 1),\n",
       " 'electionCandidateMetrics': {'lastElectionReason': 'stepUpRequestSkipDryRun',\n",
       "  'lastElectionDate': datetime.datetime(2024, 3, 20, 20, 51, 14, 873000),\n",
       "  'electionTerm': 2,\n",
       "  'lastCommittedOpTimeAtElection': {'ts': Timestamp(1710967870, 1), 't': 1},\n",
       "  'lastSeenOpTimeAtElection': {'ts': Timestamp(1710967870, 1), 't': 1},\n",
       "  'numVotesNeeded': 2,\n",
       "  'priorityAtElection': 1.0,\n",
       "  'electionTimeoutMillis': 10000,\n",
       "  'priorPrimaryMemberId': 0,\n",
       "  'numCatchUpOps': 0,\n",
       "  'newTermStartDate': datetime.datetime(2024, 3, 20, 20, 51, 14, 893000),\n",
       "  'wMajorityWriteAvailabilityDate': datetime.datetime(2024, 3, 20, 20, 51, 14, 899000)},\n",
       " 'electionParticipantMetrics': {'votedForCandidate': True,\n",
       "  'electionTerm': 1,\n",
       "  'lastVoteDate': datetime.datetime(2024, 3, 20, 20, 8, 0, 678000),\n",
       "  'electionCandidateMemberId': 0,\n",
       "  'voteReason': '',\n",
       "  'lastAppliedOpTimeAtElection': {'ts': Timestamp(1710965270, 1), 't': -1},\n",
       "  'maxAppliedOpTimeInSet': {'ts': Timestamp(1710965270, 1), 't': -1},\n",
       "  'priorityAtElection': 1.0},\n",
       " 'members': [{'_id': 0,\n",
       "   'name': 'mongo-node1:27017',\n",
       "   'health': 1.0,\n",
       "   'state': 2,\n",
       "   'stateStr': 'SECONDARY',\n",
       "   'uptime': 266,\n",
       "   'optime': {'ts': Timestamp(1710969084, 1), 't': 2},\n",
       "   'optimeDurable': {'ts': Timestamp(1710969084, 1), 't': 2},\n",
       "   'optimeDate': datetime.datetime(2024, 3, 20, 21, 11, 24),\n",
       "   'optimeDurableDate': datetime.datetime(2024, 3, 20, 21, 11, 24),\n",
       "   'lastAppliedWallTime': datetime.datetime(2024, 3, 20, 21, 11, 24, 949000),\n",
       "   'lastDurableWallTime': datetime.datetime(2024, 3, 20, 21, 11, 24, 949000),\n",
       "   'lastHeartbeat': datetime.datetime(2024, 3, 20, 21, 11, 27, 703000),\n",
       "   'lastHeartbeatRecv': datetime.datetime(2024, 3, 20, 21, 11, 27, 171000),\n",
       "   'pingMs': 0,\n",
       "   'lastHeartbeatMessage': '',\n",
       "   'syncSourceHost': 'mongo-node3:27017',\n",
       "   'syncSourceId': 2,\n",
       "   'infoMessage': '',\n",
       "   'configVersion': 1,\n",
       "   'configTerm': 2},\n",
       "  {'_id': 1,\n",
       "   'name': 'mongo-node2:27017',\n",
       "   'health': 1.0,\n",
       "   'state': 1,\n",
       "   'stateStr': 'PRIMARY',\n",
       "   'uptime': 3993,\n",
       "   'optime': {'ts': Timestamp(1710969084, 1), 't': 2},\n",
       "   'optimeDate': datetime.datetime(2024, 3, 20, 21, 11, 24),\n",
       "   'lastAppliedWallTime': datetime.datetime(2024, 3, 20, 21, 11, 24, 949000),\n",
       "   'lastDurableWallTime': datetime.datetime(2024, 3, 20, 21, 11, 24, 949000),\n",
       "   'syncSourceHost': '',\n",
       "   'syncSourceId': -1,\n",
       "   'infoMessage': '',\n",
       "   'electionTime': Timestamp(1710967874, 1),\n",
       "   'electionDate': datetime.datetime(2024, 3, 20, 20, 51, 14),\n",
       "   'configVersion': 1,\n",
       "   'configTerm': 2,\n",
       "   'self': True,\n",
       "   'lastHeartbeatMessage': ''},\n",
       "  {'_id': 2,\n",
       "   'name': 'mongo-node3:27017',\n",
       "   'health': 1.0,\n",
       "   'state': 2,\n",
       "   'stateStr': 'SECONDARY',\n",
       "   'uptime': 1314,\n",
       "   'optime': {'ts': Timestamp(1710969084, 1), 't': 2},\n",
       "   'optimeDurable': {'ts': Timestamp(1710969084, 1), 't': 2},\n",
       "   'optimeDate': datetime.datetime(2024, 3, 20, 21, 11, 24),\n",
       "   'optimeDurableDate': datetime.datetime(2024, 3, 20, 21, 11, 24),\n",
       "   'lastAppliedWallTime': datetime.datetime(2024, 3, 20, 21, 11, 24, 949000),\n",
       "   'lastDurableWallTime': datetime.datetime(2024, 3, 20, 21, 11, 24, 949000),\n",
       "   'lastHeartbeat': datetime.datetime(2024, 3, 20, 21, 11, 27, 346000),\n",
       "   'lastHeartbeatRecv': datetime.datetime(2024, 3, 20, 21, 11, 27, 342000),\n",
       "   'pingMs': 0,\n",
       "   'lastHeartbeatMessage': '',\n",
       "   'syncSourceHost': 'mongo-node2:27017',\n",
       "   'syncSourceId': 1,\n",
       "   'infoMessage': '',\n",
       "   'configVersion': 1,\n",
       "   'configTerm': 2}],\n",
       " 'ok': 1.0,\n",
       " '$clusterTime': {'clusterTime': Timestamp(1710969084, 1),\n",
       "  'signature': {'hash': b'\\x00\\x00\\x00\\x00\\x00\\x00\\x00\\x00\\x00\\x00\\x00\\x00\\x00\\x00\\x00\\x00\\x00\\x00\\x00\\x00',\n",
       "   'keyId': 0}},\n",
       " 'operationTime': Timestamp(1710969084, 1)}"
      ]
     },
     "execution_count": 117,
     "metadata": {},
     "output_type": "execute_result"
    }
   ],
   "source": [
    "# Перевіремо PRIMARY\n",
    "myclient.admin.command(\"replSetGetStatus\")\n",
    "# Це mongo-node2:27017"
   ]
  },
  {
   "cell_type": "code",
   "execution_count": 128,
   "id": "35787aed",
   "metadata": {},
   "outputs": [
    {
     "name": "stdout",
     "output_type": "stream",
     "text": [
      "InsertOneResult(ObjectId('65fb53f73836103bf9b342af'), acknowledged=True)\n"
     ]
    }
   ],
   "source": [
    "mydb = myclient[\"dd\"]\n",
    "items = mydb.get_collection('items', write_concern=pymongo.WriteConcern(w=1, wtimeout=6000))\n",
    "print(items.insert_one({ 'item': 9, 'qty' : 1000, 'type': \"Clasper\" }))"
   ]
  },
  {
   "cell_type": "code",
   "execution_count": 134,
   "id": "d65d672a",
   "metadata": {},
   "outputs": [
    {
     "name": "stdout",
     "output_type": "stream",
     "text": [
      "{'_id': ObjectId('65fb53f73836103bf9b342af'),\n",
      " 'item': 9,\n",
      " 'qty': 1000,\n",
      " 'type': 'Clasper'}\n"
     ]
    }
   ],
   "source": [
    "items_local = mydb.get_collection('items', read_concern=pymongo.read_concern.ReadConcern(level='local'))\n",
    "pprint(items_local.find_one({'item': 9}))"
   ]
  },
  {
   "cell_type": "code",
   "execution_count": 137,
   "id": "c1df8d5c",
   "metadata": {},
   "outputs": [
    {
     "name": "stdout",
     "output_type": "stream",
     "text": [
      "None\n"
     ]
    }
   ],
   "source": [
    "items_majority = mydb.get_collection('items', read_concern=pymongo.read_concern.ReadConcern(level='majority'))\n",
    "pprint(items_majority.find_one({'item': 9}))"
   ]
  },
  {
   "cell_type": "code",
   "execution_count": 138,
   "id": "168adbfc",
   "metadata": {},
   "outputs": [
    {
     "ename": "NotPrimaryError",
     "evalue": "cannot satisfy linearizable read concern on non-primary node, full error: {'topologyVersion': {'processId': ObjectId('65fb4167f6f0cf4af31b9b95'), 'counter': 16}, 'ok': 0.0, 'errmsg': 'cannot satisfy linearizable read concern on non-primary node', 'code': 10107, 'codeName': 'NotWritablePrimary', '$clusterTime': {'clusterTime': Timestamp(1710969847, 1), 'signature': {'hash': b'\\x00\\x00\\x00\\x00\\x00\\x00\\x00\\x00\\x00\\x00\\x00\\x00\\x00\\x00\\x00\\x00\\x00\\x00\\x00\\x00', 'keyId': 0}}, 'operationTime': Timestamp(1710969847, 1)}",
     "output_type": "error",
     "traceback": [
      "\u001b[1;31m---------------------------------------------------------------------------\u001b[0m",
      "\u001b[1;31mNotPrimaryError\u001b[0m                           Traceback (most recent call last)",
      "\u001b[1;32m<ipython-input-138-e1601eb19212>\u001b[0m in \u001b[0;36m<module>\u001b[1;34m\u001b[0m\n\u001b[0;32m      1\u001b[0m \u001b[0mitems_linearizable\u001b[0m \u001b[1;33m=\u001b[0m \u001b[0mmydb\u001b[0m\u001b[1;33m.\u001b[0m\u001b[0mget_collection\u001b[0m\u001b[1;33m(\u001b[0m\u001b[1;34m'items'\u001b[0m\u001b[1;33m,\u001b[0m \u001b[0mread_concern\u001b[0m\u001b[1;33m=\u001b[0m\u001b[0mpymongo\u001b[0m\u001b[1;33m.\u001b[0m\u001b[0mread_concern\u001b[0m\u001b[1;33m.\u001b[0m\u001b[0mReadConcern\u001b[0m\u001b[1;33m(\u001b[0m\u001b[0mlevel\u001b[0m\u001b[1;33m=\u001b[0m\u001b[1;34m'linearizable'\u001b[0m\u001b[1;33m)\u001b[0m\u001b[1;33m)\u001b[0m\u001b[1;33m\u001b[0m\u001b[1;33m\u001b[0m\u001b[0m\n\u001b[1;32m----> 2\u001b[1;33m \u001b[0mpprint\u001b[0m\u001b[1;33m(\u001b[0m\u001b[0mitems_linearizable\u001b[0m\u001b[1;33m.\u001b[0m\u001b[0mfind_one\u001b[0m\u001b[1;33m(\u001b[0m\u001b[1;33m{\u001b[0m\u001b[1;34m'item'\u001b[0m\u001b[1;33m:\u001b[0m \u001b[1;36m9\u001b[0m\u001b[1;33m}\u001b[0m\u001b[1;33m)\u001b[0m\u001b[1;33m)\u001b[0m\u001b[1;33m\u001b[0m\u001b[1;33m\u001b[0m\u001b[0m\n\u001b[0m",
      "\u001b[1;32m~\\anaconda3\\lib\\site-packages\\pymongo\\collection.py\u001b[0m in \u001b[0;36mfind_one\u001b[1;34m(self, filter, *args, **kwargs)\u001b[0m\n\u001b[0;32m   1504\u001b[0m             \u001b[0mfilter\u001b[0m \u001b[1;33m=\u001b[0m \u001b[1;33m{\u001b[0m\u001b[1;34m\"_id\"\u001b[0m\u001b[1;33m:\u001b[0m \u001b[0mfilter\u001b[0m\u001b[1;33m}\u001b[0m\u001b[1;33m\u001b[0m\u001b[1;33m\u001b[0m\u001b[0m\n\u001b[0;32m   1505\u001b[0m         \u001b[0mcursor\u001b[0m \u001b[1;33m=\u001b[0m \u001b[0mself\u001b[0m\u001b[1;33m.\u001b[0m\u001b[0mfind\u001b[0m\u001b[1;33m(\u001b[0m\u001b[0mfilter\u001b[0m\u001b[1;33m,\u001b[0m \u001b[1;33m*\u001b[0m\u001b[0margs\u001b[0m\u001b[1;33m,\u001b[0m \u001b[1;33m**\u001b[0m\u001b[0mkwargs\u001b[0m\u001b[1;33m)\u001b[0m\u001b[1;33m\u001b[0m\u001b[1;33m\u001b[0m\u001b[0m\n\u001b[1;32m-> 1506\u001b[1;33m         \u001b[1;32mfor\u001b[0m \u001b[0mresult\u001b[0m \u001b[1;32min\u001b[0m \u001b[0mcursor\u001b[0m\u001b[1;33m.\u001b[0m\u001b[0mlimit\u001b[0m\u001b[1;33m(\u001b[0m\u001b[1;33m-\u001b[0m\u001b[1;36m1\u001b[0m\u001b[1;33m)\u001b[0m\u001b[1;33m:\u001b[0m\u001b[1;33m\u001b[0m\u001b[1;33m\u001b[0m\u001b[0m\n\u001b[0m\u001b[0;32m   1507\u001b[0m             \u001b[1;32mreturn\u001b[0m \u001b[0mresult\u001b[0m\u001b[1;33m\u001b[0m\u001b[1;33m\u001b[0m\u001b[0m\n\u001b[0;32m   1508\u001b[0m         \u001b[1;32mreturn\u001b[0m \u001b[1;32mNone\u001b[0m\u001b[1;33m\u001b[0m\u001b[1;33m\u001b[0m\u001b[0m\n",
      "\u001b[1;32m~\\anaconda3\\lib\\site-packages\\pymongo\\cursor.py\u001b[0m in \u001b[0;36mnext\u001b[1;34m(self)\u001b[0m\n\u001b[0;32m   1262\u001b[0m         \u001b[1;32mif\u001b[0m \u001b[0mself\u001b[0m\u001b[1;33m.\u001b[0m\u001b[0m__empty\u001b[0m\u001b[1;33m:\u001b[0m\u001b[1;33m\u001b[0m\u001b[1;33m\u001b[0m\u001b[0m\n\u001b[0;32m   1263\u001b[0m             \u001b[1;32mraise\u001b[0m \u001b[0mStopIteration\u001b[0m\u001b[1;33m\u001b[0m\u001b[1;33m\u001b[0m\u001b[0m\n\u001b[1;32m-> 1264\u001b[1;33m         \u001b[1;32mif\u001b[0m \u001b[0mlen\u001b[0m\u001b[1;33m(\u001b[0m\u001b[0mself\u001b[0m\u001b[1;33m.\u001b[0m\u001b[0m__data\u001b[0m\u001b[1;33m)\u001b[0m \u001b[1;32mor\u001b[0m \u001b[0mself\u001b[0m\u001b[1;33m.\u001b[0m\u001b[0m_refresh\u001b[0m\u001b[1;33m(\u001b[0m\u001b[1;33m)\u001b[0m\u001b[1;33m:\u001b[0m\u001b[1;33m\u001b[0m\u001b[1;33m\u001b[0m\u001b[0m\n\u001b[0m\u001b[0;32m   1265\u001b[0m             \u001b[1;32mreturn\u001b[0m \u001b[0mself\u001b[0m\u001b[1;33m.\u001b[0m\u001b[0m__data\u001b[0m\u001b[1;33m.\u001b[0m\u001b[0mpopleft\u001b[0m\u001b[1;33m(\u001b[0m\u001b[1;33m)\u001b[0m\u001b[1;33m\u001b[0m\u001b[1;33m\u001b[0m\u001b[0m\n\u001b[0;32m   1266\u001b[0m         \u001b[1;32melse\u001b[0m\u001b[1;33m:\u001b[0m\u001b[1;33m\u001b[0m\u001b[1;33m\u001b[0m\u001b[0m\n",
      "\u001b[1;32m~\\anaconda3\\lib\\site-packages\\pymongo\\cursor.py\u001b[0m in \u001b[0;36m_refresh\u001b[1;34m(self)\u001b[0m\n\u001b[0;32m   1179\u001b[0m                 \u001b[0mself\u001b[0m\u001b[1;33m.\u001b[0m\u001b[0m__exhaust\u001b[0m\u001b[1;33m,\u001b[0m\u001b[1;33m\u001b[0m\u001b[1;33m\u001b[0m\u001b[0m\n\u001b[0;32m   1180\u001b[0m             )\n\u001b[1;32m-> 1181\u001b[1;33m             \u001b[0mself\u001b[0m\u001b[1;33m.\u001b[0m\u001b[0m__send_message\u001b[0m\u001b[1;33m(\u001b[0m\u001b[0mq\u001b[0m\u001b[1;33m)\u001b[0m\u001b[1;33m\u001b[0m\u001b[1;33m\u001b[0m\u001b[0m\n\u001b[0m\u001b[0;32m   1182\u001b[0m         \u001b[1;32melif\u001b[0m \u001b[0mself\u001b[0m\u001b[1;33m.\u001b[0m\u001b[0m__id\u001b[0m\u001b[1;33m:\u001b[0m  \u001b[1;31m# Get More\u001b[0m\u001b[1;33m\u001b[0m\u001b[1;33m\u001b[0m\u001b[0m\n\u001b[0;32m   1183\u001b[0m             \u001b[1;32mif\u001b[0m \u001b[0mself\u001b[0m\u001b[1;33m.\u001b[0m\u001b[0m__limit\u001b[0m\u001b[1;33m:\u001b[0m\u001b[1;33m\u001b[0m\u001b[1;33m\u001b[0m\u001b[0m\n",
      "\u001b[1;32m~\\anaconda3\\lib\\site-packages\\pymongo\\cursor.py\u001b[0m in \u001b[0;36m__send_message\u001b[1;34m(self, operation)\u001b[0m\n\u001b[0;32m   1058\u001b[0m \u001b[1;33m\u001b[0m\u001b[0m\n\u001b[0;32m   1059\u001b[0m         \u001b[1;32mtry\u001b[0m\u001b[1;33m:\u001b[0m\u001b[1;33m\u001b[0m\u001b[1;33m\u001b[0m\u001b[0m\n\u001b[1;32m-> 1060\u001b[1;33m             response = client._run_operation(\n\u001b[0m\u001b[0;32m   1061\u001b[0m                 \u001b[0moperation\u001b[0m\u001b[1;33m,\u001b[0m \u001b[0mself\u001b[0m\u001b[1;33m.\u001b[0m\u001b[0m_unpack_response\u001b[0m\u001b[1;33m,\u001b[0m \u001b[0maddress\u001b[0m\u001b[1;33m=\u001b[0m\u001b[0mself\u001b[0m\u001b[1;33m.\u001b[0m\u001b[0m__address\u001b[0m\u001b[1;33m\u001b[0m\u001b[1;33m\u001b[0m\u001b[0m\n\u001b[0;32m   1062\u001b[0m             )\n",
      "\u001b[1;32m~\\anaconda3\\lib\\site-packages\\pymongo\\_csot.py\u001b[0m in \u001b[0;36mcsot_wrapper\u001b[1;34m(self, *args, **kwargs)\u001b[0m\n\u001b[0;32m    105\u001b[0m                 \u001b[1;32mwith\u001b[0m \u001b[0m_TimeoutContext\u001b[0m\u001b[1;33m(\u001b[0m\u001b[0mtimeout\u001b[0m\u001b[1;33m)\u001b[0m\u001b[1;33m:\u001b[0m\u001b[1;33m\u001b[0m\u001b[1;33m\u001b[0m\u001b[0m\n\u001b[0;32m    106\u001b[0m                     \u001b[1;32mreturn\u001b[0m \u001b[0mfunc\u001b[0m\u001b[1;33m(\u001b[0m\u001b[0mself\u001b[0m\u001b[1;33m,\u001b[0m \u001b[1;33m*\u001b[0m\u001b[0margs\u001b[0m\u001b[1;33m,\u001b[0m \u001b[1;33m**\u001b[0m\u001b[0mkwargs\u001b[0m\u001b[1;33m)\u001b[0m\u001b[1;33m\u001b[0m\u001b[1;33m\u001b[0m\u001b[0m\n\u001b[1;32m--> 107\u001b[1;33m         \u001b[1;32mreturn\u001b[0m \u001b[0mfunc\u001b[0m\u001b[1;33m(\u001b[0m\u001b[0mself\u001b[0m\u001b[1;33m,\u001b[0m \u001b[1;33m*\u001b[0m\u001b[0margs\u001b[0m\u001b[1;33m,\u001b[0m \u001b[1;33m**\u001b[0m\u001b[0mkwargs\u001b[0m\u001b[1;33m)\u001b[0m\u001b[1;33m\u001b[0m\u001b[1;33m\u001b[0m\u001b[0m\n\u001b[0m\u001b[0;32m    108\u001b[0m \u001b[1;33m\u001b[0m\u001b[0m\n\u001b[0;32m    109\u001b[0m     \u001b[1;32mreturn\u001b[0m \u001b[0mcast\u001b[0m\u001b[1;33m(\u001b[0m\u001b[0mF\u001b[0m\u001b[1;33m,\u001b[0m \u001b[0mcsot_wrapper\u001b[0m\u001b[1;33m)\u001b[0m\u001b[1;33m\u001b[0m\u001b[1;33m\u001b[0m\u001b[0m\n",
      "\u001b[1;32m~\\anaconda3\\lib\\site-packages\\pymongo\\mongo_client.py\u001b[0m in \u001b[0;36m_run_operation\u001b[1;34m(self, operation, unpack_res, address)\u001b[0m\n\u001b[0;32m   1392\u001b[0m             )\n\u001b[0;32m   1393\u001b[0m \u001b[1;33m\u001b[0m\u001b[0m\n\u001b[1;32m-> 1394\u001b[1;33m         return self._retryable_read(\n\u001b[0m\u001b[0;32m   1395\u001b[0m             \u001b[0m_cmd\u001b[0m\u001b[1;33m,\u001b[0m\u001b[1;33m\u001b[0m\u001b[1;33m\u001b[0m\u001b[0m\n\u001b[0;32m   1396\u001b[0m             \u001b[0moperation\u001b[0m\u001b[1;33m.\u001b[0m\u001b[0mread_preference\u001b[0m\u001b[1;33m,\u001b[0m\u001b[1;33m\u001b[0m\u001b[1;33m\u001b[0m\u001b[0m\n",
      "\u001b[1;32m~\\anaconda3\\lib\\site-packages\\pymongo\\mongo_client.py\u001b[0m in \u001b[0;36m_retryable_read\u001b[1;34m(self, func, read_pref, session, address, retryable)\u001b[0m\n\u001b[0;32m   1490\u001b[0m             \u001b[0mretryable\u001b[0m \u001b[1;32mand\u001b[0m \u001b[0mself\u001b[0m\u001b[1;33m.\u001b[0m\u001b[0moptions\u001b[0m\u001b[1;33m.\u001b[0m\u001b[0mretry_reads\u001b[0m \u001b[1;32mand\u001b[0m \u001b[1;32mnot\u001b[0m \u001b[1;33m(\u001b[0m\u001b[0msession\u001b[0m \u001b[1;32mand\u001b[0m \u001b[0msession\u001b[0m\u001b[1;33m.\u001b[0m\u001b[0min_transaction\u001b[0m\u001b[1;33m)\u001b[0m\u001b[1;33m\u001b[0m\u001b[1;33m\u001b[0m\u001b[0m\n\u001b[0;32m   1491\u001b[0m         )\n\u001b[1;32m-> 1492\u001b[1;33m         return self._retry_internal(\n\u001b[0m\u001b[0;32m   1493\u001b[0m             \u001b[0mfunc\u001b[0m\u001b[1;33m,\u001b[0m\u001b[1;33m\u001b[0m\u001b[1;33m\u001b[0m\u001b[0m\n\u001b[0;32m   1494\u001b[0m             \u001b[0msession\u001b[0m\u001b[1;33m,\u001b[0m\u001b[1;33m\u001b[0m\u001b[1;33m\u001b[0m\u001b[0m\n",
      "\u001b[1;32m~\\anaconda3\\lib\\site-packages\\pymongo\\_csot.py\u001b[0m in \u001b[0;36mcsot_wrapper\u001b[1;34m(self, *args, **kwargs)\u001b[0m\n\u001b[0;32m    105\u001b[0m                 \u001b[1;32mwith\u001b[0m \u001b[0m_TimeoutContext\u001b[0m\u001b[1;33m(\u001b[0m\u001b[0mtimeout\u001b[0m\u001b[1;33m)\u001b[0m\u001b[1;33m:\u001b[0m\u001b[1;33m\u001b[0m\u001b[1;33m\u001b[0m\u001b[0m\n\u001b[0;32m    106\u001b[0m                     \u001b[1;32mreturn\u001b[0m \u001b[0mfunc\u001b[0m\u001b[1;33m(\u001b[0m\u001b[0mself\u001b[0m\u001b[1;33m,\u001b[0m \u001b[1;33m*\u001b[0m\u001b[0margs\u001b[0m\u001b[1;33m,\u001b[0m \u001b[1;33m**\u001b[0m\u001b[0mkwargs\u001b[0m\u001b[1;33m)\u001b[0m\u001b[1;33m\u001b[0m\u001b[1;33m\u001b[0m\u001b[0m\n\u001b[1;32m--> 107\u001b[1;33m         \u001b[1;32mreturn\u001b[0m \u001b[0mfunc\u001b[0m\u001b[1;33m(\u001b[0m\u001b[0mself\u001b[0m\u001b[1;33m,\u001b[0m \u001b[1;33m*\u001b[0m\u001b[0margs\u001b[0m\u001b[1;33m,\u001b[0m \u001b[1;33m**\u001b[0m\u001b[0mkwargs\u001b[0m\u001b[1;33m)\u001b[0m\u001b[1;33m\u001b[0m\u001b[1;33m\u001b[0m\u001b[0m\n\u001b[0m\u001b[0;32m    108\u001b[0m \u001b[1;33m\u001b[0m\u001b[0m\n\u001b[0;32m    109\u001b[0m     \u001b[1;32mreturn\u001b[0m \u001b[0mcast\u001b[0m\u001b[1;33m(\u001b[0m\u001b[0mF\u001b[0m\u001b[1;33m,\u001b[0m \u001b[0mcsot_wrapper\u001b[0m\u001b[1;33m)\u001b[0m\u001b[1;33m\u001b[0m\u001b[1;33m\u001b[0m\u001b[0m\n",
      "\u001b[1;32m~\\anaconda3\\lib\\site-packages\\pymongo\\mongo_client.py\u001b[0m in \u001b[0;36m_retry_internal\u001b[1;34m(self, func, session, bulk, is_read, address, read_pref, retryable)\u001b[0m\n\u001b[0;32m   1451\u001b[0m           \u001b[0mOutput\u001b[0m \u001b[0mof\u001b[0m \u001b[0mthe\u001b[0m \u001b[0mcalling\u001b[0m \u001b[0mfunc\u001b[0m\u001b[1;33m(\u001b[0m\u001b[1;33m)\u001b[0m\u001b[1;33m\u001b[0m\u001b[1;33m\u001b[0m\u001b[0m\n\u001b[0;32m   1452\u001b[0m         \"\"\"\n\u001b[1;32m-> 1453\u001b[1;33m         return _ClientConnectionRetryable(\n\u001b[0m\u001b[0;32m   1454\u001b[0m             \u001b[0mmongo_client\u001b[0m\u001b[1;33m=\u001b[0m\u001b[0mself\u001b[0m\u001b[1;33m,\u001b[0m\u001b[1;33m\u001b[0m\u001b[1;33m\u001b[0m\u001b[0m\n\u001b[0;32m   1455\u001b[0m             \u001b[0mfunc\u001b[0m\u001b[1;33m=\u001b[0m\u001b[0mfunc\u001b[0m\u001b[1;33m,\u001b[0m\u001b[1;33m\u001b[0m\u001b[1;33m\u001b[0m\u001b[0m\n",
      "\u001b[1;32m~\\anaconda3\\lib\\site-packages\\pymongo\\mongo_client.py\u001b[0m in \u001b[0;36mrun\u001b[1;34m(self)\u001b[0m\n\u001b[0;32m   2313\u001b[0m             \u001b[0mself\u001b[0m\u001b[1;33m.\u001b[0m\u001b[0m_check_last_error\u001b[0m\u001b[1;33m(\u001b[0m\u001b[0mcheck_csot\u001b[0m\u001b[1;33m=\u001b[0m\u001b[1;32mTrue\u001b[0m\u001b[1;33m)\u001b[0m\u001b[1;33m\u001b[0m\u001b[1;33m\u001b[0m\u001b[0m\n\u001b[0;32m   2314\u001b[0m             \u001b[1;32mtry\u001b[0m\u001b[1;33m:\u001b[0m\u001b[1;33m\u001b[0m\u001b[1;33m\u001b[0m\u001b[0m\n\u001b[1;32m-> 2315\u001b[1;33m                 \u001b[1;32mreturn\u001b[0m \u001b[0mself\u001b[0m\u001b[1;33m.\u001b[0m\u001b[0m_read\u001b[0m\u001b[1;33m(\u001b[0m\u001b[1;33m)\u001b[0m \u001b[1;32mif\u001b[0m \u001b[0mself\u001b[0m\u001b[1;33m.\u001b[0m\u001b[0m_is_read\u001b[0m \u001b[1;32melse\u001b[0m \u001b[0mself\u001b[0m\u001b[1;33m.\u001b[0m\u001b[0m_write\u001b[0m\u001b[1;33m(\u001b[0m\u001b[1;33m)\u001b[0m\u001b[1;33m\u001b[0m\u001b[1;33m\u001b[0m\u001b[0m\n\u001b[0m\u001b[0;32m   2316\u001b[0m             \u001b[1;32mexcept\u001b[0m \u001b[0mServerSelectionTimeoutError\u001b[0m\u001b[1;33m:\u001b[0m\u001b[1;33m\u001b[0m\u001b[1;33m\u001b[0m\u001b[0m\n\u001b[0;32m   2317\u001b[0m                 \u001b[1;31m# The application may think the write was never attempted\u001b[0m\u001b[1;33m\u001b[0m\u001b[1;33m\u001b[0m\u001b[1;33m\u001b[0m\u001b[0m\n",
      "\u001b[1;32m~\\anaconda3\\lib\\site-packages\\pymongo\\mongo_client.py\u001b[0m in \u001b[0;36m_read\u001b[1;34m(self)\u001b[0m\n\u001b[0;32m   2443\u001b[0m             \u001b[1;32mif\u001b[0m \u001b[0mself\u001b[0m\u001b[1;33m.\u001b[0m\u001b[0m_retrying\u001b[0m \u001b[1;32mand\u001b[0m \u001b[1;32mnot\u001b[0m \u001b[0mself\u001b[0m\u001b[1;33m.\u001b[0m\u001b[0m_retryable\u001b[0m\u001b[1;33m:\u001b[0m\u001b[1;33m\u001b[0m\u001b[1;33m\u001b[0m\u001b[0m\n\u001b[0;32m   2444\u001b[0m                 \u001b[0mself\u001b[0m\u001b[1;33m.\u001b[0m\u001b[0m_check_last_error\u001b[0m\u001b[1;33m(\u001b[0m\u001b[1;33m)\u001b[0m\u001b[1;33m\u001b[0m\u001b[1;33m\u001b[0m\u001b[0m\n\u001b[1;32m-> 2445\u001b[1;33m             \u001b[1;32mreturn\u001b[0m \u001b[0mself\u001b[0m\u001b[1;33m.\u001b[0m\u001b[0m_func\u001b[0m\u001b[1;33m(\u001b[0m\u001b[0mself\u001b[0m\u001b[1;33m.\u001b[0m\u001b[0m_session\u001b[0m\u001b[1;33m,\u001b[0m \u001b[0mself\u001b[0m\u001b[1;33m.\u001b[0m\u001b[0m_server\u001b[0m\u001b[1;33m,\u001b[0m \u001b[0mconn\u001b[0m\u001b[1;33m,\u001b[0m \u001b[0mread_pref\u001b[0m\u001b[1;33m)\u001b[0m  \u001b[1;31m# type: ignore\u001b[0m\u001b[1;33m\u001b[0m\u001b[1;33m\u001b[0m\u001b[0m\n\u001b[0m\u001b[0;32m   2446\u001b[0m \u001b[1;33m\u001b[0m\u001b[0m\n\u001b[0;32m   2447\u001b[0m \u001b[1;33m\u001b[0m\u001b[0m\n",
      "\u001b[1;32m~\\anaconda3\\lib\\site-packages\\pymongo\\mongo_client.py\u001b[0m in \u001b[0;36m_cmd\u001b[1;34m(_session, server, conn, read_preference)\u001b[0m\n\u001b[0;32m   1388\u001b[0m         ) -> Response:\n\u001b[0;32m   1389\u001b[0m             \u001b[0moperation\u001b[0m\u001b[1;33m.\u001b[0m\u001b[0mreset\u001b[0m\u001b[1;33m(\u001b[0m\u001b[1;33m)\u001b[0m  \u001b[1;31m# Reset op in case of retry.\u001b[0m\u001b[1;33m\u001b[0m\u001b[1;33m\u001b[0m\u001b[0m\n\u001b[1;32m-> 1390\u001b[1;33m             return server.run_operation(\n\u001b[0m\u001b[0;32m   1391\u001b[0m                 \u001b[0mconn\u001b[0m\u001b[1;33m,\u001b[0m \u001b[0moperation\u001b[0m\u001b[1;33m,\u001b[0m \u001b[0mread_preference\u001b[0m\u001b[1;33m,\u001b[0m \u001b[0mself\u001b[0m\u001b[1;33m.\u001b[0m\u001b[0m_event_listeners\u001b[0m\u001b[1;33m,\u001b[0m \u001b[0munpack_res\u001b[0m\u001b[1;33m\u001b[0m\u001b[1;33m\u001b[0m\u001b[0m\n\u001b[0;32m   1392\u001b[0m             )\n",
      "\u001b[1;32m~\\anaconda3\\lib\\site-packages\\pymongo\\helpers.py\u001b[0m in \u001b[0;36minner\u001b[1;34m(*args, **kwargs)\u001b[0m\n\u001b[0;32m    320\u001b[0m \u001b[1;33m\u001b[0m\u001b[0m\n\u001b[0;32m    321\u001b[0m         \u001b[1;32mtry\u001b[0m\u001b[1;33m:\u001b[0m\u001b[1;33m\u001b[0m\u001b[1;33m\u001b[0m\u001b[0m\n\u001b[1;32m--> 322\u001b[1;33m             \u001b[1;32mreturn\u001b[0m \u001b[0mfunc\u001b[0m\u001b[1;33m(\u001b[0m\u001b[1;33m*\u001b[0m\u001b[0margs\u001b[0m\u001b[1;33m,\u001b[0m \u001b[1;33m**\u001b[0m\u001b[0mkwargs\u001b[0m\u001b[1;33m)\u001b[0m\u001b[1;33m\u001b[0m\u001b[1;33m\u001b[0m\u001b[0m\n\u001b[0m\u001b[0;32m    323\u001b[0m         \u001b[1;32mexcept\u001b[0m \u001b[0mOperationFailure\u001b[0m \u001b[1;32mas\u001b[0m \u001b[0mexc\u001b[0m\u001b[1;33m:\u001b[0m\u001b[1;33m\u001b[0m\u001b[1;33m\u001b[0m\u001b[0m\n\u001b[0;32m    324\u001b[0m             \u001b[1;32mif\u001b[0m \u001b[0mno_reauth\u001b[0m\u001b[1;33m:\u001b[0m\u001b[1;33m\u001b[0m\u001b[1;33m\u001b[0m\u001b[0m\n",
      "\u001b[1;32m~\\anaconda3\\lib\\site-packages\\pymongo\\server.py\u001b[0m in \u001b[0;36mrun_operation\u001b[1;34m(self, conn, operation, read_preference, listeners, unpack_res)\u001b[0m\n\u001b[0;32m    165\u001b[0m                 \u001b[0mfirst\u001b[0m \u001b[1;33m=\u001b[0m \u001b[0mdocs\u001b[0m\u001b[1;33m[\u001b[0m\u001b[1;36m0\u001b[0m\u001b[1;33m]\u001b[0m\u001b[1;33m\u001b[0m\u001b[1;33m\u001b[0m\u001b[0m\n\u001b[0;32m    166\u001b[0m                 \u001b[0moperation\u001b[0m\u001b[1;33m.\u001b[0m\u001b[0mclient\u001b[0m\u001b[1;33m.\u001b[0m\u001b[0m_process_response\u001b[0m\u001b[1;33m(\u001b[0m\u001b[0mfirst\u001b[0m\u001b[1;33m,\u001b[0m \u001b[0moperation\u001b[0m\u001b[1;33m.\u001b[0m\u001b[0msession\u001b[0m\u001b[1;33m)\u001b[0m\u001b[1;33m\u001b[0m\u001b[1;33m\u001b[0m\u001b[0m\n\u001b[1;32m--> 167\u001b[1;33m                 \u001b[0m_check_command_response\u001b[0m\u001b[1;33m(\u001b[0m\u001b[0mfirst\u001b[0m\u001b[1;33m,\u001b[0m \u001b[0mconn\u001b[0m\u001b[1;33m.\u001b[0m\u001b[0mmax_wire_version\u001b[0m\u001b[1;33m)\u001b[0m\u001b[1;33m\u001b[0m\u001b[1;33m\u001b[0m\u001b[0m\n\u001b[0m\u001b[0;32m    168\u001b[0m         \u001b[1;32mexcept\u001b[0m \u001b[0mException\u001b[0m \u001b[1;32mas\u001b[0m \u001b[0mexc\u001b[0m\u001b[1;33m:\u001b[0m\u001b[1;33m\u001b[0m\u001b[1;33m\u001b[0m\u001b[0m\n\u001b[0;32m    169\u001b[0m             \u001b[1;32mif\u001b[0m \u001b[0mpublish\u001b[0m\u001b[1;33m:\u001b[0m\u001b[1;33m\u001b[0m\u001b[1;33m\u001b[0m\u001b[0m\n",
      "\u001b[1;32m~\\anaconda3\\lib\\site-packages\\pymongo\\helpers.py\u001b[0m in \u001b[0;36m_check_command_response\u001b[1;34m(response, max_wire_version, allowable_errors, parse_write_concern_error)\u001b[0m\n\u001b[0;32m    215\u001b[0m     \u001b[1;32mif\u001b[0m \u001b[0mcode\u001b[0m \u001b[1;32mis\u001b[0m \u001b[1;32mnot\u001b[0m \u001b[1;32mNone\u001b[0m\u001b[1;33m:\u001b[0m\u001b[1;33m\u001b[0m\u001b[1;33m\u001b[0m\u001b[0m\n\u001b[0;32m    216\u001b[0m         \u001b[1;32mif\u001b[0m \u001b[0mcode\u001b[0m \u001b[1;32min\u001b[0m \u001b[0m_NOT_PRIMARY_CODES\u001b[0m\u001b[1;33m:\u001b[0m\u001b[1;33m\u001b[0m\u001b[1;33m\u001b[0m\u001b[0m\n\u001b[1;32m--> 217\u001b[1;33m             \u001b[1;32mraise\u001b[0m \u001b[0mNotPrimaryError\u001b[0m\u001b[1;33m(\u001b[0m\u001b[0merrmsg\u001b[0m\u001b[1;33m,\u001b[0m \u001b[0mresponse\u001b[0m\u001b[1;33m)\u001b[0m\u001b[1;33m\u001b[0m\u001b[1;33m\u001b[0m\u001b[0m\n\u001b[0m\u001b[0;32m    218\u001b[0m     \u001b[1;32melif\u001b[0m \u001b[0mHelloCompat\u001b[0m\u001b[1;33m.\u001b[0m\u001b[0mLEGACY_ERROR\u001b[0m \u001b[1;32min\u001b[0m \u001b[0merrmsg\u001b[0m \u001b[1;32mor\u001b[0m \u001b[1;34m\"node is recovering\"\u001b[0m \u001b[1;32min\u001b[0m \u001b[0merrmsg\u001b[0m\u001b[1;33m:\u001b[0m\u001b[1;33m\u001b[0m\u001b[1;33m\u001b[0m\u001b[0m\n\u001b[0;32m    219\u001b[0m         \u001b[1;32mraise\u001b[0m \u001b[0mNotPrimaryError\u001b[0m\u001b[1;33m(\u001b[0m\u001b[0merrmsg\u001b[0m\u001b[1;33m,\u001b[0m \u001b[0mresponse\u001b[0m\u001b[1;33m)\u001b[0m\u001b[1;33m\u001b[0m\u001b[1;33m\u001b[0m\u001b[0m\n",
      "\u001b[1;31mNotPrimaryError\u001b[0m: cannot satisfy linearizable read concern on non-primary node, full error: {'topologyVersion': {'processId': ObjectId('65fb4167f6f0cf4af31b9b95'), 'counter': 16}, 'ok': 0.0, 'errmsg': 'cannot satisfy linearizable read concern on non-primary node', 'code': 10107, 'codeName': 'NotWritablePrimary', '$clusterTime': {'clusterTime': Timestamp(1710969847, 1), 'signature': {'hash': b'\\x00\\x00\\x00\\x00\\x00\\x00\\x00\\x00\\x00\\x00\\x00\\x00\\x00\\x00\\x00\\x00\\x00\\x00\\x00\\x00', 'keyId': 0}}, 'operationTime': Timestamp(1710969847, 1)}"
     ]
    }
   ],
   "source": [
    "items_linearizable = mydb.get_collection('items', read_concern=pymongo.read_concern.ReadConcern(level='linearizable'))\n",
    "pprint(items_linearizable.find_one({'item': 9}))"
   ]
  },
  {
   "cell_type": "code",
   "execution_count": 140,
   "id": "3f0deda2",
   "metadata": {
    "scrolled": true
   },
   "outputs": [
    {
     "data": {
      "text/plain": [
       "{'set': 'rs0',\n",
       " 'date': datetime.datetime(2024, 3, 20, 21, 29, 34, 306000),\n",
       " 'myState': 2,\n",
       " 'term': 5,\n",
       " 'syncSourceHost': 'mongo-node3:27017',\n",
       " 'syncSourceId': 2,\n",
       " 'heartbeatIntervalMillis': 2000,\n",
       " 'majorityVoteCount': 2,\n",
       " 'writeMajorityCount': 2,\n",
       " 'votingMembersCount': 3,\n",
       " 'writableVotingMembersCount': 3,\n",
       " 'optimes': {'lastCommittedOpTime': {'ts': Timestamp(1710970170, 1), 't': 5},\n",
       "  'lastCommittedWallTime': datetime.datetime(2024, 3, 20, 21, 29, 30, 595000),\n",
       "  'readConcernMajorityOpTime': {'ts': Timestamp(1710970170, 1), 't': 5},\n",
       "  'appliedOpTime': {'ts': Timestamp(1710970170, 1), 't': 5},\n",
       "  'durableOpTime': {'ts': Timestamp(1710970170, 1), 't': 5},\n",
       "  'lastAppliedWallTime': datetime.datetime(2024, 3, 20, 21, 29, 30, 595000),\n",
       "  'lastDurableWallTime': datetime.datetime(2024, 3, 20, 21, 29, 30, 595000)},\n",
       " 'lastStableRecoveryTimestamp': Timestamp(1710970130, 1),\n",
       " 'electionParticipantMetrics': {'votedForCandidate': True,\n",
       "  'electionTerm': 5,\n",
       "  'lastVoteDate': datetime.datetime(2024, 3, 20, 21, 27, 10, 550000),\n",
       "  'electionCandidateMemberId': 2,\n",
       "  'voteReason': '',\n",
       "  'lastAppliedOpTimeAtElection': {'ts': Timestamp(1710969836, 1), 't': 4},\n",
       "  'maxAppliedOpTimeInSet': {'ts': Timestamp(1710969836, 1), 't': 4},\n",
       "  'priorityAtElection': 1.0,\n",
       "  'newTermStartDate': datetime.datetime(2024, 3, 20, 21, 27, 20, 586000),\n",
       "  'newTermAppliedDate': datetime.datetime(2024, 3, 20, 21, 27, 20, 598000)},\n",
       " 'members': [{'_id': 0,\n",
       "   'name': 'mongo-node1:27017',\n",
       "   'health': 1.0,\n",
       "   'state': 2,\n",
       "   'stateStr': 'SECONDARY',\n",
       "   'uptime': 222,\n",
       "   'optime': {'ts': Timestamp(1710970170, 1), 't': 5},\n",
       "   'optimeDate': datetime.datetime(2024, 3, 20, 21, 29, 30),\n",
       "   'lastAppliedWallTime': datetime.datetime(2024, 3, 20, 21, 29, 30, 595000),\n",
       "   'lastDurableWallTime': datetime.datetime(2024, 3, 20, 21, 29, 30, 595000),\n",
       "   'syncSourceHost': 'mongo-node3:27017',\n",
       "   'syncSourceId': 2,\n",
       "   'infoMessage': '',\n",
       "   'configVersion': 1,\n",
       "   'configTerm': 5,\n",
       "   'self': True,\n",
       "   'lastHeartbeatMessage': ''},\n",
       "  {'_id': 1,\n",
       "   'name': 'mongo-node2:27017',\n",
       "   'health': 0.0,\n",
       "   'state': 8,\n",
       "   'stateStr': '(not reachable/healthy)',\n",
       "   'uptime': 0,\n",
       "   'optime': {'ts': Timestamp(0, 0), 't': -1},\n",
       "   'optimeDurable': {'ts': Timestamp(0, 0), 't': -1},\n",
       "   'optimeDate': datetime.datetime(1970, 1, 1, 0, 0),\n",
       "   'optimeDurableDate': datetime.datetime(1970, 1, 1, 0, 0),\n",
       "   'lastAppliedWallTime': datetime.datetime(1970, 1, 1, 0, 0),\n",
       "   'lastDurableWallTime': datetime.datetime(1970, 1, 1, 0, 0),\n",
       "   'lastHeartbeat': datetime.datetime(2024, 3, 20, 21, 29, 29, 197000),\n",
       "   'lastHeartbeatRecv': datetime.datetime(1970, 1, 1, 0, 0),\n",
       "   'pingMs': 0,\n",
       "   'lastHeartbeatMessage': \"Couldn't get a connection within the time limit\",\n",
       "   'syncSourceHost': '',\n",
       "   'syncSourceId': -1,\n",
       "   'infoMessage': '',\n",
       "   'configVersion': -1,\n",
       "   'configTerm': -1},\n",
       "  {'_id': 2,\n",
       "   'name': 'mongo-node3:27017',\n",
       "   'health': 1.0,\n",
       "   'state': 1,\n",
       "   'stateStr': 'PRIMARY',\n",
       "   'uptime': 145,\n",
       "   'optime': {'ts': Timestamp(1710970170, 1), 't': 5},\n",
       "   'optimeDurable': {'ts': Timestamp(1710970170, 1), 't': 5},\n",
       "   'optimeDate': datetime.datetime(2024, 3, 20, 21, 29, 30),\n",
       "   'optimeDurableDate': datetime.datetime(2024, 3, 20, 21, 29, 30),\n",
       "   'lastAppliedWallTime': datetime.datetime(2024, 3, 20, 21, 29, 30, 595000),\n",
       "   'lastDurableWallTime': datetime.datetime(2024, 3, 20, 21, 29, 30, 595000),\n",
       "   'lastHeartbeat': datetime.datetime(2024, 3, 20, 21, 29, 33, 137000),\n",
       "   'lastHeartbeatRecv': datetime.datetime(2024, 3, 20, 21, 29, 32, 637000),\n",
       "   'pingMs': 0,\n",
       "   'lastHeartbeatMessage': '',\n",
       "   'syncSourceHost': '',\n",
       "   'syncSourceId': -1,\n",
       "   'infoMessage': '',\n",
       "   'electionTime': Timestamp(1710970030, 1),\n",
       "   'electionDate': datetime.datetime(2024, 3, 20, 21, 27, 10),\n",
       "   'configVersion': 1,\n",
       "   'configTerm': 5}],\n",
       " 'ok': 1.0,\n",
       " '$clusterTime': {'clusterTime': Timestamp(1710970170, 1),\n",
       "  'signature': {'hash': b'\\x00\\x00\\x00\\x00\\x00\\x00\\x00\\x00\\x00\\x00\\x00\\x00\\x00\\x00\\x00\\x00\\x00\\x00\\x00\\x00',\n",
       "   'keyId': 0}},\n",
       " 'operationTime': Timestamp(1710970170, 1)}"
      ]
     },
     "execution_count": 140,
     "metadata": {},
     "output_type": "execute_result"
    }
   ],
   "source": [
    "# Виключаю PRIMARY і включаю СЕКОНДАРІ\n",
    "myclient_1 = pymongo.MongoClient(\"mongodb://localhost:27017/?directConnection=true\")\n",
    "myclient_1.admin.command(\"replSetGetStatus\")"
   ]
  },
  {
   "cell_type": "code",
   "execution_count": 143,
   "id": "a7f4cb71",
   "metadata": {},
   "outputs": [
    {
     "name": "stdout",
     "output_type": "stream",
     "text": [
      "None\n"
     ]
    }
   ],
   "source": [
    "# Включаю знов другу\n",
    "myclient_2 = pymongo.MongoClient(\"mongodb://localhost:27018/?directConnection=true\")\n",
    "mydb_2 = myclient_2['dd']\n",
    "items_local = mydb_2.get_collection('items', read_concern=pymongo.read_concern.ReadConcern(level='local'))\n",
    "pprint(items_local.find_one({'item': 9}))\n",
    "\n",
    "# Запису немає"
   ]
  },
  {
   "cell_type": "markdown",
   "id": "b8fcc863",
   "metadata": {},
   "source": [
    "### 7. Земулювати eventual consistency за допомогою установки затримки реплікації для репліки https://docs.mongodb.com/manual/tutorial/configure-a-delayed-replica-set-member/ \n"
   ]
  },
  {
   "cell_type": "code",
   "execution_count": 147,
   "id": "c701e705",
   "metadata": {
    "scrolled": true
   },
   "outputs": [
    {
     "data": {
      "text/plain": [
       "{'set': 'rs0',\n",
       " 'date': datetime.datetime(2024, 3, 20, 22, 6, 38, 887000),\n",
       " 'myState': 2,\n",
       " 'term': 5,\n",
       " 'syncSourceHost': 'mongo-node3:27017',\n",
       " 'syncSourceId': 2,\n",
       " 'heartbeatIntervalMillis': 2000,\n",
       " 'majorityVoteCount': 2,\n",
       " 'writeMajorityCount': 2,\n",
       " 'votingMembersCount': 3,\n",
       " 'writableVotingMembersCount': 3,\n",
       " 'optimes': {'lastCommittedOpTime': {'ts': Timestamp(1710972390, 1), 't': 5},\n",
       "  'lastCommittedWallTime': datetime.datetime(2024, 3, 20, 22, 6, 30, 698000),\n",
       "  'readConcernMajorityOpTime': {'ts': Timestamp(1710972390, 1), 't': 5},\n",
       "  'appliedOpTime': {'ts': Timestamp(1710972390, 1), 't': 5},\n",
       "  'durableOpTime': {'ts': Timestamp(1710972390, 1), 't': 5},\n",
       "  'lastAppliedWallTime': datetime.datetime(2024, 3, 20, 22, 6, 30, 698000),\n",
       "  'lastDurableWallTime': datetime.datetime(2024, 3, 20, 22, 6, 30, 698000)},\n",
       " 'lastStableRecoveryTimestamp': Timestamp(1710972350, 1),\n",
       " 'electionParticipantMetrics': {'votedForCandidate': True,\n",
       "  'electionTerm': 5,\n",
       "  'lastVoteDate': datetime.datetime(2024, 3, 20, 21, 27, 10, 550000),\n",
       "  'electionCandidateMemberId': 2,\n",
       "  'voteReason': '',\n",
       "  'lastAppliedOpTimeAtElection': {'ts': Timestamp(1710969836, 1), 't': 4},\n",
       "  'maxAppliedOpTimeInSet': {'ts': Timestamp(1710969836, 1), 't': 4},\n",
       "  'priorityAtElection': 1.0,\n",
       "  'newTermStartDate': datetime.datetime(2024, 3, 20, 21, 27, 20, 586000),\n",
       "  'newTermAppliedDate': datetime.datetime(2024, 3, 20, 21, 27, 20, 598000)},\n",
       " 'members': [{'_id': 0,\n",
       "   'name': 'mongo-node1:27017',\n",
       "   'health': 1.0,\n",
       "   'state': 2,\n",
       "   'stateStr': 'SECONDARY',\n",
       "   'uptime': 2446,\n",
       "   'optime': {'ts': Timestamp(1710972390, 1), 't': 5},\n",
       "   'optimeDate': datetime.datetime(2024, 3, 20, 22, 6, 30),\n",
       "   'lastAppliedWallTime': datetime.datetime(2024, 3, 20, 22, 6, 30, 698000),\n",
       "   'lastDurableWallTime': datetime.datetime(2024, 3, 20, 22, 6, 30, 698000),\n",
       "   'syncSourceHost': 'mongo-node3:27017',\n",
       "   'syncSourceId': 2,\n",
       "   'infoMessage': '',\n",
       "   'configVersion': 1,\n",
       "   'configTerm': 5,\n",
       "   'self': True,\n",
       "   'lastHeartbeatMessage': ''},\n",
       "  {'_id': 1,\n",
       "   'name': 'mongo-node2:27017',\n",
       "   'health': 1.0,\n",
       "   'state': 2,\n",
       "   'stateStr': 'SECONDARY',\n",
       "   'uptime': 2200,\n",
       "   'optime': {'ts': Timestamp(1710972390, 1), 't': 5},\n",
       "   'optimeDurable': {'ts': Timestamp(1710972390, 1), 't': 5},\n",
       "   'optimeDate': datetime.datetime(2024, 3, 20, 22, 6, 30),\n",
       "   'optimeDurableDate': datetime.datetime(2024, 3, 20, 22, 6, 30),\n",
       "   'lastAppliedWallTime': datetime.datetime(2024, 3, 20, 22, 6, 30, 698000),\n",
       "   'lastDurableWallTime': datetime.datetime(2024, 3, 20, 22, 6, 30, 698000),\n",
       "   'lastHeartbeat': datetime.datetime(2024, 3, 20, 22, 6, 38, 866000),\n",
       "   'lastHeartbeatRecv': datetime.datetime(2024, 3, 20, 22, 6, 38, 349000),\n",
       "   'pingMs': 0,\n",
       "   'lastHeartbeatMessage': '',\n",
       "   'syncSourceHost': 'mongo-node3:27017',\n",
       "   'syncSourceId': 2,\n",
       "   'infoMessage': '',\n",
       "   'configVersion': 1,\n",
       "   'configTerm': 5},\n",
       "  {'_id': 2,\n",
       "   'name': 'mongo-node3:27017',\n",
       "   'health': 1.0,\n",
       "   'state': 1,\n",
       "   'stateStr': 'PRIMARY',\n",
       "   'uptime': 2370,\n",
       "   'optime': {'ts': Timestamp(1710972390, 1), 't': 5},\n",
       "   'optimeDurable': {'ts': Timestamp(1710972390, 1), 't': 5},\n",
       "   'optimeDate': datetime.datetime(2024, 3, 20, 22, 6, 30),\n",
       "   'optimeDurableDate': datetime.datetime(2024, 3, 20, 22, 6, 30),\n",
       "   'lastAppliedWallTime': datetime.datetime(2024, 3, 20, 22, 6, 30, 698000),\n",
       "   'lastDurableWallTime': datetime.datetime(2024, 3, 20, 22, 6, 30, 698000),\n",
       "   'lastHeartbeat': datetime.datetime(2024, 3, 20, 22, 6, 37, 848000),\n",
       "   'lastHeartbeatRecv': datetime.datetime(2024, 3, 20, 22, 6, 37, 436000),\n",
       "   'pingMs': 0,\n",
       "   'lastHeartbeatMessage': '',\n",
       "   'syncSourceHost': '',\n",
       "   'syncSourceId': -1,\n",
       "   'infoMessage': '',\n",
       "   'electionTime': Timestamp(1710970030, 1),\n",
       "   'electionDate': datetime.datetime(2024, 3, 20, 21, 27, 10),\n",
       "   'configVersion': 1,\n",
       "   'configTerm': 5}],\n",
       " 'ok': 1.0,\n",
       " '$clusterTime': {'clusterTime': Timestamp(1710972390, 1),\n",
       "  'signature': {'hash': b'\\x00\\x00\\x00\\x00\\x00\\x00\\x00\\x00\\x00\\x00\\x00\\x00\\x00\\x00\\x00\\x00\\x00\\x00\\x00\\x00',\n",
       "   'keyId': 0}},\n",
       " 'operationTime': Timestamp(1710972390, 1)}"
      ]
     },
     "execution_count": 147,
     "metadata": {},
     "output_type": "execute_result"
    }
   ],
   "source": [
    "# Знайдемо PRIMARY\n",
    "myclient = pymongo.MongoClient(\"mongodb://localhost:27017/?directConnection=true\")\n",
    "myclient.admin.command(\"replSetGetStatus\")"
   ]
  },
  {
   "cell_type": "code",
   "execution_count": 155,
   "id": "5939e3e2",
   "metadata": {},
   "outputs": [
    {
     "data": {
      "text/plain": [
       "{'ok': 1.0,\n",
       " '$clusterTime': {'clusterTime': Timestamp(1710972844, 1),\n",
       "  'signature': {'hash': b'\\x00\\x00\\x00\\x00\\x00\\x00\\x00\\x00\\x00\\x00\\x00\\x00\\x00\\x00\\x00\\x00\\x00\\x00\\x00\\x00',\n",
       "   'keyId': 0}},\n",
       " 'operationTime': Timestamp(1710972844, 1)}"
      ]
     },
     "execution_count": 155,
     "metadata": {},
     "output_type": "execute_result"
    }
   ],
   "source": [
    "# myclient = pymongo.MongoClient(\"mongodb://localhost:27019/?directConnection=true\")\n",
    "\n",
    "cfg = myclient.admin.command('replSetGetConfig')['config']\n",
    "\n",
    "cfg['version'] += 1\n",
    "cfg['members'][1]['priority'] = 0\n",
    "cfg['members'][1]['hidden'] = True\n",
    "cfg['members'][1]['secondaryDelaySecs'] = 30\n",
    "\n",
    "myclient.admin.command('replSetReconfig', cfg)"
   ]
  },
  {
   "cell_type": "markdown",
   "id": "e3220e0d",
   "metadata": {},
   "source": [
    "### 8. Лишити primary та secondary  для якої налаштована затримка реплікації (інший secondary відключити). Записати декілька значень. Спробувати прочитати значення з readConcern: {level: \"linearizable\"}\n",
    "Має бути затримка поки значення не реплікуються на більшість нод\n"
   ]
  },
  {
   "cell_type": "code",
   "execution_count": 154,
   "id": "dd0f82d2",
   "metadata": {
    "scrolled": true
   },
   "outputs": [
    {
     "data": {
      "text/plain": [
       "{'set': 'rs0',\n",
       " 'date': datetime.datetime(2024, 3, 20, 22, 12, 11, 138000),\n",
       " 'myState': 1,\n",
       " 'term': 5,\n",
       " 'syncSourceHost': '',\n",
       " 'syncSourceId': -1,\n",
       " 'heartbeatIntervalMillis': 2000,\n",
       " 'majorityVoteCount': 2,\n",
       " 'writeMajorityCount': 2,\n",
       " 'votingMembersCount': 3,\n",
       " 'writableVotingMembersCount': 3,\n",
       " 'optimes': {'lastCommittedOpTime': {'ts': Timestamp(1710972700, 1), 't': 5},\n",
       "  'lastCommittedWallTime': datetime.datetime(2024, 3, 20, 22, 11, 40, 711000),\n",
       "  'readConcernMajorityOpTime': {'ts': Timestamp(1710972700, 1), 't': 5},\n",
       "  'appliedOpTime': {'ts': Timestamp(1710972730, 1), 't': 5},\n",
       "  'durableOpTime': {'ts': Timestamp(1710972730, 1), 't': 5},\n",
       "  'lastAppliedWallTime': datetime.datetime(2024, 3, 20, 22, 12, 10, 712000),\n",
       "  'lastDurableWallTime': datetime.datetime(2024, 3, 20, 22, 12, 10, 712000)},\n",
       " 'lastStableRecoveryTimestamp': Timestamp(1710972700, 1),\n",
       " 'electionCandidateMetrics': {'lastElectionReason': 'electionTimeout',\n",
       "  'lastElectionDate': datetime.datetime(2024, 3, 20, 21, 27, 10, 547000),\n",
       "  'electionTerm': 5,\n",
       "  'lastCommittedOpTimeAtElection': {'ts': Timestamp(0, 0), 't': -1},\n",
       "  'lastSeenOpTimeAtElection': {'ts': Timestamp(1710969836, 1), 't': 4},\n",
       "  'numVotesNeeded': 2,\n",
       "  'priorityAtElection': 1.0,\n",
       "  'electionTimeoutMillis': 10000,\n",
       "  'numCatchUpOps': 0,\n",
       "  'newTermStartDate': datetime.datetime(2024, 3, 20, 21, 27, 20, 586000),\n",
       "  'wMajorityWriteAvailabilityDate': datetime.datetime(2024, 3, 20, 21, 27, 20, 604000)},\n",
       " 'members': [{'_id': 0,\n",
       "   'name': 'mongo-node1:27017',\n",
       "   'health': 0.0,\n",
       "   'state': 8,\n",
       "   'stateStr': '(not reachable/healthy)',\n",
       "   'uptime': 0,\n",
       "   'optime': {'ts': Timestamp(0, 0), 't': -1},\n",
       "   'optimeDurable': {'ts': Timestamp(0, 0), 't': -1},\n",
       "   'optimeDate': datetime.datetime(1970, 1, 1, 0, 0),\n",
       "   'optimeDurableDate': datetime.datetime(1970, 1, 1, 0, 0),\n",
       "   'lastAppliedWallTime': datetime.datetime(2024, 3, 20, 22, 11, 40, 711000),\n",
       "   'lastDurableWallTime': datetime.datetime(2024, 3, 20, 22, 11, 40, 711000),\n",
       "   'lastHeartbeat': datetime.datetime(2024, 3, 20, 22, 12, 4, 920000),\n",
       "   'lastHeartbeatRecv': datetime.datetime(2024, 3, 20, 22, 11, 40, 924000),\n",
       "   'pingMs': 0,\n",
       "   'lastHeartbeatMessage': \"Couldn't get a connection within the time limit\",\n",
       "   'syncSourceHost': '',\n",
       "   'syncSourceId': -1,\n",
       "   'infoMessage': '',\n",
       "   'configVersion': 2,\n",
       "   'configTerm': 5},\n",
       "  {'_id': 1,\n",
       "   'name': 'mongo-node2:27017',\n",
       "   'health': 1.0,\n",
       "   'state': 2,\n",
       "   'stateStr': 'SECONDARY',\n",
       "   'uptime': 2532,\n",
       "   'optime': {'ts': Timestamp(1710972648, 1), 't': 5},\n",
       "   'optimeDurable': {'ts': Timestamp(1710972648, 1), 't': 5},\n",
       "   'optimeDate': datetime.datetime(2024, 3, 20, 22, 10, 48),\n",
       "   'optimeDurableDate': datetime.datetime(2024, 3, 20, 22, 10, 48),\n",
       "   'lastAppliedWallTime': datetime.datetime(2024, 3, 20, 22, 10, 48, 894000),\n",
       "   'lastDurableWallTime': datetime.datetime(2024, 3, 20, 22, 10, 48, 894000),\n",
       "   'lastHeartbeat': datetime.datetime(2024, 3, 20, 22, 12, 10, 929000),\n",
       "   'lastHeartbeatRecv': datetime.datetime(2024, 3, 20, 22, 12, 10, 932000),\n",
       "   'pingMs': 0,\n",
       "   'lastHeartbeatMessage': '',\n",
       "   'syncSourceHost': 'mongo-node3:27017',\n",
       "   'syncSourceId': 2,\n",
       "   'infoMessage': '',\n",
       "   'configVersion': 2,\n",
       "   'configTerm': 5},\n",
       "  {'_id': 2,\n",
       "   'name': 'mongo-node3:27017',\n",
       "   'health': 1.0,\n",
       "   'state': 1,\n",
       "   'stateStr': 'PRIMARY',\n",
       "   'uptime': 2777,\n",
       "   'optime': {'ts': Timestamp(1710972730, 1), 't': 5},\n",
       "   'optimeDate': datetime.datetime(2024, 3, 20, 22, 12, 10),\n",
       "   'lastAppliedWallTime': datetime.datetime(2024, 3, 20, 22, 12, 10, 712000),\n",
       "   'lastDurableWallTime': datetime.datetime(2024, 3, 20, 22, 12, 10, 712000),\n",
       "   'syncSourceHost': '',\n",
       "   'syncSourceId': -1,\n",
       "   'infoMessage': '',\n",
       "   'electionTime': Timestamp(1710970030, 1),\n",
       "   'electionDate': datetime.datetime(2024, 3, 20, 21, 27, 10),\n",
       "   'configVersion': 2,\n",
       "   'configTerm': 5,\n",
       "   'self': True,\n",
       "   'lastHeartbeatMessage': ''}],\n",
       " 'ok': 1.0,\n",
       " '$clusterTime': {'clusterTime': Timestamp(1710972730, 1),\n",
       "  'signature': {'hash': b'\\x00\\x00\\x00\\x00\\x00\\x00\\x00\\x00\\x00\\x00\\x00\\x00\\x00\\x00\\x00\\x00\\x00\\x00\\x00\\x00',\n",
       "   'keyId': 0}},\n",
       " 'operationTime': Timestamp(1710972730, 1)}"
      ]
     },
     "execution_count": 154,
     "metadata": {},
     "output_type": "execute_result"
    }
   ],
   "source": [
    "# Вимикаю один із секондарі\n",
    "# myclient = pymongo.MongoClient(\"mongodb://localhost:27019/?directConnection=true\")\n",
    "myclient.admin.command(\"replSetGetStatus\")"
   ]
  },
  {
   "cell_type": "code",
   "execution_count": 158,
   "id": "453a52be",
   "metadata": {},
   "outputs": [
    {
     "name": "stdout",
     "output_type": "stream",
     "text": [
      "InsertManyResult([ObjectId('65fb60ec3836103bf9b342bd'), ObjectId('65fb60ec3836103bf9b342be'), ObjectId('65fb60ec3836103bf9b342bf')], acknowledged=True)\n",
      "{'_id': ObjectId('65fb60ec3836103bf9b342bd'),\n",
      " 'item': 23,\n",
      " 'qty': 1000,\n",
      " 'type': 'Clasper'}\n",
      "30.01  seconds\n"
     ]
    }
   ],
   "source": [
    "# Додамо докемунтів\n",
    "mydb = myclient[\"dd\"]\n",
    "items = mydb['items']\n",
    "\n",
    "print(items.insert_many([{ 'item': 23, 'qty' : 1000, 'type': \"Clasper\" },\n",
    "                         { 'item': 24, 'qty' : 1000, 'type': \"Clasper\" },\n",
    "                         { 'item': 25, 'qty' : 1000, 'type': \"Clasper\" }]))\n",
    "\n",
    "\n",
    "start_time = time.time()\n",
    "\n",
    "items_linearizable = mydb.get_collection('items', read_concern=pymongo.read_concern.ReadConcern(level='linearizable'))\n",
    "pprint(items_linearizable.find_one({'item': 23}))\n",
    "\n",
    "print(round(time.time() - start_time, 2), ' seconds')"
   ]
  },
  {
   "cell_type": "code",
   "execution_count": 159,
   "id": "a6d27b69",
   "metadata": {},
   "outputs": [],
   "source": [
    "# Як раз затримка на 30 секунд"
   ]
  },
  {
   "cell_type": "code",
   "execution_count": null,
   "id": "2886100d",
   "metadata": {},
   "outputs": [],
   "source": []
  }
 ],
 "metadata": {
  "kernelspec": {
   "display_name": "Python 3",
   "language": "python",
   "name": "python3"
  },
  "language_info": {
   "codemirror_mode": {
    "name": "ipython",
    "version": 3
   },
   "file_extension": ".py",
   "mimetype": "text/x-python",
   "name": "python",
   "nbconvert_exporter": "python",
   "pygments_lexer": "ipython3",
   "version": "3.8.8"
  }
 },
 "nbformat": 4,
 "nbformat_minor": 5
}
